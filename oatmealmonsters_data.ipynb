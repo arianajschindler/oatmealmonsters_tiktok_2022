{
  "nbformat": 4,
  "nbformat_minor": 0,
  "metadata": {
    "colab": {
      "name": "oatmealmonsters_data",
      "provenance": [],
      "authorship_tag": "ABX9TyMNxbuynsiFqwBgtC1kjCdz",
      "include_colab_link": true
    },
    "kernelspec": {
      "name": "python3",
      "display_name": "Python 3"
    },
    "language_info": {
      "name": "python"
    }
  },
  "cells": [
    {
      "cell_type": "markdown",
      "metadata": {
        "id": "view-in-github",
        "colab_type": "text"
      },
      "source": [
        "<a href=\"https://colab.research.google.com/github/arianajschindler/oatmealmonsters_tiktok_2022/blob/main/oatmealmonsters_data.ipynb\" target=\"_parent\"><img src=\"https://colab.research.google.com/assets/colab-badge.svg\" alt=\"Open In Colab\"/></a>"
      ]
    },
    {
      "cell_type": "markdown",
      "source": [
        "# Oatmealmonsters TikTok Video Analysis"
      ],
      "metadata": {
        "id": "JvW1Z37auBKE"
      }
    },
    {
      "cell_type": "code",
      "execution_count": 21,
      "metadata": {
        "colab": {
          "base_uri": "https://localhost:8080/",
          "height": 223
        },
        "id": "byXALcZL-vgr",
        "outputId": "94bf6de4-b1b5-45ff-eaec-58d685acd94c"
      },
      "outputs": [
        {
          "output_type": "stream",
          "name": "stdout",
          "text": [
            "Drive already mounted at /gdrive; to attempt to forcibly remount, call drive.mount(\"/gdrive\", force_remount=True).\n"
          ]
        },
        {
          "output_type": "execute_result",
          "data": {
            "text/html": [
              "\n",
              "  <div id=\"df-43ede955-49a0-465b-bbfb-3fd18fcd4711\">\n",
              "    <div class=\"colab-df-container\">\n",
              "      <div>\n",
              "<style scoped>\n",
              "    .dataframe tbody tr th:only-of-type {\n",
              "        vertical-align: middle;\n",
              "    }\n",
              "\n",
              "    .dataframe tbody tr th {\n",
              "        vertical-align: top;\n",
              "    }\n",
              "\n",
              "    .dataframe thead th {\n",
              "        text-align: right;\n",
              "    }\n",
              "</style>\n",
              "<table border=\"1\" class=\"dataframe\">\n",
              "  <thead>\n",
              "    <tr style=\"text-align: right;\">\n",
              "      <th></th>\n",
              "      <th>date</th>\n",
              "      <th>hour</th>\n",
              "      <th>category</th>\n",
              "      <th>duration</th>\n",
              "      <th>average_watch_time_seconds</th>\n",
              "      <th>percent_watched_full</th>\n",
              "      <th>plays</th>\n",
              "      <th>likes</th>\n",
              "      <th>comments</th>\n",
              "      <th>shares</th>\n",
              "      <th>voiceover</th>\n",
              "      <th>in_video_text</th>\n",
              "      <th>captions</th>\n",
              "      <th>viral</th>\n",
              "    </tr>\n",
              "  </thead>\n",
              "  <tbody>\n",
              "    <tr>\n",
              "      <th>0</th>\n",
              "      <td>05/12/2021</td>\n",
              "      <td>2100</td>\n",
              "      <td>cooking prep</td>\n",
              "      <td>55.70</td>\n",
              "      <td>26.6</td>\n",
              "      <td>16.14</td>\n",
              "      <td>63300.0</td>\n",
              "      <td>3278</td>\n",
              "      <td>28</td>\n",
              "      <td>237</td>\n",
              "      <td>yes</td>\n",
              "      <td>no</td>\n",
              "      <td>yes</td>\n",
              "      <td>0</td>\n",
              "    </tr>\n",
              "    <tr>\n",
              "      <th>1</th>\n",
              "      <td>05/13/2021</td>\n",
              "      <td>800</td>\n",
              "      <td>how to</td>\n",
              "      <td>59.19</td>\n",
              "      <td>24.7</td>\n",
              "      <td>16.52</td>\n",
              "      <td>80900.0</td>\n",
              "      <td>3582</td>\n",
              "      <td>59</td>\n",
              "      <td>235</td>\n",
              "      <td>yes</td>\n",
              "      <td>no</td>\n",
              "      <td>no</td>\n",
              "      <td>0</td>\n",
              "    </tr>\n",
              "    <tr>\n",
              "      <th>2</th>\n",
              "      <td>05/13/2021</td>\n",
              "      <td>1200</td>\n",
              "      <td>dinner prep</td>\n",
              "      <td>56.38</td>\n",
              "      <td>25.2</td>\n",
              "      <td>23.93</td>\n",
              "      <td>63300.0</td>\n",
              "      <td>3466</td>\n",
              "      <td>28</td>\n",
              "      <td>311</td>\n",
              "      <td>yes</td>\n",
              "      <td>yes</td>\n",
              "      <td>yes</td>\n",
              "      <td>0</td>\n",
              "    </tr>\n",
              "    <tr>\n",
              "      <th>3</th>\n",
              "      <td>05/14/2021</td>\n",
              "      <td>1200</td>\n",
              "      <td>how to</td>\n",
              "      <td>35.48</td>\n",
              "      <td>22.7</td>\n",
              "      <td>29.95</td>\n",
              "      <td>59500.0</td>\n",
              "      <td>3622</td>\n",
              "      <td>54</td>\n",
              "      <td>227</td>\n",
              "      <td>yes</td>\n",
              "      <td>no</td>\n",
              "      <td>yes</td>\n",
              "      <td>0</td>\n",
              "    </tr>\n",
              "    <tr>\n",
              "      <th>4</th>\n",
              "      <td>05/14/2021</td>\n",
              "      <td>1100</td>\n",
              "      <td>dinner prep</td>\n",
              "      <td>59.19</td>\n",
              "      <td>29.6</td>\n",
              "      <td>35.36</td>\n",
              "      <td>77700.0</td>\n",
              "      <td>5009</td>\n",
              "      <td>65</td>\n",
              "      <td>403</td>\n",
              "      <td>yes</td>\n",
              "      <td>no</td>\n",
              "      <td>yes</td>\n",
              "      <td>0</td>\n",
              "    </tr>\n",
              "  </tbody>\n",
              "</table>\n",
              "</div>\n",
              "      <button class=\"colab-df-convert\" onclick=\"convertToInteractive('df-43ede955-49a0-465b-bbfb-3fd18fcd4711')\"\n",
              "              title=\"Convert this dataframe to an interactive table.\"\n",
              "              style=\"display:none;\">\n",
              "        \n",
              "  <svg xmlns=\"http://www.w3.org/2000/svg\" height=\"24px\"viewBox=\"0 0 24 24\"\n",
              "       width=\"24px\">\n",
              "    <path d=\"M0 0h24v24H0V0z\" fill=\"none\"/>\n",
              "    <path d=\"M18.56 5.44l.94 2.06.94-2.06 2.06-.94-2.06-.94-.94-2.06-.94 2.06-2.06.94zm-11 1L8.5 8.5l.94-2.06 2.06-.94-2.06-.94L8.5 2.5l-.94 2.06-2.06.94zm10 10l.94 2.06.94-2.06 2.06-.94-2.06-.94-.94-2.06-.94 2.06-2.06.94z\"/><path d=\"M17.41 7.96l-1.37-1.37c-.4-.4-.92-.59-1.43-.59-.52 0-1.04.2-1.43.59L10.3 9.45l-7.72 7.72c-.78.78-.78 2.05 0 2.83L4 21.41c.39.39.9.59 1.41.59.51 0 1.02-.2 1.41-.59l7.78-7.78 2.81-2.81c.8-.78.8-2.07 0-2.86zM5.41 20L4 18.59l7.72-7.72 1.47 1.35L5.41 20z\"/>\n",
              "  </svg>\n",
              "      </button>\n",
              "      \n",
              "  <style>\n",
              "    .colab-df-container {\n",
              "      display:flex;\n",
              "      flex-wrap:wrap;\n",
              "      gap: 12px;\n",
              "    }\n",
              "\n",
              "    .colab-df-convert {\n",
              "      background-color: #E8F0FE;\n",
              "      border: none;\n",
              "      border-radius: 50%;\n",
              "      cursor: pointer;\n",
              "      display: none;\n",
              "      fill: #1967D2;\n",
              "      height: 32px;\n",
              "      padding: 0 0 0 0;\n",
              "      width: 32px;\n",
              "    }\n",
              "\n",
              "    .colab-df-convert:hover {\n",
              "      background-color: #E2EBFA;\n",
              "      box-shadow: 0px 1px 2px rgba(60, 64, 67, 0.3), 0px 1px 3px 1px rgba(60, 64, 67, 0.15);\n",
              "      fill: #174EA6;\n",
              "    }\n",
              "\n",
              "    [theme=dark] .colab-df-convert {\n",
              "      background-color: #3B4455;\n",
              "      fill: #D2E3FC;\n",
              "    }\n",
              "\n",
              "    [theme=dark] .colab-df-convert:hover {\n",
              "      background-color: #434B5C;\n",
              "      box-shadow: 0px 1px 3px 1px rgba(0, 0, 0, 0.15);\n",
              "      filter: drop-shadow(0px 1px 2px rgba(0, 0, 0, 0.3));\n",
              "      fill: #FFFFFF;\n",
              "    }\n",
              "  </style>\n",
              "\n",
              "      <script>\n",
              "        const buttonEl =\n",
              "          document.querySelector('#df-43ede955-49a0-465b-bbfb-3fd18fcd4711 button.colab-df-convert');\n",
              "        buttonEl.style.display =\n",
              "          google.colab.kernel.accessAllowed ? 'block' : 'none';\n",
              "\n",
              "        async function convertToInteractive(key) {\n",
              "          const element = document.querySelector('#df-43ede955-49a0-465b-bbfb-3fd18fcd4711');\n",
              "          const dataTable =\n",
              "            await google.colab.kernel.invokeFunction('convertToInteractive',\n",
              "                                                     [key], {});\n",
              "          if (!dataTable) return;\n",
              "\n",
              "          const docLinkHtml = 'Like what you see? Visit the ' +\n",
              "            '<a target=\"_blank\" href=https://colab.research.google.com/notebooks/data_table.ipynb>data table notebook</a>'\n",
              "            + ' to learn more about interactive tables.';\n",
              "          element.innerHTML = '';\n",
              "          dataTable['output_type'] = 'display_data';\n",
              "          await google.colab.output.renderOutput(dataTable, element);\n",
              "          const docLink = document.createElement('div');\n",
              "          docLink.innerHTML = docLinkHtml;\n",
              "          element.appendChild(docLink);\n",
              "        }\n",
              "      </script>\n",
              "    </div>\n",
              "  </div>\n",
              "  "
            ],
            "text/plain": [
              "         date  hour      category  ...  in_video_text  captions  viral\n",
              "0  05/12/2021  2100  cooking prep  ...             no       yes      0\n",
              "1  05/13/2021   800        how to  ...             no        no      0\n",
              "2  05/13/2021  1200   dinner prep  ...            yes       yes      0\n",
              "3  05/14/2021  1200        how to  ...             no       yes      0\n",
              "4  05/14/2021  1100   dinner prep  ...             no       yes      0\n",
              "\n",
              "[5 rows x 14 columns]"
            ]
          },
          "metadata": {},
          "execution_count": 21
        }
      ],
      "source": [
        "# mounting the google drive\n",
        "from google.colab import drive\n",
        "drive.mount('/gdrive')\n",
        "import pandas as pd\n",
        "# importing data\n",
        "oatmeal = pd.read_csv('/gdrive/MyDrive/oatmealmonsters/video_specific_data.csv')\n",
        "oatmeal.head()"
      ]
    },
    {
      "cell_type": "markdown",
      "source": [
        "## EDA"
      ],
      "metadata": {
        "id": "IJoGZwAeLI2I"
      }
    },
    {
      "cell_type": "markdown",
      "source": [
        "### quick look at the data"
      ],
      "metadata": {
        "id": "oMaOFY76iLEG"
      }
    },
    {
      "cell_type": "code",
      "source": [
        "# checking quick statistics\n",
        "oatmeal.describe()"
      ],
      "metadata": {
        "colab": {
          "base_uri": "https://localhost:8080/",
          "height": 300
        },
        "id": "WBplO8oDrlN3",
        "outputId": "20b75503-fc6a-4654-9be2-600d8ab418a6"
      },
      "execution_count": 22,
      "outputs": [
        {
          "output_type": "execute_result",
          "data": {
            "text/html": [
              "\n",
              "  <div id=\"df-b1d8f814-4797-4e9b-ae9d-39e894151bc6\">\n",
              "    <div class=\"colab-df-container\">\n",
              "      <div>\n",
              "<style scoped>\n",
              "    .dataframe tbody tr th:only-of-type {\n",
              "        vertical-align: middle;\n",
              "    }\n",
              "\n",
              "    .dataframe tbody tr th {\n",
              "        vertical-align: top;\n",
              "    }\n",
              "\n",
              "    .dataframe thead th {\n",
              "        text-align: right;\n",
              "    }\n",
              "</style>\n",
              "<table border=\"1\" class=\"dataframe\">\n",
              "  <thead>\n",
              "    <tr style=\"text-align: right;\">\n",
              "      <th></th>\n",
              "      <th>hour</th>\n",
              "      <th>duration</th>\n",
              "      <th>average_watch_time_seconds</th>\n",
              "      <th>percent_watched_full</th>\n",
              "      <th>plays</th>\n",
              "      <th>likes</th>\n",
              "      <th>comments</th>\n",
              "      <th>shares</th>\n",
              "      <th>viral</th>\n",
              "    </tr>\n",
              "  </thead>\n",
              "  <tbody>\n",
              "    <tr>\n",
              "      <th>count</th>\n",
              "      <td>105.000000</td>\n",
              "      <td>105.000000</td>\n",
              "      <td>105.000000</td>\n",
              "      <td>105.000000</td>\n",
              "      <td>1.050000e+02</td>\n",
              "      <td>105.000000</td>\n",
              "      <td>105.000000</td>\n",
              "      <td>105.000000</td>\n",
              "      <td>105.000000</td>\n",
              "    </tr>\n",
              "    <tr>\n",
              "      <th>mean</th>\n",
              "      <td>1051.428571</td>\n",
              "      <td>34.680762</td>\n",
              "      <td>17.160000</td>\n",
              "      <td>26.668095</td>\n",
              "      <td>2.566319e+05</td>\n",
              "      <td>20948.542857</td>\n",
              "      <td>142.200000</td>\n",
              "      <td>1585.219048</td>\n",
              "      <td>0.257143</td>\n",
              "    </tr>\n",
              "    <tr>\n",
              "      <th>std</th>\n",
              "      <td>221.929600</td>\n",
              "      <td>17.101039</td>\n",
              "      <td>7.523011</td>\n",
              "      <td>12.734048</td>\n",
              "      <td>7.246962e+05</td>\n",
              "      <td>83111.256888</td>\n",
              "      <td>439.833784</td>\n",
              "      <td>8267.325720</td>\n",
              "      <td>0.439155</td>\n",
              "    </tr>\n",
              "    <tr>\n",
              "      <th>min</th>\n",
              "      <td>700.000000</td>\n",
              "      <td>8.000000</td>\n",
              "      <td>3.700000</td>\n",
              "      <td>2.470000</td>\n",
              "      <td>1.366000e+02</td>\n",
              "      <td>155.000000</td>\n",
              "      <td>1.000000</td>\n",
              "      <td>1.000000</td>\n",
              "      <td>0.000000</td>\n",
              "    </tr>\n",
              "    <tr>\n",
              "      <th>25%</th>\n",
              "      <td>900.000000</td>\n",
              "      <td>20.000000</td>\n",
              "      <td>10.700000</td>\n",
              "      <td>17.160000</td>\n",
              "      <td>2.920000e+04</td>\n",
              "      <td>1180.000000</td>\n",
              "      <td>16.000000</td>\n",
              "      <td>16.000000</td>\n",
              "      <td>0.000000</td>\n",
              "    </tr>\n",
              "    <tr>\n",
              "      <th>50%</th>\n",
              "      <td>1000.000000</td>\n",
              "      <td>33.000000</td>\n",
              "      <td>16.500000</td>\n",
              "      <td>25.850000</td>\n",
              "      <td>6.140000e+04</td>\n",
              "      <td>2418.000000</td>\n",
              "      <td>30.000000</td>\n",
              "      <td>70.000000</td>\n",
              "      <td>0.000000</td>\n",
              "    </tr>\n",
              "    <tr>\n",
              "      <th>75%</th>\n",
              "      <td>1100.000000</td>\n",
              "      <td>51.850000</td>\n",
              "      <td>23.500000</td>\n",
              "      <td>35.360000</td>\n",
              "      <td>1.035000e+05</td>\n",
              "      <td>5251.000000</td>\n",
              "      <td>68.000000</td>\n",
              "      <td>253.000000</td>\n",
              "      <td>1.000000</td>\n",
              "    </tr>\n",
              "    <tr>\n",
              "      <th>max</th>\n",
              "      <td>2100.000000</td>\n",
              "      <td>60.110000</td>\n",
              "      <td>36.700000</td>\n",
              "      <td>63.510000</td>\n",
              "      <td>5.700000e+06</td>\n",
              "      <td>748800.000000</td>\n",
              "      <td>3910.000000</td>\n",
              "      <td>77700.000000</td>\n",
              "      <td>1.000000</td>\n",
              "    </tr>\n",
              "  </tbody>\n",
              "</table>\n",
              "</div>\n",
              "      <button class=\"colab-df-convert\" onclick=\"convertToInteractive('df-b1d8f814-4797-4e9b-ae9d-39e894151bc6')\"\n",
              "              title=\"Convert this dataframe to an interactive table.\"\n",
              "              style=\"display:none;\">\n",
              "        \n",
              "  <svg xmlns=\"http://www.w3.org/2000/svg\" height=\"24px\"viewBox=\"0 0 24 24\"\n",
              "       width=\"24px\">\n",
              "    <path d=\"M0 0h24v24H0V0z\" fill=\"none\"/>\n",
              "    <path d=\"M18.56 5.44l.94 2.06.94-2.06 2.06-.94-2.06-.94-.94-2.06-.94 2.06-2.06.94zm-11 1L8.5 8.5l.94-2.06 2.06-.94-2.06-.94L8.5 2.5l-.94 2.06-2.06.94zm10 10l.94 2.06.94-2.06 2.06-.94-2.06-.94-.94-2.06-.94 2.06-2.06.94z\"/><path d=\"M17.41 7.96l-1.37-1.37c-.4-.4-.92-.59-1.43-.59-.52 0-1.04.2-1.43.59L10.3 9.45l-7.72 7.72c-.78.78-.78 2.05 0 2.83L4 21.41c.39.39.9.59 1.41.59.51 0 1.02-.2 1.41-.59l7.78-7.78 2.81-2.81c.8-.78.8-2.07 0-2.86zM5.41 20L4 18.59l7.72-7.72 1.47 1.35L5.41 20z\"/>\n",
              "  </svg>\n",
              "      </button>\n",
              "      \n",
              "  <style>\n",
              "    .colab-df-container {\n",
              "      display:flex;\n",
              "      flex-wrap:wrap;\n",
              "      gap: 12px;\n",
              "    }\n",
              "\n",
              "    .colab-df-convert {\n",
              "      background-color: #E8F0FE;\n",
              "      border: none;\n",
              "      border-radius: 50%;\n",
              "      cursor: pointer;\n",
              "      display: none;\n",
              "      fill: #1967D2;\n",
              "      height: 32px;\n",
              "      padding: 0 0 0 0;\n",
              "      width: 32px;\n",
              "    }\n",
              "\n",
              "    .colab-df-convert:hover {\n",
              "      background-color: #E2EBFA;\n",
              "      box-shadow: 0px 1px 2px rgba(60, 64, 67, 0.3), 0px 1px 3px 1px rgba(60, 64, 67, 0.15);\n",
              "      fill: #174EA6;\n",
              "    }\n",
              "\n",
              "    [theme=dark] .colab-df-convert {\n",
              "      background-color: #3B4455;\n",
              "      fill: #D2E3FC;\n",
              "    }\n",
              "\n",
              "    [theme=dark] .colab-df-convert:hover {\n",
              "      background-color: #434B5C;\n",
              "      box-shadow: 0px 1px 3px 1px rgba(0, 0, 0, 0.15);\n",
              "      filter: drop-shadow(0px 1px 2px rgba(0, 0, 0, 0.3));\n",
              "      fill: #FFFFFF;\n",
              "    }\n",
              "  </style>\n",
              "\n",
              "      <script>\n",
              "        const buttonEl =\n",
              "          document.querySelector('#df-b1d8f814-4797-4e9b-ae9d-39e894151bc6 button.colab-df-convert');\n",
              "        buttonEl.style.display =\n",
              "          google.colab.kernel.accessAllowed ? 'block' : 'none';\n",
              "\n",
              "        async function convertToInteractive(key) {\n",
              "          const element = document.querySelector('#df-b1d8f814-4797-4e9b-ae9d-39e894151bc6');\n",
              "          const dataTable =\n",
              "            await google.colab.kernel.invokeFunction('convertToInteractive',\n",
              "                                                     [key], {});\n",
              "          if (!dataTable) return;\n",
              "\n",
              "          const docLinkHtml = 'Like what you see? Visit the ' +\n",
              "            '<a target=\"_blank\" href=https://colab.research.google.com/notebooks/data_table.ipynb>data table notebook</a>'\n",
              "            + ' to learn more about interactive tables.';\n",
              "          element.innerHTML = '';\n",
              "          dataTable['output_type'] = 'display_data';\n",
              "          await google.colab.output.renderOutput(dataTable, element);\n",
              "          const docLink = document.createElement('div');\n",
              "          docLink.innerHTML = docLinkHtml;\n",
              "          element.appendChild(docLink);\n",
              "        }\n",
              "      </script>\n",
              "    </div>\n",
              "  </div>\n",
              "  "
            ],
            "text/plain": [
              "              hour    duration  ...        shares       viral\n",
              "count   105.000000  105.000000  ...    105.000000  105.000000\n",
              "mean   1051.428571   34.680762  ...   1585.219048    0.257143\n",
              "std     221.929600   17.101039  ...   8267.325720    0.439155\n",
              "min     700.000000    8.000000  ...      1.000000    0.000000\n",
              "25%     900.000000   20.000000  ...     16.000000    0.000000\n",
              "50%    1000.000000   33.000000  ...     70.000000    0.000000\n",
              "75%    1100.000000   51.850000  ...    253.000000    1.000000\n",
              "max    2100.000000   60.110000  ...  77700.000000    1.000000\n",
              "\n",
              "[8 rows x 9 columns]"
            ]
          },
          "metadata": {},
          "execution_count": 22
        }
      ]
    },
    {
      "cell_type": "code",
      "source": [
        "# 105 rows, 9 columns\n",
        "oatmeal.shape"
      ],
      "metadata": {
        "colab": {
          "base_uri": "https://localhost:8080/"
        },
        "id": "PqKwdjvQK4U7",
        "outputId": "0fde768e-5d94-4457-88a3-6c88960e4f9a"
      },
      "execution_count": 23,
      "outputs": [
        {
          "output_type": "execute_result",
          "data": {
            "text/plain": [
              "(105, 14)"
            ]
          },
          "metadata": {},
          "execution_count": 23
        }
      ]
    },
    {
      "cell_type": "code",
      "source": [
        "# checking the columns of the dataset\n",
        "oatmeal.columns"
      ],
      "metadata": {
        "colab": {
          "base_uri": "https://localhost:8080/"
        },
        "id": "n10j3P_4LEry",
        "outputId": "c35f4937-2d6f-4121-9496-bbfc69a6f4ed"
      },
      "execution_count": 24,
      "outputs": [
        {
          "output_type": "execute_result",
          "data": {
            "text/plain": [
              "Index(['date', 'hour', 'category', 'duration', 'average_watch_time_seconds',\n",
              "       'percent_watched_full', 'plays', 'likes', 'comments', 'shares',\n",
              "       'voiceover', 'in_video_text', 'captions', 'viral'],\n",
              "      dtype='object')"
            ]
          },
          "metadata": {},
          "execution_count": 24
        }
      ]
    },
    {
      "cell_type": "code",
      "source": [
        "# checking the datatypes\n",
        "oatmeal.dtypes"
      ],
      "metadata": {
        "colab": {
          "base_uri": "https://localhost:8080/"
        },
        "id": "HDhCcF6MLR1k",
        "outputId": "11b5adc1-afb2-4b61-f587-8e6ad0ebe29b"
      },
      "execution_count": 25,
      "outputs": [
        {
          "output_type": "execute_result",
          "data": {
            "text/plain": [
              "date                           object\n",
              "hour                            int64\n",
              "category                       object\n",
              "duration                      float64\n",
              "average_watch_time_seconds    float64\n",
              "percent_watched_full          float64\n",
              "plays                         float64\n",
              "likes                           int64\n",
              "comments                        int64\n",
              "shares                          int64\n",
              "voiceover                      object\n",
              "in_video_text                  object\n",
              "captions                       object\n",
              "viral                           int64\n",
              "dtype: object"
            ]
          },
          "metadata": {},
          "execution_count": 25
        }
      ]
    },
    {
      "cell_type": "code",
      "source": [
        "# checking for unique values\n",
        "oatmeal.nunique()"
      ],
      "metadata": {
        "colab": {
          "base_uri": "https://localhost:8080/"
        },
        "id": "4sKm775KLUn1",
        "outputId": "fc5fdaf7-babb-4963-f05d-ab0d76f4df72"
      },
      "execution_count": 26,
      "outputs": [
        {
          "output_type": "execute_result",
          "data": {
            "text/plain": [
              "date                           96\n",
              "hour                           11\n",
              "category                       15\n",
              "duration                       89\n",
              "average_watch_time_seconds     83\n",
              "percent_watched_full          105\n",
              "plays                          97\n",
              "likes                         105\n",
              "comments                       68\n",
              "shares                         85\n",
              "voiceover                       2\n",
              "in_video_text                   2\n",
              "captions                        2\n",
              "viral                           2\n",
              "dtype: int64"
            ]
          },
          "metadata": {},
          "execution_count": 26
        }
      ]
    },
    {
      "cell_type": "code",
      "source": [
        "# checking out how many different categories of videos are made\n",
        "oatmeal['category'].unique()"
      ],
      "metadata": {
        "colab": {
          "base_uri": "https://localhost:8080/"
        },
        "id": "Hmqax8ECLf7y",
        "outputId": "593d7fa2-be1e-49cd-9873-55230ed7b831"
      },
      "execution_count": 27,
      "outputs": [
        {
          "output_type": "execute_result",
          "data": {
            "text/plain": [
              "array(['cooking prep', 'how to', 'dinner prep', 'inquiry', 'cooking',\n",
              "       'trend', 'shopping', 'breakfast prep', 'response', 'organization',\n",
              "       'dessert prep', 'lunch prep', 'filler', 'tips', 'baby prep'],\n",
              "      dtype=object)"
            ]
          },
          "metadata": {},
          "execution_count": 27
        }
      ]
    },
    {
      "cell_type": "markdown",
      "source": [
        "### cleaning the data"
      ],
      "metadata": {
        "id": "-E4qCbieMCSo"
      }
    },
    {
      "cell_type": "code",
      "source": [
        "# checking the data for null values\n",
        "oatmeal.isnull().sum()"
      ],
      "metadata": {
        "colab": {
          "base_uri": "https://localhost:8080/"
        },
        "id": "sqXG1VsIMJ59",
        "outputId": "7718983e-0ad8-4380-c992-019ae2989e37"
      },
      "execution_count": 28,
      "outputs": [
        {
          "output_type": "execute_result",
          "data": {
            "text/plain": [
              "date                          0\n",
              "hour                          0\n",
              "category                      0\n",
              "duration                      0\n",
              "average_watch_time_seconds    0\n",
              "percent_watched_full          0\n",
              "plays                         0\n",
              "likes                         0\n",
              "comments                      0\n",
              "shares                        0\n",
              "voiceover                     0\n",
              "in_video_text                 0\n",
              "captions                      0\n",
              "viral                         0\n",
              "dtype: int64"
            ]
          },
          "metadata": {},
          "execution_count": 28
        }
      ]
    },
    {
      "cell_type": "code",
      "source": [
        "# dropping columns with variables concerning production\n",
        "oatmeal = oatmeal.drop(columns=['voiceover'])\n",
        "oatmeal = oatmeal.drop(columns=['in_video_text'])\n",
        "oatmeal = oatmeal.drop(columns=['captions'])"
      ],
      "metadata": {
        "id": "HVrVyyOiszf-"
      },
      "execution_count": 29,
      "outputs": []
    },
    {
      "cell_type": "code",
      "source": [
        "# changing the date to datetime data type and extracting the day to add as a new column\n",
        "oatmeal['date'] = pd.to_datetime(oatmeal['date'])\n",
        "oatmeal['day_of_week'] = oatmeal['date'].dt.day_name()"
      ],
      "metadata": {
        "id": "9tovDpM68jtu"
      },
      "execution_count": 30,
      "outputs": []
    },
    {
      "cell_type": "markdown",
      "source": [
        "### Relationship Analysis"
      ],
      "metadata": {
        "id": "PGQAxlE54D7Z"
      }
    },
    {
      "cell_type": "markdown",
      "source": [
        "The first thing I am interested in is how my videos perform by the different categories I post. I am most known for my dinner meal preps so I am curious to see if that is where most of my engagement comes from."
      ],
      "metadata": {
        "id": "X8d1Rr7K6CCD"
      }
    },
    {
      "cell_type": "code",
      "source": [
        "import matplotlib.pyplot as plt\n",
        "from scipy import stats\n",
        "import statsmodels.api as sm\n",
        "import numpy as np\n",
        "import seaborn as sns"
      ],
      "metadata": {
        "id": "XAKGugMIL9-a"
      },
      "execution_count": 31,
      "outputs": []
    },
    {
      "cell_type": "markdown",
      "source": [
        "TikTok analytics offers the average watch time for each video, but I wanted to know the ratio of averate watch time to the actual duration of the posted video to create a uniform way each video is assessed for engagement considering watch time. I added this as a new variable."
      ],
      "metadata": {
        "id": "KTp7-d8k8A_r"
      }
    },
    {
      "cell_type": "code",
      "source": [
        "oatmeal['ratio_watched'] = oatmeal['average_watch_time_seconds']/oatmeal['duration']"
      ],
      "metadata": {
        "id": "ynqwtlwB7KCd"
      },
      "execution_count": 32,
      "outputs": []
    },
    {
      "cell_type": "code",
      "source": [
        "# grouping my dataset by category and then checking out the mean of each continuous category\n",
        "# i am mostly interested in the average watch time \n",
        "oatmeal.groupby(['category']).mean()"
      ],
      "metadata": {
        "colab": {
          "base_uri": "https://localhost:8080/",
          "height": 551
        },
        "id": "fzta_QGz4Hqg",
        "outputId": "7d9f5926-0bcd-4393-e162-8012b3414c3d"
      },
      "execution_count": 33,
      "outputs": [
        {
          "output_type": "execute_result",
          "data": {
            "text/html": [
              "\n",
              "  <div id=\"df-7853b0ea-2cb1-4ac1-a542-5a8e620e8483\">\n",
              "    <div class=\"colab-df-container\">\n",
              "      <div>\n",
              "<style scoped>\n",
              "    .dataframe tbody tr th:only-of-type {\n",
              "        vertical-align: middle;\n",
              "    }\n",
              "\n",
              "    .dataframe tbody tr th {\n",
              "        vertical-align: top;\n",
              "    }\n",
              "\n",
              "    .dataframe thead th {\n",
              "        text-align: right;\n",
              "    }\n",
              "</style>\n",
              "<table border=\"1\" class=\"dataframe\">\n",
              "  <thead>\n",
              "    <tr style=\"text-align: right;\">\n",
              "      <th></th>\n",
              "      <th>hour</th>\n",
              "      <th>duration</th>\n",
              "      <th>average_watch_time_seconds</th>\n",
              "      <th>percent_watched_full</th>\n",
              "      <th>plays</th>\n",
              "      <th>likes</th>\n",
              "      <th>comments</th>\n",
              "      <th>shares</th>\n",
              "      <th>viral</th>\n",
              "      <th>ratio_watched</th>\n",
              "    </tr>\n",
              "    <tr>\n",
              "      <th>category</th>\n",
              "      <th></th>\n",
              "      <th></th>\n",
              "      <th></th>\n",
              "      <th></th>\n",
              "      <th></th>\n",
              "      <th></th>\n",
              "      <th></th>\n",
              "      <th></th>\n",
              "      <th></th>\n",
              "      <th></th>\n",
              "    </tr>\n",
              "  </thead>\n",
              "  <tbody>\n",
              "    <tr>\n",
              "      <th>baby prep</th>\n",
              "      <td>1000.000000</td>\n",
              "      <td>59.277500</td>\n",
              "      <td>18.275000</td>\n",
              "      <td>16.410000</td>\n",
              "      <td>24125.000000</td>\n",
              "      <td>1238.500000</td>\n",
              "      <td>15.000000</td>\n",
              "      <td>49.000000</td>\n",
              "      <td>0.250000</td>\n",
              "      <td>0.308493</td>\n",
              "    </tr>\n",
              "    <tr>\n",
              "      <th>breakfast prep</th>\n",
              "      <td>1055.555556</td>\n",
              "      <td>51.025556</td>\n",
              "      <td>22.955556</td>\n",
              "      <td>24.068889</td>\n",
              "      <td>840566.666667</td>\n",
              "      <td>98508.000000</td>\n",
              "      <td>535.222222</td>\n",
              "      <td>10551.777778</td>\n",
              "      <td>0.222222</td>\n",
              "      <td>0.446370</td>\n",
              "    </tr>\n",
              "    <tr>\n",
              "      <th>cooking</th>\n",
              "      <td>1050.000000</td>\n",
              "      <td>40.820000</td>\n",
              "      <td>22.050000</td>\n",
              "      <td>29.215000</td>\n",
              "      <td>45300.000000</td>\n",
              "      <td>1362.000000</td>\n",
              "      <td>22.000000</td>\n",
              "      <td>16.000000</td>\n",
              "      <td>0.500000</td>\n",
              "      <td>0.488827</td>\n",
              "    </tr>\n",
              "    <tr>\n",
              "      <th>cooking prep</th>\n",
              "      <td>1110.000000</td>\n",
              "      <td>39.116000</td>\n",
              "      <td>20.970000</td>\n",
              "      <td>20.795000</td>\n",
              "      <td>56240.000000</td>\n",
              "      <td>3055.300000</td>\n",
              "      <td>27.000000</td>\n",
              "      <td>135.300000</td>\n",
              "      <td>0.200000</td>\n",
              "      <td>0.570466</td>\n",
              "    </tr>\n",
              "    <tr>\n",
              "      <th>dessert prep</th>\n",
              "      <td>1050.000000</td>\n",
              "      <td>45.677500</td>\n",
              "      <td>15.500000</td>\n",
              "      <td>14.007500</td>\n",
              "      <td>32440.250000</td>\n",
              "      <td>1448.750000</td>\n",
              "      <td>14.500000</td>\n",
              "      <td>84.250000</td>\n",
              "      <td>0.000000</td>\n",
              "      <td>0.359366</td>\n",
              "    </tr>\n",
              "    <tr>\n",
              "      <th>dinner prep</th>\n",
              "      <td>1087.500000</td>\n",
              "      <td>49.789375</td>\n",
              "      <td>25.287500</td>\n",
              "      <td>30.418125</td>\n",
              "      <td>449175.000000</td>\n",
              "      <td>34473.062500</td>\n",
              "      <td>182.687500</td>\n",
              "      <td>2717.500000</td>\n",
              "      <td>0.250000</td>\n",
              "      <td>0.513548</td>\n",
              "    </tr>\n",
              "    <tr>\n",
              "      <th>filler</th>\n",
              "      <td>1113.333333</td>\n",
              "      <td>20.116667</td>\n",
              "      <td>10.113333</td>\n",
              "      <td>26.147333</td>\n",
              "      <td>110515.133333</td>\n",
              "      <td>8389.400000</td>\n",
              "      <td>144.600000</td>\n",
              "      <td>547.133333</td>\n",
              "      <td>0.133333</td>\n",
              "      <td>0.561306</td>\n",
              "    </tr>\n",
              "    <tr>\n",
              "      <th>how to</th>\n",
              "      <td>1041.176471</td>\n",
              "      <td>34.481765</td>\n",
              "      <td>17.711765</td>\n",
              "      <td>27.662941</td>\n",
              "      <td>257964.705882</td>\n",
              "      <td>10387.058824</td>\n",
              "      <td>95.470588</td>\n",
              "      <td>205.588235</td>\n",
              "      <td>0.294118</td>\n",
              "      <td>0.564452</td>\n",
              "    </tr>\n",
              "    <tr>\n",
              "      <th>inquiry</th>\n",
              "      <td>1125.000000</td>\n",
              "      <td>22.637500</td>\n",
              "      <td>10.900000</td>\n",
              "      <td>21.002500</td>\n",
              "      <td>105625.000000</td>\n",
              "      <td>1136.250000</td>\n",
              "      <td>142.500000</td>\n",
              "      <td>263.500000</td>\n",
              "      <td>0.250000</td>\n",
              "      <td>0.521626</td>\n",
              "    </tr>\n",
              "    <tr>\n",
              "      <th>lunch prep</th>\n",
              "      <td>1010.000000</td>\n",
              "      <td>27.163000</td>\n",
              "      <td>13.930000</td>\n",
              "      <td>24.092000</td>\n",
              "      <td>158200.000000</td>\n",
              "      <td>8225.500000</td>\n",
              "      <td>52.300000</td>\n",
              "      <td>382.400000</td>\n",
              "      <td>0.300000</td>\n",
              "      <td>0.525533</td>\n",
              "    </tr>\n",
              "    <tr>\n",
              "      <th>organization</th>\n",
              "      <td>966.666667</td>\n",
              "      <td>19.158333</td>\n",
              "      <td>12.733333</td>\n",
              "      <td>35.698333</td>\n",
              "      <td>328350.000000</td>\n",
              "      <td>38877.000000</td>\n",
              "      <td>220.000000</td>\n",
              "      <td>1387.333333</td>\n",
              "      <td>0.166667</td>\n",
              "      <td>0.708661</td>\n",
              "    </tr>\n",
              "    <tr>\n",
              "      <th>response</th>\n",
              "      <td>1000.000000</td>\n",
              "      <td>11.910000</td>\n",
              "      <td>12.300000</td>\n",
              "      <td>63.510000</td>\n",
              "      <td>129400.000000</td>\n",
              "      <td>4141.000000</td>\n",
              "      <td>41.000000</td>\n",
              "      <td>7.000000</td>\n",
              "      <td>1.000000</td>\n",
              "      <td>1.032746</td>\n",
              "    </tr>\n",
              "    <tr>\n",
              "      <th>shopping</th>\n",
              "      <td>900.000000</td>\n",
              "      <td>18.110000</td>\n",
              "      <td>12.800000</td>\n",
              "      <td>40.480000</td>\n",
              "      <td>99468.300000</td>\n",
              "      <td>6841.000000</td>\n",
              "      <td>88.500000</td>\n",
              "      <td>199.000000</td>\n",
              "      <td>1.000000</td>\n",
              "      <td>0.695684</td>\n",
              "    </tr>\n",
              "    <tr>\n",
              "      <th>tips</th>\n",
              "      <td>1100.000000</td>\n",
              "      <td>33.000000</td>\n",
              "      <td>23.800000</td>\n",
              "      <td>50.430000</td>\n",
              "      <td>782700.000000</td>\n",
              "      <td>72300.000000</td>\n",
              "      <td>290.000000</td>\n",
              "      <td>708.000000</td>\n",
              "      <td>1.000000</td>\n",
              "      <td>0.721212</td>\n",
              "    </tr>\n",
              "    <tr>\n",
              "      <th>trend</th>\n",
              "      <td>850.000000</td>\n",
              "      <td>11.700000</td>\n",
              "      <td>6.975000</td>\n",
              "      <td>28.072500</td>\n",
              "      <td>46606.500000</td>\n",
              "      <td>1206.000000</td>\n",
              "      <td>11.500000</td>\n",
              "      <td>16.750000</td>\n",
              "      <td>0.250000</td>\n",
              "      <td>0.622839</td>\n",
              "    </tr>\n",
              "  </tbody>\n",
              "</table>\n",
              "</div>\n",
              "      <button class=\"colab-df-convert\" onclick=\"convertToInteractive('df-7853b0ea-2cb1-4ac1-a542-5a8e620e8483')\"\n",
              "              title=\"Convert this dataframe to an interactive table.\"\n",
              "              style=\"display:none;\">\n",
              "        \n",
              "  <svg xmlns=\"http://www.w3.org/2000/svg\" height=\"24px\"viewBox=\"0 0 24 24\"\n",
              "       width=\"24px\">\n",
              "    <path d=\"M0 0h24v24H0V0z\" fill=\"none\"/>\n",
              "    <path d=\"M18.56 5.44l.94 2.06.94-2.06 2.06-.94-2.06-.94-.94-2.06-.94 2.06-2.06.94zm-11 1L8.5 8.5l.94-2.06 2.06-.94-2.06-.94L8.5 2.5l-.94 2.06-2.06.94zm10 10l.94 2.06.94-2.06 2.06-.94-2.06-.94-.94-2.06-.94 2.06-2.06.94z\"/><path d=\"M17.41 7.96l-1.37-1.37c-.4-.4-.92-.59-1.43-.59-.52 0-1.04.2-1.43.59L10.3 9.45l-7.72 7.72c-.78.78-.78 2.05 0 2.83L4 21.41c.39.39.9.59 1.41.59.51 0 1.02-.2 1.41-.59l7.78-7.78 2.81-2.81c.8-.78.8-2.07 0-2.86zM5.41 20L4 18.59l7.72-7.72 1.47 1.35L5.41 20z\"/>\n",
              "  </svg>\n",
              "      </button>\n",
              "      \n",
              "  <style>\n",
              "    .colab-df-container {\n",
              "      display:flex;\n",
              "      flex-wrap:wrap;\n",
              "      gap: 12px;\n",
              "    }\n",
              "\n",
              "    .colab-df-convert {\n",
              "      background-color: #E8F0FE;\n",
              "      border: none;\n",
              "      border-radius: 50%;\n",
              "      cursor: pointer;\n",
              "      display: none;\n",
              "      fill: #1967D2;\n",
              "      height: 32px;\n",
              "      padding: 0 0 0 0;\n",
              "      width: 32px;\n",
              "    }\n",
              "\n",
              "    .colab-df-convert:hover {\n",
              "      background-color: #E2EBFA;\n",
              "      box-shadow: 0px 1px 2px rgba(60, 64, 67, 0.3), 0px 1px 3px 1px rgba(60, 64, 67, 0.15);\n",
              "      fill: #174EA6;\n",
              "    }\n",
              "\n",
              "    [theme=dark] .colab-df-convert {\n",
              "      background-color: #3B4455;\n",
              "      fill: #D2E3FC;\n",
              "    }\n",
              "\n",
              "    [theme=dark] .colab-df-convert:hover {\n",
              "      background-color: #434B5C;\n",
              "      box-shadow: 0px 1px 3px 1px rgba(0, 0, 0, 0.15);\n",
              "      filter: drop-shadow(0px 1px 2px rgba(0, 0, 0, 0.3));\n",
              "      fill: #FFFFFF;\n",
              "    }\n",
              "  </style>\n",
              "\n",
              "      <script>\n",
              "        const buttonEl =\n",
              "          document.querySelector('#df-7853b0ea-2cb1-4ac1-a542-5a8e620e8483 button.colab-df-convert');\n",
              "        buttonEl.style.display =\n",
              "          google.colab.kernel.accessAllowed ? 'block' : 'none';\n",
              "\n",
              "        async function convertToInteractive(key) {\n",
              "          const element = document.querySelector('#df-7853b0ea-2cb1-4ac1-a542-5a8e620e8483');\n",
              "          const dataTable =\n",
              "            await google.colab.kernel.invokeFunction('convertToInteractive',\n",
              "                                                     [key], {});\n",
              "          if (!dataTable) return;\n",
              "\n",
              "          const docLinkHtml = 'Like what you see? Visit the ' +\n",
              "            '<a target=\"_blank\" href=https://colab.research.google.com/notebooks/data_table.ipynb>data table notebook</a>'\n",
              "            + ' to learn more about interactive tables.';\n",
              "          element.innerHTML = '';\n",
              "          dataTable['output_type'] = 'display_data';\n",
              "          await google.colab.output.renderOutput(dataTable, element);\n",
              "          const docLink = document.createElement('div');\n",
              "          docLink.innerHTML = docLinkHtml;\n",
              "          element.appendChild(docLink);\n",
              "        }\n",
              "      </script>\n",
              "    </div>\n",
              "  </div>\n",
              "  "
            ],
            "text/plain": [
              "                       hour   duration  ...     viral  ratio_watched\n",
              "category                                ...                         \n",
              "baby prep       1000.000000  59.277500  ...  0.250000       0.308493\n",
              "breakfast prep  1055.555556  51.025556  ...  0.222222       0.446370\n",
              "cooking         1050.000000  40.820000  ...  0.500000       0.488827\n",
              "cooking prep    1110.000000  39.116000  ...  0.200000       0.570466\n",
              "dessert prep    1050.000000  45.677500  ...  0.000000       0.359366\n",
              "dinner prep     1087.500000  49.789375  ...  0.250000       0.513548\n",
              "filler          1113.333333  20.116667  ...  0.133333       0.561306\n",
              "how to          1041.176471  34.481765  ...  0.294118       0.564452\n",
              "inquiry         1125.000000  22.637500  ...  0.250000       0.521626\n",
              "lunch prep      1010.000000  27.163000  ...  0.300000       0.525533\n",
              "organization     966.666667  19.158333  ...  0.166667       0.708661\n",
              "response        1000.000000  11.910000  ...  1.000000       1.032746\n",
              "shopping         900.000000  18.110000  ...  1.000000       0.695684\n",
              "tips            1100.000000  33.000000  ...  1.000000       0.721212\n",
              "trend            850.000000  11.700000  ...  0.250000       0.622839\n",
              "\n",
              "[15 rows x 10 columns]"
            ]
          },
          "metadata": {},
          "execution_count": 33
        }
      ]
    },
    {
      "cell_type": "code",
      "source": [
        "sns.set_palette(\"Spectral\")"
      ],
      "metadata": {
        "id": "EAPR4o4Qpe-4"
      },
      "execution_count": 79,
      "outputs": []
    },
    {
      "cell_type": "code",
      "source": [
        "sns.histplot(data=oatmeal, x=\"ratio_watched\", bins=20, kde=True)"
      ],
      "metadata": {
        "colab": {
          "base_uri": "https://localhost:8080/",
          "height": 297
        },
        "id": "uAl2PyXWoUku",
        "outputId": "ab0feaf4-554d-41fb-f05d-7a94acb13832"
      },
      "execution_count": 80,
      "outputs": [
        {
          "output_type": "execute_result",
          "data": {
            "text/plain": [
              "<matplotlib.axes._subplots.AxesSubplot at 0x7fec748fe450>"
            ]
          },
          "metadata": {},
          "execution_count": 80
        },
        {
          "output_type": "display_data",
          "data": {
            "image/png": "[encoded data removed]",
            "text/plain": [
              "<Figure size 432x288 with 1 Axes>"
            ]
          },
          "metadata": {
            "needs_background": "light"
          }
        }
      ]
    },
    {
      "cell_type": "code",
      "source": [
        "import matplotlib.pyplot as plt\n",
        "# set a grey background (use sns.set_theme() if seaborn version 0.11.0 or above) \n",
        "sns.set(style=\"darkgrid\")\n",
        "\n",
        "fig, axs = plt.subplots(2,2, figsize=(7, 7))\n",
        "\n",
        "sns.histplot(data=oatmeal, x=\"ratio_watched\", kde=True, color=\"skyblue\", ax=axs[0, 0], bins=20)\n",
        "sns.histplot(data=oatmeal, x=\"viral\", kde=True, color=\"olive\", ax=axs[0, 1], bins=20)\n",
        "sns.histplot(data=oatmeal, x=\"percent_watched_full\", kde=True, color=\"gold\", ax=axs[1, 0], bins=20)\n",
        "sns.histplot(data=oatmeal, x=\"average_watch_time_seconds\", kde=True, color=\"teal\", ax=axs[1, 1], bins=20)\n",
        "\n",
        "\n",
        "plt.show()"
      ],
      "metadata": {
        "colab": {
          "base_uri": "https://localhost:8080/",
          "height": 448
        },
        "id": "bCYWpVjXrMff",
        "outputId": "0b66da01-8068-45c4-9f6d-db99b4c4e763"
      },
      "execution_count": 98,
      "outputs": [
        {
          "output_type": "display_data",
          "data": {
            "image/png": "[encoded data removed]",
            "text/plain": [
              "<Figure size 504x504 with 4 Axes>"
            ]
          },
          "metadata": {}
        }
      ]
    },
    {
      "cell_type": "code",
      "source": [
        "# creating a heatmap of all of the variables\n",
        "correlation = oatmeal.corr()"
      ],
      "metadata": {
        "id": "xxgDKl9hizSM"
      },
      "execution_count": 34,
      "outputs": []
    },
    {
      "cell_type": "code",
      "source": [
        "sns.heatmap(correlation, xticklabels=correlation.columns, yticklabels=correlation.columns, annot=False)"
      ],
      "metadata": {
        "colab": {
          "base_uri": "https://localhost:8080/",
          "height": 426
        },
        "id": "AUE2P1wnjJ5r",
        "outputId": "87d09f23-2050-4f11-9815-973c7f676a18"
      },
      "execution_count": 74,
      "outputs": [
        {
          "output_type": "execute_result",
          "data": {
            "text/plain": [
              "<matplotlib.axes._subplots.AxesSubplot at 0x7fec74c5dd50>"
            ]
          },
          "metadata": {},
          "execution_count": 74
        },
        {
          "output_type": "display_data",
          "data": {
            "image/png": "[encoded data removed]",
            "text/plain": [
              "<Figure size 432x288 with 2 Axes>"
            ]
          },
          "metadata": {
            "needs_background": "light"
          }
        }
      ]
    },
    {
      "cell_type": "code",
      "source": [
        "# visualizing \n",
        "sns.relplot(x='ratio_watched', y='percent_watched_full', hue='viral', data=oatmeal)"
      ],
      "metadata": {
        "colab": {
          "base_uri": "https://localhost:8080/",
          "height": 387
        },
        "id": "_MkqkiddjoAq",
        "outputId": "f2afa834-711b-4096-c23c-5b49ba383da6"
      },
      "execution_count": 81,
      "outputs": [
        {
          "output_type": "execute_result",
          "data": {
            "text/plain": [
              "<seaborn.axisgrid.FacetGrid at 0x7fec749ccb90>"
            ]
          },
          "metadata": {},
          "execution_count": 81
        },
        {
          "output_type": "display_data",
          "data": {
            "image/png": "[encoded data removed]",
            "text/plain": [
              "<Figure size 402.375x360 with 1 Axes>"
            ]
          },
          "metadata": {
            "needs_background": "light"
          }
        }
      ]
    },
    {
      "cell_type": "markdown",
      "source": [
        "## This is continuing! (last updated 02/26/2022)"
      ],
      "metadata": {
        "id": "HFFb_prpmgc4"
      }
    }
  ]
}