{
  "nbformat": 4,
  "nbformat_minor": 0,
  "metadata": {
    "colab": {
      "name": "oatmealmonsters_data",
      "provenance": [],
      "authorship_tag": "ABX9TyOirC31rmP7fWw/ZvTyeXRc",
      "include_colab_link": true
    },
    "kernelspec": {
      "name": "python3",
      "display_name": "Python 3"
    },
    "language_info": {
      "name": "python"
    }
  },
  "cells": [
    {
      "cell_type": "markdown",
      "metadata": {
        "id": "view-in-github",
        "colab_type": "text"
      },
      "source": [
        "<a href=\"https://colab.research.google.com/github/arianajschindler/oatmealmonsters_tiktok_2022/blob/main/oatmealmonsters_data.ipynb\" target=\"_parent\"><img src=\"https://colab.research.google.com/assets/colab-badge.svg\" alt=\"Open In Colab\"/></a>"
      ]
    },
    {
      "cell_type": "markdown",
      "source": [
        "# Oatmealmonsters TikTok Video Analysis"
      ],
      "metadata": {
        "id": "JvW1Z37auBKE"
      }
    },
    {
      "cell_type": "code",
      "execution_count": 652,
      "metadata": {
        "colab": {
          "base_uri": "https://localhost:8080/",
          "height": 339
        },
        "id": "byXALcZL-vgr",
        "outputId": "6bdbe112-993f-475e-9504-fbb4f4290a67"
      },
      "outputs": [
        {
          "output_type": "stream",
          "name": "stdout",
          "text": [
            "Drive already mounted at /gdrive; to attempt to forcibly remount, call drive.mount(\"/gdrive\", force_remount=True).\n"
          ]
        },
        {
          "output_type": "execute_result",
          "data": {
            "text/html": [
              "\n",
              "  <div id=\"df-c95cf654-c5f5-4ca2-993a-ce5b97a7993d\">\n",
              "    <div class=\"colab-df-container\">\n",
              "      <div>\n",
              "<style scoped>\n",
              "    .dataframe tbody tr th:only-of-type {\n",
              "        vertical-align: middle;\n",
              "    }\n",
              "\n",
              "    .dataframe tbody tr th {\n",
              "        vertical-align: top;\n",
              "    }\n",
              "\n",
              "    .dataframe thead th {\n",
              "        text-align: right;\n",
              "    }\n",
              "</style>\n",
              "<table border=\"1\" class=\"dataframe\">\n",
              "  <thead>\n",
              "    <tr style=\"text-align: right;\">\n",
              "      <th></th>\n",
              "      <th>date</th>\n",
              "      <th>hour</th>\n",
              "      <th>category</th>\n",
              "      <th>duration</th>\n",
              "      <th>average_watch_time_seconds</th>\n",
              "      <th>percent_watched_full</th>\n",
              "      <th>plays</th>\n",
              "      <th>likes</th>\n",
              "      <th>comments</th>\n",
              "      <th>shares</th>\n",
              "      <th>voiceover</th>\n",
              "      <th>in_video_text</th>\n",
              "      <th>captions</th>\n",
              "      <th>viral</th>\n",
              "    </tr>\n",
              "  </thead>\n",
              "  <tbody>\n",
              "    <tr>\n",
              "      <th>0</th>\n",
              "      <td>05/12/2021</td>\n",
              "      <td>2100</td>\n",
              "      <td>cooking prep</td>\n",
              "      <td>55.70</td>\n",
              "      <td>26.6</td>\n",
              "      <td>16.14</td>\n",
              "      <td>63300.0</td>\n",
              "      <td>3278</td>\n",
              "      <td>28</td>\n",
              "      <td>237</td>\n",
              "      <td>yes</td>\n",
              "      <td>no</td>\n",
              "      <td>yes</td>\n",
              "      <td>0</td>\n",
              "    </tr>\n",
              "    <tr>\n",
              "      <th>1</th>\n",
              "      <td>05/13/2021</td>\n",
              "      <td>800</td>\n",
              "      <td>how to</td>\n",
              "      <td>59.19</td>\n",
              "      <td>24.7</td>\n",
              "      <td>16.52</td>\n",
              "      <td>80900.0</td>\n",
              "      <td>3582</td>\n",
              "      <td>59</td>\n",
              "      <td>235</td>\n",
              "      <td>yes</td>\n",
              "      <td>no</td>\n",
              "      <td>no</td>\n",
              "      <td>0</td>\n",
              "    </tr>\n",
              "    <tr>\n",
              "      <th>2</th>\n",
              "      <td>05/13/2021</td>\n",
              "      <td>1200</td>\n",
              "      <td>dinner prep</td>\n",
              "      <td>56.38</td>\n",
              "      <td>25.2</td>\n",
              "      <td>23.93</td>\n",
              "      <td>63300.0</td>\n",
              "      <td>3466</td>\n",
              "      <td>28</td>\n",
              "      <td>311</td>\n",
              "      <td>yes</td>\n",
              "      <td>yes</td>\n",
              "      <td>yes</td>\n",
              "      <td>0</td>\n",
              "    </tr>\n",
              "    <tr>\n",
              "      <th>3</th>\n",
              "      <td>05/14/2021</td>\n",
              "      <td>1200</td>\n",
              "      <td>how to</td>\n",
              "      <td>35.48</td>\n",
              "      <td>22.7</td>\n",
              "      <td>29.95</td>\n",
              "      <td>59500.0</td>\n",
              "      <td>3622</td>\n",
              "      <td>54</td>\n",
              "      <td>227</td>\n",
              "      <td>yes</td>\n",
              "      <td>no</td>\n",
              "      <td>yes</td>\n",
              "      <td>0</td>\n",
              "    </tr>\n",
              "    <tr>\n",
              "      <th>4</th>\n",
              "      <td>05/14/2021</td>\n",
              "      <td>1100</td>\n",
              "      <td>dinner prep</td>\n",
              "      <td>59.19</td>\n",
              "      <td>29.6</td>\n",
              "      <td>35.36</td>\n",
              "      <td>77700.0</td>\n",
              "      <td>5009</td>\n",
              "      <td>65</td>\n",
              "      <td>403</td>\n",
              "      <td>yes</td>\n",
              "      <td>no</td>\n",
              "      <td>yes</td>\n",
              "      <td>0</td>\n",
              "    </tr>\n",
              "  </tbody>\n",
              "</table>\n",
              "</div>\n",
              "      <button class=\"colab-df-convert\" onclick=\"convertToInteractive('df-c95cf654-c5f5-4ca2-993a-ce5b97a7993d')\"\n",
              "              title=\"Convert this dataframe to an interactive table.\"\n",
              "              style=\"display:none;\">\n",
              "        \n",
              "  <svg xmlns=\"http://www.w3.org/2000/svg\" height=\"24px\"viewBox=\"0 0 24 24\"\n",
              "       width=\"24px\">\n",
              "    <path d=\"M0 0h24v24H0V0z\" fill=\"none\"/>\n",
              "    <path d=\"M18.56 5.44l.94 2.06.94-2.06 2.06-.94-2.06-.94-.94-2.06-.94 2.06-2.06.94zm-11 1L8.5 8.5l.94-2.06 2.06-.94-2.06-.94L8.5 2.5l-.94 2.06-2.06.94zm10 10l.94 2.06.94-2.06 2.06-.94-2.06-.94-.94-2.06-.94 2.06-2.06.94z\"/><path d=\"M17.41 7.96l-1.37-1.37c-.4-.4-.92-.59-1.43-.59-.52 0-1.04.2-1.43.59L10.3 9.45l-7.72 7.72c-.78.78-.78 2.05 0 2.83L4 21.41c.39.39.9.59 1.41.59.51 0 1.02-.2 1.41-.59l7.78-7.78 2.81-2.81c.8-.78.8-2.07 0-2.86zM5.41 20L4 18.59l7.72-7.72 1.47 1.35L5.41 20z\"/>\n",
              "  </svg>\n",
              "      </button>\n",
              "      \n",
              "  <style>\n",
              "    .colab-df-container {\n",
              "      display:flex;\n",
              "      flex-wrap:wrap;\n",
              "      gap: 12px;\n",
              "    }\n",
              "\n",
              "    .colab-df-convert {\n",
              "      background-color: #E8F0FE;\n",
              "      border: none;\n",
              "      border-radius: 50%;\n",
              "      cursor: pointer;\n",
              "      display: none;\n",
              "      fill: #1967D2;\n",
              "      height: 32px;\n",
              "      padding: 0 0 0 0;\n",
              "      width: 32px;\n",
              "    }\n",
              "\n",
              "    .colab-df-convert:hover {\n",
              "      background-color: #E2EBFA;\n",
              "      box-shadow: 0px 1px 2px rgba(60, 64, 67, 0.3), 0px 1px 3px 1px rgba(60, 64, 67, 0.15);\n",
              "      fill: #174EA6;\n",
              "    }\n",
              "\n",
              "    [theme=dark] .colab-df-convert {\n",
              "      background-color: #3B4455;\n",
              "      fill: #D2E3FC;\n",
              "    }\n",
              "\n",
              "    [theme=dark] .colab-df-convert:hover {\n",
              "      background-color: #434B5C;\n",
              "      box-shadow: 0px 1px 3px 1px rgba(0, 0, 0, 0.15);\n",
              "      filter: drop-shadow(0px 1px 2px rgba(0, 0, 0, 0.3));\n",
              "      fill: #FFFFFF;\n",
              "    }\n",
              "  </style>\n",
              "\n",
              "      <script>\n",
              "        const buttonEl =\n",
              "          document.querySelector('#df-c95cf654-c5f5-4ca2-993a-ce5b97a7993d button.colab-df-convert');\n",
              "        buttonEl.style.display =\n",
              "          google.colab.kernel.accessAllowed ? 'block' : 'none';\n",
              "\n",
              "        async function convertToInteractive(key) {\n",
              "          const element = document.querySelector('#df-c95cf654-c5f5-4ca2-993a-ce5b97a7993d');\n",
              "          const dataTable =\n",
              "            await google.colab.kernel.invokeFunction('convertToInteractive',\n",
              "                                                     [key], {});\n",
              "          if (!dataTable) return;\n",
              "\n",
              "          const docLinkHtml = 'Like what you see? Visit the ' +\n",
              "            '<a target=\"_blank\" href=https://colab.research.google.com/notebooks/data_table.ipynb>data table notebook</a>'\n",
              "            + ' to learn more about interactive tables.';\n",
              "          element.innerHTML = '';\n",
              "          dataTable['output_type'] = 'display_data';\n",
              "          await google.colab.output.renderOutput(dataTable, element);\n",
              "          const docLink = document.createElement('div');\n",
              "          docLink.innerHTML = docLinkHtml;\n",
              "          element.appendChild(docLink);\n",
              "        }\n",
              "      </script>\n",
              "    </div>\n",
              "  </div>\n",
              "  "
            ],
            "text/plain": [
              "         date  hour      category  ...  in_video_text  captions  viral\n",
              "0  05/12/2021  2100  cooking prep  ...             no       yes      0\n",
              "1  05/13/2021   800        how to  ...             no        no      0\n",
              "2  05/13/2021  1200   dinner prep  ...            yes       yes      0\n",
              "3  05/14/2021  1200        how to  ...             no       yes      0\n",
              "4  05/14/2021  1100   dinner prep  ...             no       yes      0\n",
              "\n",
              "[5 rows x 14 columns]"
            ]
          },
          "metadata": {},
          "execution_count": 652
        }
      ],
      "source": [
        "# mounting the google drive\n",
        "from google.colab import drive\n",
        "drive.mount('/gdrive')\n",
        "import pandas as pd\n",
        "# importing data\n",
        "oatmeal = pd.read_csv('/gdrive/MyDrive/oatmealmonsters/video_specific_data.csv')\n",
        "oatmeal.head()"
      ]
    },
    {
      "cell_type": "markdown",
      "source": [
        "## EDA"
      ],
      "metadata": {
        "id": "IJoGZwAeLI2I"
      }
    },
    {
      "cell_type": "markdown",
      "source": [
        "### quick look at the data"
      ],
      "metadata": {
        "id": "oMaOFY76iLEG"
      }
    },
    {
      "cell_type": "code",
      "source": [
        "# checking quick statistics\n",
        "oatmeal.describe()"
      ],
      "metadata": {
        "colab": {
          "base_uri": "https://localhost:8080/",
          "height": 364
        },
        "id": "WBplO8oDrlN3",
        "outputId": "be36fb79-84ba-4a13-9a56-6b3664b1635f"
      },
      "execution_count": 653,
      "outputs": [
        {
          "output_type": "execute_result",
          "data": {
            "text/html": [
              "\n",
              "  <div id=\"df-8be6b0d3-0c23-4fb6-8e5c-128fc5a72ac5\">\n",
              "    <div class=\"colab-df-container\">\n",
              "      <div>\n",
              "<style scoped>\n",
              "    .dataframe tbody tr th:only-of-type {\n",
              "        vertical-align: middle;\n",
              "    }\n",
              "\n",
              "    .dataframe tbody tr th {\n",
              "        vertical-align: top;\n",
              "    }\n",
              "\n",
              "    .dataframe thead th {\n",
              "        text-align: right;\n",
              "    }\n",
              "</style>\n",
              "<table border=\"1\" class=\"dataframe\">\n",
              "  <thead>\n",
              "    <tr style=\"text-align: right;\">\n",
              "      <th></th>\n",
              "      <th>hour</th>\n",
              "      <th>duration</th>\n",
              "      <th>average_watch_time_seconds</th>\n",
              "      <th>percent_watched_full</th>\n",
              "      <th>plays</th>\n",
              "      <th>likes</th>\n",
              "      <th>comments</th>\n",
              "      <th>shares</th>\n",
              "      <th>viral</th>\n",
              "    </tr>\n",
              "  </thead>\n",
              "  <tbody>\n",
              "    <tr>\n",
              "      <th>count</th>\n",
              "      <td>105.000000</td>\n",
              "      <td>105.000000</td>\n",
              "      <td>105.000000</td>\n",
              "      <td>105.000000</td>\n",
              "      <td>1.050000e+02</td>\n",
              "      <td>105.000000</td>\n",
              "      <td>105.000000</td>\n",
              "      <td>105.000000</td>\n",
              "      <td>105.000000</td>\n",
              "    </tr>\n",
              "    <tr>\n",
              "      <th>mean</th>\n",
              "      <td>1051.428571</td>\n",
              "      <td>34.680762</td>\n",
              "      <td>17.160000</td>\n",
              "      <td>26.668095</td>\n",
              "      <td>2.566319e+05</td>\n",
              "      <td>20948.542857</td>\n",
              "      <td>142.200000</td>\n",
              "      <td>1585.219048</td>\n",
              "      <td>0.257143</td>\n",
              "    </tr>\n",
              "    <tr>\n",
              "      <th>std</th>\n",
              "      <td>221.929600</td>\n",
              "      <td>17.101039</td>\n",
              "      <td>7.523011</td>\n",
              "      <td>12.734048</td>\n",
              "      <td>7.246962e+05</td>\n",
              "      <td>83111.256888</td>\n",
              "      <td>439.833784</td>\n",
              "      <td>8267.325720</td>\n",
              "      <td>0.439155</td>\n",
              "    </tr>\n",
              "    <tr>\n",
              "      <th>min</th>\n",
              "      <td>700.000000</td>\n",
              "      <td>8.000000</td>\n",
              "      <td>3.700000</td>\n",
              "      <td>2.470000</td>\n",
              "      <td>1.366000e+02</td>\n",
              "      <td>155.000000</td>\n",
              "      <td>1.000000</td>\n",
              "      <td>1.000000</td>\n",
              "      <td>0.000000</td>\n",
              "    </tr>\n",
              "    <tr>\n",
              "      <th>25%</th>\n",
              "      <td>900.000000</td>\n",
              "      <td>20.000000</td>\n",
              "      <td>10.700000</td>\n",
              "      <td>17.160000</td>\n",
              "      <td>2.920000e+04</td>\n",
              "      <td>1180.000000</td>\n",
              "      <td>16.000000</td>\n",
              "      <td>16.000000</td>\n",
              "      <td>0.000000</td>\n",
              "    </tr>\n",
              "    <tr>\n",
              "      <th>50%</th>\n",
              "      <td>1000.000000</td>\n",
              "      <td>33.000000</td>\n",
              "      <td>16.500000</td>\n",
              "      <td>25.850000</td>\n",
              "      <td>6.140000e+04</td>\n",
              "      <td>2418.000000</td>\n",
              "      <td>30.000000</td>\n",
              "      <td>70.000000</td>\n",
              "      <td>0.000000</td>\n",
              "    </tr>\n",
              "    <tr>\n",
              "      <th>75%</th>\n",
              "      <td>1100.000000</td>\n",
              "      <td>51.850000</td>\n",
              "      <td>23.500000</td>\n",
              "      <td>35.360000</td>\n",
              "      <td>1.035000e+05</td>\n",
              "      <td>5251.000000</td>\n",
              "      <td>68.000000</td>\n",
              "      <td>253.000000</td>\n",
              "      <td>1.000000</td>\n",
              "    </tr>\n",
              "    <tr>\n",
              "      <th>max</th>\n",
              "      <td>2100.000000</td>\n",
              "      <td>60.110000</td>\n",
              "      <td>36.700000</td>\n",
              "      <td>63.510000</td>\n",
              "      <td>5.700000e+06</td>\n",
              "      <td>748800.000000</td>\n",
              "      <td>3910.000000</td>\n",
              "      <td>77700.000000</td>\n",
              "      <td>1.000000</td>\n",
              "    </tr>\n",
              "  </tbody>\n",
              "</table>\n",
              "</div>\n",
              "      <button class=\"colab-df-convert\" onclick=\"convertToInteractive('df-8be6b0d3-0c23-4fb6-8e5c-128fc5a72ac5')\"\n",
              "              title=\"Convert this dataframe to an interactive table.\"\n",
              "              style=\"display:none;\">\n",
              "        \n",
              "  <svg xmlns=\"http://www.w3.org/2000/svg\" height=\"24px\"viewBox=\"0 0 24 24\"\n",
              "       width=\"24px\">\n",
              "    <path d=\"M0 0h24v24H0V0z\" fill=\"none\"/>\n",
              "    <path d=\"M18.56 5.44l.94 2.06.94-2.06 2.06-.94-2.06-.94-.94-2.06-.94 2.06-2.06.94zm-11 1L8.5 8.5l.94-2.06 2.06-.94-2.06-.94L8.5 2.5l-.94 2.06-2.06.94zm10 10l.94 2.06.94-2.06 2.06-.94-2.06-.94-.94-2.06-.94 2.06-2.06.94z\"/><path d=\"M17.41 7.96l-1.37-1.37c-.4-.4-.92-.59-1.43-.59-.52 0-1.04.2-1.43.59L10.3 9.45l-7.72 7.72c-.78.78-.78 2.05 0 2.83L4 21.41c.39.39.9.59 1.41.59.51 0 1.02-.2 1.41-.59l7.78-7.78 2.81-2.81c.8-.78.8-2.07 0-2.86zM5.41 20L4 18.59l7.72-7.72 1.47 1.35L5.41 20z\"/>\n",
              "  </svg>\n",
              "      </button>\n",
              "      \n",
              "  <style>\n",
              "    .colab-df-container {\n",
              "      display:flex;\n",
              "      flex-wrap:wrap;\n",
              "      gap: 12px;\n",
              "    }\n",
              "\n",
              "    .colab-df-convert {\n",
              "      background-color: #E8F0FE;\n",
              "      border: none;\n",
              "      border-radius: 50%;\n",
              "      cursor: pointer;\n",
              "      display: none;\n",
              "      fill: #1967D2;\n",
              "      height: 32px;\n",
              "      padding: 0 0 0 0;\n",
              "      width: 32px;\n",
              "    }\n",
              "\n",
              "    .colab-df-convert:hover {\n",
              "      background-color: #E2EBFA;\n",
              "      box-shadow: 0px 1px 2px rgba(60, 64, 67, 0.3), 0px 1px 3px 1px rgba(60, 64, 67, 0.15);\n",
              "      fill: #174EA6;\n",
              "    }\n",
              "\n",
              "    [theme=dark] .colab-df-convert {\n",
              "      background-color: #3B4455;\n",
              "      fill: #D2E3FC;\n",
              "    }\n",
              "\n",
              "    [theme=dark] .colab-df-convert:hover {\n",
              "      background-color: #434B5C;\n",
              "      box-shadow: 0px 1px 3px 1px rgba(0, 0, 0, 0.15);\n",
              "      filter: drop-shadow(0px 1px 2px rgba(0, 0, 0, 0.3));\n",
              "      fill: #FFFFFF;\n",
              "    }\n",
              "  </style>\n",
              "\n",
              "      <script>\n",
              "        const buttonEl =\n",
              "          document.querySelector('#df-8be6b0d3-0c23-4fb6-8e5c-128fc5a72ac5 button.colab-df-convert');\n",
              "        buttonEl.style.display =\n",
              "          google.colab.kernel.accessAllowed ? 'block' : 'none';\n",
              "\n",
              "        async function convertToInteractive(key) {\n",
              "          const element = document.querySelector('#df-8be6b0d3-0c23-4fb6-8e5c-128fc5a72ac5');\n",
              "          const dataTable =\n",
              "            await google.colab.kernel.invokeFunction('convertToInteractive',\n",
              "                                                     [key], {});\n",
              "          if (!dataTable) return;\n",
              "\n",
              "          const docLinkHtml = 'Like what you see? Visit the ' +\n",
              "            '<a target=\"_blank\" href=https://colab.research.google.com/notebooks/data_table.ipynb>data table notebook</a>'\n",
              "            + ' to learn more about interactive tables.';\n",
              "          element.innerHTML = '';\n",
              "          dataTable['output_type'] = 'display_data';\n",
              "          await google.colab.output.renderOutput(dataTable, element);\n",
              "          const docLink = document.createElement('div');\n",
              "          docLink.innerHTML = docLinkHtml;\n",
              "          element.appendChild(docLink);\n",
              "        }\n",
              "      </script>\n",
              "    </div>\n",
              "  </div>\n",
              "  "
            ],
            "text/plain": [
              "              hour    duration  ...        shares       viral\n",
              "count   105.000000  105.000000  ...    105.000000  105.000000\n",
              "mean   1051.428571   34.680762  ...   1585.219048    0.257143\n",
              "std     221.929600   17.101039  ...   8267.325720    0.439155\n",
              "min     700.000000    8.000000  ...      1.000000    0.000000\n",
              "25%     900.000000   20.000000  ...     16.000000    0.000000\n",
              "50%    1000.000000   33.000000  ...     70.000000    0.000000\n",
              "75%    1100.000000   51.850000  ...    253.000000    1.000000\n",
              "max    2100.000000   60.110000  ...  77700.000000    1.000000\n",
              "\n",
              "[8 rows x 9 columns]"
            ]
          },
          "metadata": {},
          "execution_count": 653
        }
      ]
    },
    {
      "cell_type": "code",
      "source": [
        "# 105 rows, 9 columns\n",
        "oatmeal.shape"
      ],
      "metadata": {
        "colab": {
          "base_uri": "https://localhost:8080/"
        },
        "id": "PqKwdjvQK4U7",
        "outputId": "c7ccda00-d0ab-4e92-d6fe-7d6bc974c5e2"
      },
      "execution_count": 654,
      "outputs": [
        {
          "output_type": "execute_result",
          "data": {
            "text/plain": [
              "(105, 14)"
            ]
          },
          "metadata": {},
          "execution_count": 654
        }
      ]
    },
    {
      "cell_type": "code",
      "source": [
        "# checking the columns of the dataset\n",
        "oatmeal.columns"
      ],
      "metadata": {
        "colab": {
          "base_uri": "https://localhost:8080/"
        },
        "id": "n10j3P_4LEry",
        "outputId": "07801508-6c41-4d25-970b-bc543207b39c"
      },
      "execution_count": 655,
      "outputs": [
        {
          "output_type": "execute_result",
          "data": {
            "text/plain": [
              "Index(['date', 'hour', 'category', 'duration', 'average_watch_time_seconds',\n",
              "       'percent_watched_full', 'plays', 'likes', 'comments', 'shares',\n",
              "       'voiceover', 'in_video_text', 'captions', 'viral'],\n",
              "      dtype='object')"
            ]
          },
          "metadata": {},
          "execution_count": 655
        }
      ]
    },
    {
      "cell_type": "code",
      "source": [
        "# checking the datatypes\n",
        "oatmeal.dtypes"
      ],
      "metadata": {
        "colab": {
          "base_uri": "https://localhost:8080/"
        },
        "id": "HDhCcF6MLR1k",
        "outputId": "23ae7390-3312-4e4b-f82c-5562d812f96a"
      },
      "execution_count": 656,
      "outputs": [
        {
          "output_type": "execute_result",
          "data": {
            "text/plain": [
              "date                           object\n",
              "hour                            int64\n",
              "category                       object\n",
              "duration                      float64\n",
              "average_watch_time_seconds    float64\n",
              "percent_watched_full          float64\n",
              "plays                         float64\n",
              "likes                           int64\n",
              "comments                        int64\n",
              "shares                          int64\n",
              "voiceover                      object\n",
              "in_video_text                  object\n",
              "captions                       object\n",
              "viral                           int64\n",
              "dtype: object"
            ]
          },
          "metadata": {},
          "execution_count": 656
        }
      ]
    },
    {
      "cell_type": "code",
      "source": [
        "# checking for unique values\n",
        "oatmeal.nunique()"
      ],
      "metadata": {
        "colab": {
          "base_uri": "https://localhost:8080/"
        },
        "id": "4sKm775KLUn1",
        "outputId": "475d7cff-5094-40d8-8fb2-202c279f3618"
      },
      "execution_count": 657,
      "outputs": [
        {
          "output_type": "execute_result",
          "data": {
            "text/plain": [
              "date                           96\n",
              "hour                           11\n",
              "category                       15\n",
              "duration                       89\n",
              "average_watch_time_seconds     83\n",
              "percent_watched_full          105\n",
              "plays                          97\n",
              "likes                         105\n",
              "comments                       68\n",
              "shares                         85\n",
              "voiceover                       2\n",
              "in_video_text                   2\n",
              "captions                        2\n",
              "viral                           2\n",
              "dtype: int64"
            ]
          },
          "metadata": {},
          "execution_count": 657
        }
      ]
    },
    {
      "cell_type": "code",
      "source": [
        "# checking out how many different categories of videos are made\n",
        "oatmeal['category'].unique()"
      ],
      "metadata": {
        "colab": {
          "base_uri": "https://localhost:8080/"
        },
        "id": "Hmqax8ECLf7y",
        "outputId": "1247cda4-a5e9-4b07-fd61-0a83c2c32889"
      },
      "execution_count": 658,
      "outputs": [
        {
          "output_type": "execute_result",
          "data": {
            "text/plain": [
              "array(['cooking prep', 'how to', 'dinner prep', 'inquiry', 'cooking',\n",
              "       'trend', 'shopping', 'breakfast prep', 'response', 'organization',\n",
              "       'dessert prep', 'lunch prep', 'filler', 'tips', 'baby prep'],\n",
              "      dtype=object)"
            ]
          },
          "metadata": {},
          "execution_count": 658
        }
      ]
    },
    {
      "cell_type": "markdown",
      "source": [
        "### cleaning the data"
      ],
      "metadata": {
        "id": "-E4qCbieMCSo"
      }
    },
    {
      "cell_type": "code",
      "source": [
        "# checking the data for null values\n",
        "oatmeal.isnull().sum()"
      ],
      "metadata": {
        "colab": {
          "base_uri": "https://localhost:8080/"
        },
        "id": "sqXG1VsIMJ59",
        "outputId": "70b49e5a-680f-4836-f017-2d4934f71bb7"
      },
      "execution_count": 659,
      "outputs": [
        {
          "output_type": "execute_result",
          "data": {
            "text/plain": [
              "date                          0\n",
              "hour                          0\n",
              "category                      0\n",
              "duration                      0\n",
              "average_watch_time_seconds    0\n",
              "percent_watched_full          0\n",
              "plays                         0\n",
              "likes                         0\n",
              "comments                      0\n",
              "shares                        0\n",
              "voiceover                     0\n",
              "in_video_text                 0\n",
              "captions                      0\n",
              "viral                         0\n",
              "dtype: int64"
            ]
          },
          "metadata": {},
          "execution_count": 659
        }
      ]
    },
    {
      "cell_type": "code",
      "source": [
        "# changing the date to datetime data type and extracting the day to add as a new column\n",
        "oatmeal['date'] = pd.to_datetime(oatmeal['date'])\n",
        "oatmeal['day_of_week'] = oatmeal['date'].dt.day_name()"
      ],
      "metadata": {
        "id": "9tovDpM68jtu"
      },
      "execution_count": 660,
      "outputs": []
    },
    {
      "cell_type": "code",
      "source": [
        "oatmeal['voiceover'] = oatmeal['voiceover'].map({'yes':1, 'no':0})\n",
        "oatmeal['in_video_text'] = oatmeal['in_video_text'].map({'yes':1, 'no':0})\n",
        "oatmeal['captions'] = oatmeal['captions'].map({'yes':1, 'no':0})"
      ],
      "metadata": {
        "id": "2Rj1eia0OMvM"
      },
      "execution_count": 661,
      "outputs": []
    },
    {
      "cell_type": "code",
      "source": [
        "oatmeal.head(15)"
      ],
      "metadata": {
        "colab": {
          "base_uri": "https://localhost:8080/",
          "height": 844
        },
        "id": "LL3qzejiMx2p",
        "outputId": "1e7c3b8b-d630-4a90-8808-51b6b37ef01d"
      },
      "execution_count": 662,
      "outputs": [
        {
          "output_type": "execute_result",
          "data": {
            "text/html": [
              "\n",
              "  <div id=\"df-76a0c242-30f6-4619-9f31-53b0d8a0fd5f\">\n",
              "    <div class=\"colab-df-container\">\n",
              "      <div>\n",
              "<style scoped>\n",
              "    .dataframe tbody tr th:only-of-type {\n",
              "        vertical-align: middle;\n",
              "    }\n",
              "\n",
              "    .dataframe tbody tr th {\n",
              "        vertical-align: top;\n",
              "    }\n",
              "\n",
              "    .dataframe thead th {\n",
              "        text-align: right;\n",
              "    }\n",
              "</style>\n",
              "<table border=\"1\" class=\"dataframe\">\n",
              "  <thead>\n",
              "    <tr style=\"text-align: right;\">\n",
              "      <th></th>\n",
              "      <th>date</th>\n",
              "      <th>hour</th>\n",
              "      <th>category</th>\n",
              "      <th>duration</th>\n",
              "      <th>average_watch_time_seconds</th>\n",
              "      <th>percent_watched_full</th>\n",
              "      <th>plays</th>\n",
              "      <th>likes</th>\n",
              "      <th>comments</th>\n",
              "      <th>shares</th>\n",
              "      <th>voiceover</th>\n",
              "      <th>in_video_text</th>\n",
              "      <th>captions</th>\n",
              "      <th>viral</th>\n",
              "      <th>day_of_week</th>\n",
              "    </tr>\n",
              "  </thead>\n",
              "  <tbody>\n",
              "    <tr>\n",
              "      <th>0</th>\n",
              "      <td>2021-05-12</td>\n",
              "      <td>2100</td>\n",
              "      <td>cooking prep</td>\n",
              "      <td>55.70</td>\n",
              "      <td>26.6</td>\n",
              "      <td>16.14</td>\n",
              "      <td>63300.0</td>\n",
              "      <td>3278</td>\n",
              "      <td>28</td>\n",
              "      <td>237</td>\n",
              "      <td>1</td>\n",
              "      <td>0</td>\n",
              "      <td>1</td>\n",
              "      <td>0</td>\n",
              "      <td>Wednesday</td>\n",
              "    </tr>\n",
              "    <tr>\n",
              "      <th>1</th>\n",
              "      <td>2021-05-13</td>\n",
              "      <td>800</td>\n",
              "      <td>how to</td>\n",
              "      <td>59.19</td>\n",
              "      <td>24.7</td>\n",
              "      <td>16.52</td>\n",
              "      <td>80900.0</td>\n",
              "      <td>3582</td>\n",
              "      <td>59</td>\n",
              "      <td>235</td>\n",
              "      <td>1</td>\n",
              "      <td>0</td>\n",
              "      <td>0</td>\n",
              "      <td>0</td>\n",
              "      <td>Thursday</td>\n",
              "    </tr>\n",
              "    <tr>\n",
              "      <th>2</th>\n",
              "      <td>2021-05-13</td>\n",
              "      <td>1200</td>\n",
              "      <td>dinner prep</td>\n",
              "      <td>56.38</td>\n",
              "      <td>25.2</td>\n",
              "      <td>23.93</td>\n",
              "      <td>63300.0</td>\n",
              "      <td>3466</td>\n",
              "      <td>28</td>\n",
              "      <td>311</td>\n",
              "      <td>1</td>\n",
              "      <td>1</td>\n",
              "      <td>1</td>\n",
              "      <td>0</td>\n",
              "      <td>Thursday</td>\n",
              "    </tr>\n",
              "    <tr>\n",
              "      <th>3</th>\n",
              "      <td>2021-05-14</td>\n",
              "      <td>1200</td>\n",
              "      <td>how to</td>\n",
              "      <td>35.48</td>\n",
              "      <td>22.7</td>\n",
              "      <td>29.95</td>\n",
              "      <td>59500.0</td>\n",
              "      <td>3622</td>\n",
              "      <td>54</td>\n",
              "      <td>227</td>\n",
              "      <td>1</td>\n",
              "      <td>0</td>\n",
              "      <td>1</td>\n",
              "      <td>0</td>\n",
              "      <td>Friday</td>\n",
              "    </tr>\n",
              "    <tr>\n",
              "      <th>4</th>\n",
              "      <td>2021-05-14</td>\n",
              "      <td>1100</td>\n",
              "      <td>dinner prep</td>\n",
              "      <td>59.19</td>\n",
              "      <td>29.6</td>\n",
              "      <td>35.36</td>\n",
              "      <td>77700.0</td>\n",
              "      <td>5009</td>\n",
              "      <td>65</td>\n",
              "      <td>403</td>\n",
              "      <td>1</td>\n",
              "      <td>0</td>\n",
              "      <td>1</td>\n",
              "      <td>0</td>\n",
              "      <td>Friday</td>\n",
              "    </tr>\n",
              "    <tr>\n",
              "      <th>5</th>\n",
              "      <td>2021-05-15</td>\n",
              "      <td>900</td>\n",
              "      <td>dinner prep</td>\n",
              "      <td>58.58</td>\n",
              "      <td>22.6</td>\n",
              "      <td>21.37</td>\n",
              "      <td>61100.0</td>\n",
              "      <td>2068</td>\n",
              "      <td>18</td>\n",
              "      <td>94</td>\n",
              "      <td>1</td>\n",
              "      <td>0</td>\n",
              "      <td>1</td>\n",
              "      <td>0</td>\n",
              "      <td>Saturday</td>\n",
              "    </tr>\n",
              "    <tr>\n",
              "      <th>6</th>\n",
              "      <td>2021-05-16</td>\n",
              "      <td>1200</td>\n",
              "      <td>how to</td>\n",
              "      <td>56.75</td>\n",
              "      <td>26.9</td>\n",
              "      <td>27.58</td>\n",
              "      <td>61600.0</td>\n",
              "      <td>3603</td>\n",
              "      <td>49</td>\n",
              "      <td>200</td>\n",
              "      <td>1</td>\n",
              "      <td>0</td>\n",
              "      <td>1</td>\n",
              "      <td>0</td>\n",
              "      <td>Sunday</td>\n",
              "    </tr>\n",
              "    <tr>\n",
              "      <th>7</th>\n",
              "      <td>2021-05-17</td>\n",
              "      <td>1000</td>\n",
              "      <td>dinner prep</td>\n",
              "      <td>42.93</td>\n",
              "      <td>24.9</td>\n",
              "      <td>17.16</td>\n",
              "      <td>62800.0</td>\n",
              "      <td>2926</td>\n",
              "      <td>18</td>\n",
              "      <td>125</td>\n",
              "      <td>1</td>\n",
              "      <td>0</td>\n",
              "      <td>1</td>\n",
              "      <td>0</td>\n",
              "      <td>Monday</td>\n",
              "    </tr>\n",
              "    <tr>\n",
              "      <th>8</th>\n",
              "      <td>2021-05-17</td>\n",
              "      <td>1300</td>\n",
              "      <td>inquiry</td>\n",
              "      <td>23.98</td>\n",
              "      <td>6.5</td>\n",
              "      <td>3.46</td>\n",
              "      <td>64900.0</td>\n",
              "      <td>1031</td>\n",
              "      <td>282</td>\n",
              "      <td>3</td>\n",
              "      <td>1</td>\n",
              "      <td>0</td>\n",
              "      <td>1</td>\n",
              "      <td>0</td>\n",
              "      <td>Monday</td>\n",
              "    </tr>\n",
              "    <tr>\n",
              "      <th>9</th>\n",
              "      <td>2021-05-18</td>\n",
              "      <td>900</td>\n",
              "      <td>cooking</td>\n",
              "      <td>58.35</td>\n",
              "      <td>35.5</td>\n",
              "      <td>44.53</td>\n",
              "      <td>69500.0</td>\n",
              "      <td>2413</td>\n",
              "      <td>40</td>\n",
              "      <td>27</td>\n",
              "      <td>0</td>\n",
              "      <td>0</td>\n",
              "      <td>0</td>\n",
              "      <td>0</td>\n",
              "      <td>Tuesday</td>\n",
              "    </tr>\n",
              "    <tr>\n",
              "      <th>10</th>\n",
              "      <td>2021-05-18</td>\n",
              "      <td>1300</td>\n",
              "      <td>how to</td>\n",
              "      <td>59.21</td>\n",
              "      <td>20.4</td>\n",
              "      <td>17.00</td>\n",
              "      <td>91300.0</td>\n",
              "      <td>2864</td>\n",
              "      <td>29</td>\n",
              "      <td>121</td>\n",
              "      <td>1</td>\n",
              "      <td>1</td>\n",
              "      <td>1</td>\n",
              "      <td>0</td>\n",
              "      <td>Tuesday</td>\n",
              "    </tr>\n",
              "    <tr>\n",
              "      <th>11</th>\n",
              "      <td>2021-05-19</td>\n",
              "      <td>900</td>\n",
              "      <td>cooking prep</td>\n",
              "      <td>48.76</td>\n",
              "      <td>24.7</td>\n",
              "      <td>20.21</td>\n",
              "      <td>84500.0</td>\n",
              "      <td>4092</td>\n",
              "      <td>31</td>\n",
              "      <td>122</td>\n",
              "      <td>1</td>\n",
              "      <td>0</td>\n",
              "      <td>1</td>\n",
              "      <td>0</td>\n",
              "      <td>Wednesday</td>\n",
              "    </tr>\n",
              "    <tr>\n",
              "      <th>12</th>\n",
              "      <td>2021-05-20</td>\n",
              "      <td>800</td>\n",
              "      <td>trend</td>\n",
              "      <td>15.23</td>\n",
              "      <td>9.1</td>\n",
              "      <td>35.97</td>\n",
              "      <td>77100.0</td>\n",
              "      <td>1717</td>\n",
              "      <td>29</td>\n",
              "      <td>41</td>\n",
              "      <td>0</td>\n",
              "      <td>1</td>\n",
              "      <td>0</td>\n",
              "      <td>0</td>\n",
              "      <td>Thursday</td>\n",
              "    </tr>\n",
              "    <tr>\n",
              "      <th>13</th>\n",
              "      <td>2021-05-20</td>\n",
              "      <td>1000</td>\n",
              "      <td>trend</td>\n",
              "      <td>10.91</td>\n",
              "      <td>8.1</td>\n",
              "      <td>40.74</td>\n",
              "      <td>88000.0</td>\n",
              "      <td>2740</td>\n",
              "      <td>10</td>\n",
              "      <td>23</td>\n",
              "      <td>0</td>\n",
              "      <td>1</td>\n",
              "      <td>0</td>\n",
              "      <td>1</td>\n",
              "      <td>Thursday</td>\n",
              "    </tr>\n",
              "    <tr>\n",
              "      <th>14</th>\n",
              "      <td>2021-05-21</td>\n",
              "      <td>1100</td>\n",
              "      <td>how to</td>\n",
              "      <td>39.59</td>\n",
              "      <td>18.7</td>\n",
              "      <td>20.10</td>\n",
              "      <td>128600.0</td>\n",
              "      <td>5089</td>\n",
              "      <td>77</td>\n",
              "      <td>310</td>\n",
              "      <td>1</td>\n",
              "      <td>1</td>\n",
              "      <td>1</td>\n",
              "      <td>0</td>\n",
              "      <td>Friday</td>\n",
              "    </tr>\n",
              "  </tbody>\n",
              "</table>\n",
              "</div>\n",
              "      <button class=\"colab-df-convert\" onclick=\"convertToInteractive('df-76a0c242-30f6-4619-9f31-53b0d8a0fd5f')\"\n",
              "              title=\"Convert this dataframe to an interactive table.\"\n",
              "              style=\"display:none;\">\n",
              "        \n",
              "  <svg xmlns=\"http://www.w3.org/2000/svg\" height=\"24px\"viewBox=\"0 0 24 24\"\n",
              "       width=\"24px\">\n",
              "    <path d=\"M0 0h24v24H0V0z\" fill=\"none\"/>\n",
              "    <path d=\"M18.56 5.44l.94 2.06.94-2.06 2.06-.94-2.06-.94-.94-2.06-.94 2.06-2.06.94zm-11 1L8.5 8.5l.94-2.06 2.06-.94-2.06-.94L8.5 2.5l-.94 2.06-2.06.94zm10 10l.94 2.06.94-2.06 2.06-.94-2.06-.94-.94-2.06-.94 2.06-2.06.94z\"/><path d=\"M17.41 7.96l-1.37-1.37c-.4-.4-.92-.59-1.43-.59-.52 0-1.04.2-1.43.59L10.3 9.45l-7.72 7.72c-.78.78-.78 2.05 0 2.83L4 21.41c.39.39.9.59 1.41.59.51 0 1.02-.2 1.41-.59l7.78-7.78 2.81-2.81c.8-.78.8-2.07 0-2.86zM5.41 20L4 18.59l7.72-7.72 1.47 1.35L5.41 20z\"/>\n",
              "  </svg>\n",
              "      </button>\n",
              "      \n",
              "  <style>\n",
              "    .colab-df-container {\n",
              "      display:flex;\n",
              "      flex-wrap:wrap;\n",
              "      gap: 12px;\n",
              "    }\n",
              "\n",
              "    .colab-df-convert {\n",
              "      background-color: #E8F0FE;\n",
              "      border: none;\n",
              "      border-radius: 50%;\n",
              "      cursor: pointer;\n",
              "      display: none;\n",
              "      fill: #1967D2;\n",
              "      height: 32px;\n",
              "      padding: 0 0 0 0;\n",
              "      width: 32px;\n",
              "    }\n",
              "\n",
              "    .colab-df-convert:hover {\n",
              "      background-color: #E2EBFA;\n",
              "      box-shadow: 0px 1px 2px rgba(60, 64, 67, 0.3), 0px 1px 3px 1px rgba(60, 64, 67, 0.15);\n",
              "      fill: #174EA6;\n",
              "    }\n",
              "\n",
              "    [theme=dark] .colab-df-convert {\n",
              "      background-color: #3B4455;\n",
              "      fill: #D2E3FC;\n",
              "    }\n",
              "\n",
              "    [theme=dark] .colab-df-convert:hover {\n",
              "      background-color: #434B5C;\n",
              "      box-shadow: 0px 1px 3px 1px rgba(0, 0, 0, 0.15);\n",
              "      filter: drop-shadow(0px 1px 2px rgba(0, 0, 0, 0.3));\n",
              "      fill: #FFFFFF;\n",
              "    }\n",
              "  </style>\n",
              "\n",
              "      <script>\n",
              "        const buttonEl =\n",
              "          document.querySelector('#df-76a0c242-30f6-4619-9f31-53b0d8a0fd5f button.colab-df-convert');\n",
              "        buttonEl.style.display =\n",
              "          google.colab.kernel.accessAllowed ? 'block' : 'none';\n",
              "\n",
              "        async function convertToInteractive(key) {\n",
              "          const element = document.querySelector('#df-76a0c242-30f6-4619-9f31-53b0d8a0fd5f');\n",
              "          const dataTable =\n",
              "            await google.colab.kernel.invokeFunction('convertToInteractive',\n",
              "                                                     [key], {});\n",
              "          if (!dataTable) return;\n",
              "\n",
              "          const docLinkHtml = 'Like what you see? Visit the ' +\n",
              "            '<a target=\"_blank\" href=https://colab.research.google.com/notebooks/data_table.ipynb>data table notebook</a>'\n",
              "            + ' to learn more about interactive tables.';\n",
              "          element.innerHTML = '';\n",
              "          dataTable['output_type'] = 'display_data';\n",
              "          await google.colab.output.renderOutput(dataTable, element);\n",
              "          const docLink = document.createElement('div');\n",
              "          docLink.innerHTML = docLinkHtml;\n",
              "          element.appendChild(docLink);\n",
              "        }\n",
              "      </script>\n",
              "    </div>\n",
              "  </div>\n",
              "  "
            ],
            "text/plain": [
              "         date  hour      category  ...  captions  viral  day_of_week\n",
              "0  2021-05-12  2100  cooking prep  ...         1      0    Wednesday\n",
              "1  2021-05-13   800        how to  ...         0      0     Thursday\n",
              "2  2021-05-13  1200   dinner prep  ...         1      0     Thursday\n",
              "3  2021-05-14  1200        how to  ...         1      0       Friday\n",
              "4  2021-05-14  1100   dinner prep  ...         1      0       Friday\n",
              "5  2021-05-15   900   dinner prep  ...         1      0     Saturday\n",
              "6  2021-05-16  1200        how to  ...         1      0       Sunday\n",
              "7  2021-05-17  1000   dinner prep  ...         1      0       Monday\n",
              "8  2021-05-17  1300       inquiry  ...         1      0       Monday\n",
              "9  2021-05-18   900       cooking  ...         0      0      Tuesday\n",
              "10 2021-05-18  1300        how to  ...         1      0      Tuesday\n",
              "11 2021-05-19   900  cooking prep  ...         1      0    Wednesday\n",
              "12 2021-05-20   800         trend  ...         0      0     Thursday\n",
              "13 2021-05-20  1000         trend  ...         0      1     Thursday\n",
              "14 2021-05-21  1100        how to  ...         1      0       Friday\n",
              "\n",
              "[15 rows x 15 columns]"
            ]
          },
          "metadata": {},
          "execution_count": 662
        }
      ]
    },
    {
      "cell_type": "markdown",
      "source": [
        "### Relationship Analysis"
      ],
      "metadata": {
        "id": "PGQAxlE54D7Z"
      }
    },
    {
      "cell_type": "markdown",
      "source": [
        "The first thing I am interested in is how my videos perform by the different categories I post. I am most known for my dinner meal preps so I am curious to see if that is where most of my engagement comes from."
      ],
      "metadata": {
        "id": "X8d1Rr7K6CCD"
      }
    },
    {
      "cell_type": "code",
      "source": [
        "import matplotlib.pyplot as plt\n",
        "from scipy import stats\n",
        "import statsmodels.api as sm\n",
        "import numpy as np\n",
        "import seaborn as sns"
      ],
      "metadata": {
        "id": "XAKGugMIL9-a"
      },
      "execution_count": 663,
      "outputs": []
    },
    {
      "cell_type": "markdown",
      "source": [
        "TikTok analytics offers the average watch time for each video, but I wanted to know the ratio of averate watch time to the actual duration of the posted video to create a uniform way each video is assessed for engagement considering watch time. I added this as a new variable."
      ],
      "metadata": {
        "id": "KTp7-d8k8A_r"
      }
    },
    {
      "cell_type": "code",
      "source": [
        "# adding new variable for ratio_watched\n",
        "oatmeal['ratio_watched'] = oatmeal['average_watch_time_seconds']/oatmeal['duration']"
      ],
      "metadata": {
        "id": "ynqwtlwB7KCd"
      },
      "execution_count": 664,
      "outputs": []
    },
    {
      "cell_type": "code",
      "source": [
        "# grouping my dataset by category and then checking out the mean of each continuous category\n",
        "# i am mostly interested in the average watch time \n",
        "oatmeal.groupby(['category']).mean()"
      ],
      "metadata": {
        "colab": {
          "base_uri": "https://localhost:8080/",
          "height": 667
        },
        "id": "fzta_QGz4Hqg",
        "outputId": "44c6c875-c868-47ee-bb78-0f8b4f56fd27"
      },
      "execution_count": 665,
      "outputs": [
        {
          "output_type": "execute_result",
          "data": {
            "text/html": [
              "\n",
              "  <div id=\"df-a8e5e0bc-46ff-4920-a874-7891ff1b3aeb\">\n",
              "    <div class=\"colab-df-container\">\n",
              "      <div>\n",
              "<style scoped>\n",
              "    .dataframe tbody tr th:only-of-type {\n",
              "        vertical-align: middle;\n",
              "    }\n",
              "\n",
              "    .dataframe tbody tr th {\n",
              "        vertical-align: top;\n",
              "    }\n",
              "\n",
              "    .dataframe thead th {\n",
              "        text-align: right;\n",
              "    }\n",
              "</style>\n",
              "<table border=\"1\" class=\"dataframe\">\n",
              "  <thead>\n",
              "    <tr style=\"text-align: right;\">\n",
              "      <th></th>\n",
              "      <th>hour</th>\n",
              "      <th>duration</th>\n",
              "      <th>average_watch_time_seconds</th>\n",
              "      <th>percent_watched_full</th>\n",
              "      <th>plays</th>\n",
              "      <th>likes</th>\n",
              "      <th>comments</th>\n",
              "      <th>shares</th>\n",
              "      <th>voiceover</th>\n",
              "      <th>in_video_text</th>\n",
              "      <th>captions</th>\n",
              "      <th>viral</th>\n",
              "      <th>ratio_watched</th>\n",
              "    </tr>\n",
              "    <tr>\n",
              "      <th>category</th>\n",
              "      <th></th>\n",
              "      <th></th>\n",
              "      <th></th>\n",
              "      <th></th>\n",
              "      <th></th>\n",
              "      <th></th>\n",
              "      <th></th>\n",
              "      <th></th>\n",
              "      <th></th>\n",
              "      <th></th>\n",
              "      <th></th>\n",
              "      <th></th>\n",
              "      <th></th>\n",
              "    </tr>\n",
              "  </thead>\n",
              "  <tbody>\n",
              "    <tr>\n",
              "      <th>baby prep</th>\n",
              "      <td>1000.000000</td>\n",
              "      <td>59.277500</td>\n",
              "      <td>18.275000</td>\n",
              "      <td>16.410000</td>\n",
              "      <td>24125.000000</td>\n",
              "      <td>1238.500000</td>\n",
              "      <td>15.000000</td>\n",
              "      <td>49.000000</td>\n",
              "      <td>1.000000</td>\n",
              "      <td>0.250000</td>\n",
              "      <td>1.000000</td>\n",
              "      <td>0.250000</td>\n",
              "      <td>0.308493</td>\n",
              "    </tr>\n",
              "    <tr>\n",
              "      <th>breakfast prep</th>\n",
              "      <td>1055.555556</td>\n",
              "      <td>51.025556</td>\n",
              "      <td>22.955556</td>\n",
              "      <td>24.068889</td>\n",
              "      <td>840566.666667</td>\n",
              "      <td>98508.000000</td>\n",
              "      <td>535.222222</td>\n",
              "      <td>10551.777778</td>\n",
              "      <td>1.000000</td>\n",
              "      <td>0.444444</td>\n",
              "      <td>0.777778</td>\n",
              "      <td>0.222222</td>\n",
              "      <td>0.446370</td>\n",
              "    </tr>\n",
              "    <tr>\n",
              "      <th>cooking</th>\n",
              "      <td>1050.000000</td>\n",
              "      <td>40.820000</td>\n",
              "      <td>22.050000</td>\n",
              "      <td>29.215000</td>\n",
              "      <td>45300.000000</td>\n",
              "      <td>1362.000000</td>\n",
              "      <td>22.000000</td>\n",
              "      <td>16.000000</td>\n",
              "      <td>0.000000</td>\n",
              "      <td>0.500000</td>\n",
              "      <td>0.000000</td>\n",
              "      <td>0.500000</td>\n",
              "      <td>0.488827</td>\n",
              "    </tr>\n",
              "    <tr>\n",
              "      <th>cooking prep</th>\n",
              "      <td>1110.000000</td>\n",
              "      <td>39.116000</td>\n",
              "      <td>20.970000</td>\n",
              "      <td>20.795000</td>\n",
              "      <td>56240.000000</td>\n",
              "      <td>3055.300000</td>\n",
              "      <td>27.000000</td>\n",
              "      <td>135.300000</td>\n",
              "      <td>0.700000</td>\n",
              "      <td>0.200000</td>\n",
              "      <td>0.700000</td>\n",
              "      <td>0.200000</td>\n",
              "      <td>0.570466</td>\n",
              "    </tr>\n",
              "    <tr>\n",
              "      <th>dessert prep</th>\n",
              "      <td>1050.000000</td>\n",
              "      <td>45.677500</td>\n",
              "      <td>15.500000</td>\n",
              "      <td>14.007500</td>\n",
              "      <td>32440.250000</td>\n",
              "      <td>1448.750000</td>\n",
              "      <td>14.500000</td>\n",
              "      <td>84.250000</td>\n",
              "      <td>0.750000</td>\n",
              "      <td>0.000000</td>\n",
              "      <td>0.750000</td>\n",
              "      <td>0.000000</td>\n",
              "      <td>0.359366</td>\n",
              "    </tr>\n",
              "    <tr>\n",
              "      <th>dinner prep</th>\n",
              "      <td>1087.500000</td>\n",
              "      <td>49.789375</td>\n",
              "      <td>25.287500</td>\n",
              "      <td>30.418125</td>\n",
              "      <td>449175.000000</td>\n",
              "      <td>34473.062500</td>\n",
              "      <td>182.687500</td>\n",
              "      <td>2717.500000</td>\n",
              "      <td>1.000000</td>\n",
              "      <td>0.625000</td>\n",
              "      <td>0.750000</td>\n",
              "      <td>0.250000</td>\n",
              "      <td>0.513548</td>\n",
              "    </tr>\n",
              "    <tr>\n",
              "      <th>filler</th>\n",
              "      <td>1113.333333</td>\n",
              "      <td>20.116667</td>\n",
              "      <td>10.113333</td>\n",
              "      <td>26.147333</td>\n",
              "      <td>110515.133333</td>\n",
              "      <td>8389.400000</td>\n",
              "      <td>144.600000</td>\n",
              "      <td>547.133333</td>\n",
              "      <td>0.200000</td>\n",
              "      <td>0.733333</td>\n",
              "      <td>0.200000</td>\n",
              "      <td>0.133333</td>\n",
              "      <td>0.561306</td>\n",
              "    </tr>\n",
              "    <tr>\n",
              "      <th>how to</th>\n",
              "      <td>1041.176471</td>\n",
              "      <td>34.481765</td>\n",
              "      <td>17.711765</td>\n",
              "      <td>27.662941</td>\n",
              "      <td>257964.705882</td>\n",
              "      <td>10387.058824</td>\n",
              "      <td>95.470588</td>\n",
              "      <td>205.588235</td>\n",
              "      <td>0.764706</td>\n",
              "      <td>0.352941</td>\n",
              "      <td>0.705882</td>\n",
              "      <td>0.294118</td>\n",
              "      <td>0.564452</td>\n",
              "    </tr>\n",
              "    <tr>\n",
              "      <th>inquiry</th>\n",
              "      <td>1125.000000</td>\n",
              "      <td>22.637500</td>\n",
              "      <td>10.900000</td>\n",
              "      <td>21.002500</td>\n",
              "      <td>105625.000000</td>\n",
              "      <td>1136.250000</td>\n",
              "      <td>142.500000</td>\n",
              "      <td>263.500000</td>\n",
              "      <td>0.500000</td>\n",
              "      <td>0.250000</td>\n",
              "      <td>1.000000</td>\n",
              "      <td>0.250000</td>\n",
              "      <td>0.521626</td>\n",
              "    </tr>\n",
              "    <tr>\n",
              "      <th>lunch prep</th>\n",
              "      <td>1010.000000</td>\n",
              "      <td>27.163000</td>\n",
              "      <td>13.930000</td>\n",
              "      <td>24.092000</td>\n",
              "      <td>158200.000000</td>\n",
              "      <td>8225.500000</td>\n",
              "      <td>52.300000</td>\n",
              "      <td>382.400000</td>\n",
              "      <td>0.400000</td>\n",
              "      <td>0.800000</td>\n",
              "      <td>0.000000</td>\n",
              "      <td>0.300000</td>\n",
              "      <td>0.525533</td>\n",
              "    </tr>\n",
              "    <tr>\n",
              "      <th>organization</th>\n",
              "      <td>966.666667</td>\n",
              "      <td>19.158333</td>\n",
              "      <td>12.733333</td>\n",
              "      <td>35.698333</td>\n",
              "      <td>328350.000000</td>\n",
              "      <td>38877.000000</td>\n",
              "      <td>220.000000</td>\n",
              "      <td>1387.333333</td>\n",
              "      <td>0.166667</td>\n",
              "      <td>0.500000</td>\n",
              "      <td>0.166667</td>\n",
              "      <td>0.166667</td>\n",
              "      <td>0.708661</td>\n",
              "    </tr>\n",
              "    <tr>\n",
              "      <th>response</th>\n",
              "      <td>1000.000000</td>\n",
              "      <td>11.910000</td>\n",
              "      <td>12.300000</td>\n",
              "      <td>63.510000</td>\n",
              "      <td>129400.000000</td>\n",
              "      <td>4141.000000</td>\n",
              "      <td>41.000000</td>\n",
              "      <td>7.000000</td>\n",
              "      <td>0.000000</td>\n",
              "      <td>0.000000</td>\n",
              "      <td>0.000000</td>\n",
              "      <td>1.000000</td>\n",
              "      <td>1.032746</td>\n",
              "    </tr>\n",
              "    <tr>\n",
              "      <th>shopping</th>\n",
              "      <td>900.000000</td>\n",
              "      <td>18.110000</td>\n",
              "      <td>12.800000</td>\n",
              "      <td>40.480000</td>\n",
              "      <td>99468.300000</td>\n",
              "      <td>6841.000000</td>\n",
              "      <td>88.500000</td>\n",
              "      <td>199.000000</td>\n",
              "      <td>0.000000</td>\n",
              "      <td>1.000000</td>\n",
              "      <td>0.000000</td>\n",
              "      <td>1.000000</td>\n",
              "      <td>0.695684</td>\n",
              "    </tr>\n",
              "    <tr>\n",
              "      <th>tips</th>\n",
              "      <td>1100.000000</td>\n",
              "      <td>33.000000</td>\n",
              "      <td>23.800000</td>\n",
              "      <td>50.430000</td>\n",
              "      <td>782700.000000</td>\n",
              "      <td>72300.000000</td>\n",
              "      <td>290.000000</td>\n",
              "      <td>708.000000</td>\n",
              "      <td>1.000000</td>\n",
              "      <td>0.000000</td>\n",
              "      <td>1.000000</td>\n",
              "      <td>1.000000</td>\n",
              "      <td>0.721212</td>\n",
              "    </tr>\n",
              "    <tr>\n",
              "      <th>trend</th>\n",
              "      <td>850.000000</td>\n",
              "      <td>11.700000</td>\n",
              "      <td>6.975000</td>\n",
              "      <td>28.072500</td>\n",
              "      <td>46606.500000</td>\n",
              "      <td>1206.000000</td>\n",
              "      <td>11.500000</td>\n",
              "      <td>16.750000</td>\n",
              "      <td>0.000000</td>\n",
              "      <td>0.750000</td>\n",
              "      <td>0.000000</td>\n",
              "      <td>0.250000</td>\n",
              "      <td>0.622839</td>\n",
              "    </tr>\n",
              "  </tbody>\n",
              "</table>\n",
              "</div>\n",
              "      <button class=\"colab-df-convert\" onclick=\"convertToInteractive('df-a8e5e0bc-46ff-4920-a874-7891ff1b3aeb')\"\n",
              "              title=\"Convert this dataframe to an interactive table.\"\n",
              "              style=\"display:none;\">\n",
              "        \n",
              "  <svg xmlns=\"http://www.w3.org/2000/svg\" height=\"24px\"viewBox=\"0 0 24 24\"\n",
              "       width=\"24px\">\n",
              "    <path d=\"M0 0h24v24H0V0z\" fill=\"none\"/>\n",
              "    <path d=\"M18.56 5.44l.94 2.06.94-2.06 2.06-.94-2.06-.94-.94-2.06-.94 2.06-2.06.94zm-11 1L8.5 8.5l.94-2.06 2.06-.94-2.06-.94L8.5 2.5l-.94 2.06-2.06.94zm10 10l.94 2.06.94-2.06 2.06-.94-2.06-.94-.94-2.06-.94 2.06-2.06.94z\"/><path d=\"M17.41 7.96l-1.37-1.37c-.4-.4-.92-.59-1.43-.59-.52 0-1.04.2-1.43.59L10.3 9.45l-7.72 7.72c-.78.78-.78 2.05 0 2.83L4 21.41c.39.39.9.59 1.41.59.51 0 1.02-.2 1.41-.59l7.78-7.78 2.81-2.81c.8-.78.8-2.07 0-2.86zM5.41 20L4 18.59l7.72-7.72 1.47 1.35L5.41 20z\"/>\n",
              "  </svg>\n",
              "      </button>\n",
              "      \n",
              "  <style>\n",
              "    .colab-df-container {\n",
              "      display:flex;\n",
              "      flex-wrap:wrap;\n",
              "      gap: 12px;\n",
              "    }\n",
              "\n",
              "    .colab-df-convert {\n",
              "      background-color: #E8F0FE;\n",
              "      border: none;\n",
              "      border-radius: 50%;\n",
              "      cursor: pointer;\n",
              "      display: none;\n",
              "      fill: #1967D2;\n",
              "      height: 32px;\n",
              "      padding: 0 0 0 0;\n",
              "      width: 32px;\n",
              "    }\n",
              "\n",
              "    .colab-df-convert:hover {\n",
              "      background-color: #E2EBFA;\n",
              "      box-shadow: 0px 1px 2px rgba(60, 64, 67, 0.3), 0px 1px 3px 1px rgba(60, 64, 67, 0.15);\n",
              "      fill: #174EA6;\n",
              "    }\n",
              "\n",
              "    [theme=dark] .colab-df-convert {\n",
              "      background-color: #3B4455;\n",
              "      fill: #D2E3FC;\n",
              "    }\n",
              "\n",
              "    [theme=dark] .colab-df-convert:hover {\n",
              "      background-color: #434B5C;\n",
              "      box-shadow: 0px 1px 3px 1px rgba(0, 0, 0, 0.15);\n",
              "      filter: drop-shadow(0px 1px 2px rgba(0, 0, 0, 0.3));\n",
              "      fill: #FFFFFF;\n",
              "    }\n",
              "  </style>\n",
              "\n",
              "      <script>\n",
              "        const buttonEl =\n",
              "          document.querySelector('#df-a8e5e0bc-46ff-4920-a874-7891ff1b3aeb button.colab-df-convert');\n",
              "        buttonEl.style.display =\n",
              "          google.colab.kernel.accessAllowed ? 'block' : 'none';\n",
              "\n",
              "        async function convertToInteractive(key) {\n",
              "          const element = document.querySelector('#df-a8e5e0bc-46ff-4920-a874-7891ff1b3aeb');\n",
              "          const dataTable =\n",
              "            await google.colab.kernel.invokeFunction('convertToInteractive',\n",
              "                                                     [key], {});\n",
              "          if (!dataTable) return;\n",
              "\n",
              "          const docLinkHtml = 'Like what you see? Visit the ' +\n",
              "            '<a target=\"_blank\" href=https://colab.research.google.com/notebooks/data_table.ipynb>data table notebook</a>'\n",
              "            + ' to learn more about interactive tables.';\n",
              "          element.innerHTML = '';\n",
              "          dataTable['output_type'] = 'display_data';\n",
              "          await google.colab.output.renderOutput(dataTable, element);\n",
              "          const docLink = document.createElement('div');\n",
              "          docLink.innerHTML = docLinkHtml;\n",
              "          element.appendChild(docLink);\n",
              "        }\n",
              "      </script>\n",
              "    </div>\n",
              "  </div>\n",
              "  "
            ],
            "text/plain": [
              "                       hour   duration  ...     viral  ratio_watched\n",
              "category                                ...                         \n",
              "baby prep       1000.000000  59.277500  ...  0.250000       0.308493\n",
              "breakfast prep  1055.555556  51.025556  ...  0.222222       0.446370\n",
              "cooking         1050.000000  40.820000  ...  0.500000       0.488827\n",
              "cooking prep    1110.000000  39.116000  ...  0.200000       0.570466\n",
              "dessert prep    1050.000000  45.677500  ...  0.000000       0.359366\n",
              "dinner prep     1087.500000  49.789375  ...  0.250000       0.513548\n",
              "filler          1113.333333  20.116667  ...  0.133333       0.561306\n",
              "how to          1041.176471  34.481765  ...  0.294118       0.564452\n",
              "inquiry         1125.000000  22.637500  ...  0.250000       0.521626\n",
              "lunch prep      1010.000000  27.163000  ...  0.300000       0.525533\n",
              "organization     966.666667  19.158333  ...  0.166667       0.708661\n",
              "response        1000.000000  11.910000  ...  1.000000       1.032746\n",
              "shopping         900.000000  18.110000  ...  1.000000       0.695684\n",
              "tips            1100.000000  33.000000  ...  1.000000       0.721212\n",
              "trend            850.000000  11.700000  ...  0.250000       0.622839\n",
              "\n",
              "[15 rows x 13 columns]"
            ]
          },
          "metadata": {},
          "execution_count": 665
        }
      ]
    },
    {
      "cell_type": "code",
      "source": [
        "sns.set_palette(\"Spectral\")"
      ],
      "metadata": {
        "id": "EAPR4o4Qpe-4"
      },
      "execution_count": 666,
      "outputs": []
    },
    {
      "cell_type": "code",
      "source": [
        "import matplotlib.pyplot as plt\n",
        "# visualizing the distribution of ratio watched, percent of people who watches\n",
        "# the full video, and the average watch time in seconds \n",
        "\n",
        "fig, axs = plt.subplots(1,3, figsize=(15, 5))\n",
        "\n",
        "sns.distplot(oatmeal[\"ratio_watched\"], color=\"skyblue\", ax=axs[0], bins=20)\n",
        "sns.distplot(oatmeal[\"percent_watched_full\"], color=\"gold\", ax=axs[1], bins=20)\n",
        "sns.distplot(oatmeal[\"average_watch_time_seconds\"], color=\"teal\", ax=axs[2], bins=20)\n",
        "\n",
        "plt.show()"
      ],
      "metadata": {
        "colab": {
          "base_uri": "https://localhost:8080/",
          "height": 409
        },
        "id": "bCYWpVjXrMff",
        "outputId": "8bfd1e99-1136-42e0-8496-34b365742c60"
      },
      "execution_count": 667,
      "outputs": [
        {
          "output_type": "stream",
          "name": "stderr",
          "text": [
            "/usr/local/lib/python3.7/dist-packages/seaborn/distributions.py:2619: FutureWarning: `distplot` is a deprecated function and will be removed in a future version. Please adapt your code to use either `displot` (a figure-level function with similar flexibility) or `histplot` (an axes-level function for histograms).\n",
            "  warnings.warn(msg, FutureWarning)\n",
            "/usr/local/lib/python3.7/dist-packages/seaborn/distributions.py:2619: FutureWarning: `distplot` is a deprecated function and will be removed in a future version. Please adapt your code to use either `displot` (a figure-level function with similar flexibility) or `histplot` (an axes-level function for histograms).\n",
            "  warnings.warn(msg, FutureWarning)\n",
            "/usr/local/lib/python3.7/dist-packages/seaborn/distributions.py:2619: FutureWarning: `distplot` is a deprecated function and will be removed in a future version. Please adapt your code to use either `displot` (a figure-level function with similar flexibility) or `histplot` (an axes-level function for histograms).\n",
            "  warnings.warn(msg, FutureWarning)\n"
          ]
        },
        {
          "output_type": "display_data",
          "data": {
            "image/png": "[encoded data removed]",
            "text/plain": [
              "<Figure size 1080x360 with 3 Axes>"
            ]
          },
          "metadata": {}
        }
      ]
    },
    {
      "cell_type": "code",
      "source": [
        "# creating a heatmap of all of the variables\n",
        "correlation = oatmeal.corr()"
      ],
      "metadata": {
        "id": "xxgDKl9hizSM"
      },
      "execution_count": 668,
      "outputs": []
    },
    {
      "cell_type": "code",
      "source": [
        "# heatmap\n",
        "sns.heatmap(correlation, xticklabels=correlation.columns, yticklabels=correlation.columns, annot=False)"
      ],
      "metadata": {
        "colab": {
          "base_uri": "https://localhost:8080/",
          "height": 444
        },
        "id": "AUE2P1wnjJ5r",
        "outputId": "df9cb79e-629e-495f-9624-31653b7b386a"
      },
      "execution_count": 669,
      "outputs": [
        {
          "output_type": "execute_result",
          "data": {
            "text/plain": [
              "<matplotlib.axes._subplots.AxesSubplot at 0x7f4c6af054d0>"
            ]
          },
          "metadata": {},
          "execution_count": 669
        },
        {
          "output_type": "display_data",
          "data": {
            "image/png": "[encoded data removed]",
            "text/plain": [
              "<Figure size 432x288 with 2 Axes>"
            ]
          },
          "metadata": {}
        }
      ]
    },
    {
      "cell_type": "code",
      "source": [
        "# visualizing the distribution of viral videos by ratio_watched and percent_watched_full\n",
        "sns.relplot(x='ratio_watched', y='percent_watched_full', hue='viral', data=oatmeal)"
      ],
      "metadata": {
        "colab": {
          "base_uri": "https://localhost:8080/",
          "height": 382
        },
        "id": "_MkqkiddjoAq",
        "outputId": "682b4906-5ac3-474d-f619-cb352a1f6792"
      },
      "execution_count": 670,
      "outputs": [
        {
          "output_type": "execute_result",
          "data": {
            "text/plain": [
              "<seaborn.axisgrid.FacetGrid at 0x7f4c6aeaf890>"
            ]
          },
          "metadata": {},
          "execution_count": 670
        },
        {
          "output_type": "display_data",
          "data": {
            "image/png": "[encoded data removed]",
            "text/plain": [
              "<Figure size 406.6x360 with 1 Axes>"
            ]
          },
          "metadata": {}
        }
      ]
    },
    {
      "cell_type": "markdown",
      "source": [
        "There appears to be a trend in the graph above of higher ratio watched paired with a higher percentage of people watching the full video resulting in a viral video."
      ],
      "metadata": {
        "id": "28iz_6ySXYRD"
      }
    },
    {
      "cell_type": "code",
      "source": [
        "# checking the average plays grouped by day of the week to see if any days appear more\n",
        "# promising to post on\n",
        "oatmeal.groupby(by = 'day_of_week')['plays'].mean().plot(kind = 'bar')"
      ],
      "metadata": {
        "colab": {
          "base_uri": "https://localhost:8080/",
          "height": 356
        },
        "id": "DvSg97w1VCOC",
        "outputId": "0ab69d90-cd66-4dd0-e207-8ace1aa515d3"
      },
      "execution_count": 671,
      "outputs": [
        {
          "output_type": "execute_result",
          "data": {
            "text/plain": [
              "<matplotlib.axes._subplots.AxesSubplot at 0x7f4c6ae350d0>"
            ]
          },
          "metadata": {},
          "execution_count": 671
        },
        {
          "output_type": "display_data",
          "data": {
            "image/png": "[encoded data removed]",
            "text/plain": [
              "<Figure size 432x288 with 1 Axes>"
            ]
          },
          "metadata": {}
        }
      ]
    },
    {
      "cell_type": "markdown",
      "source": [
        "The graph above shows that posting on Sundays might be the best day to post for views. This does not, however, take into account that the days I post videos may not be uniformly distributed over all days of the week."
      ],
      "metadata": {
        "id": "-iEmfmHmXvV9"
      }
    },
    {
      "cell_type": "markdown",
      "source": [
        "I am also curious if using captions on a video results in reaching a higher audience so I want to visualize ther plays grouped by captions."
      ],
      "metadata": {
        "id": "R18eeVNwZl4b"
      }
    },
    {
      "cell_type": "code",
      "source": [
        "# checking the average plays grouped by voiceover, in-video text, and captions\n",
        "\n",
        "#setting up subplots\n",
        "fig, axes = plt.subplots(1, 3, sharex=True, figsize=(15,5))\n",
        "\n",
        "sns.barplot(ax=axes[0], x=oatmeal['voiceover'], y=oatmeal['plays'])\n",
        "axes[0].set_title('Average Plays by Voiceover Bool')\n",
        "\n",
        "sns.barplot(ax=axes[1], x=oatmeal['in_video_text'], y=oatmeal['plays'])\n",
        "axes[1].set_title('Average Plays by Video Text Bool')\n",
        "\n",
        "sns.barplot(ax=axes[2], x=oatmeal['captions'], y=oatmeal['plays'])\n",
        "axes[2].set_title('Average Plays by Caption Bool')"
      ],
      "metadata": {
        "colab": {
          "base_uri": "https://localhost:8080/",
          "height": 308
        },
        "id": "xiu6lJkSZjd9",
        "outputId": "56ff353e-0068-42ad-c529-f92ddf5d85f5"
      },
      "execution_count": 672,
      "outputs": [
        {
          "output_type": "execute_result",
          "data": {
            "text/plain": [
              "Text(0.5, 1.0, 'Average Plays by Caption Bool')"
            ]
          },
          "metadata": {},
          "execution_count": 672
        },
        {
          "output_type": "display_data",
          "data": {
            "image/png": "[encoded data removed]",
            "text/plain": [
              "<Figure size 1080x360 with 3 Axes>"
            ]
          },
          "metadata": {}
        }
      ]
    },
    {
      "cell_type": "markdown",
      "source": [
        "From the visualization above, it appears that having a voiceover and captions may be beneficial in reaching a higher audience, while having text in the video has a smaller difference between the audience reached for whether text was included or not."
      ],
      "metadata": {
        "id": "PvDniivBdbdQ"
      }
    },
    {
      "cell_type": "markdown",
      "source": [
        "## This is continuing! (last updated 02/26/2022)"
      ],
      "metadata": {
        "id": "HFFb_prpmgc4"
      }
    },
    {
      "cell_type": "markdown",
      "source": [
        "Detecting and removing outliers for 'plays'"
      ],
      "metadata": {
        "id": "cf0rNHhUpZ1R"
      }
    },
    {
      "cell_type": "code",
      "source": [
        "# using inter quartile range\n",
        "Q1 = np.percentile(oatmeal['plays'], 25,\n",
        "                   interpolation = 'midpoint')\n",
        " \n",
        "Q3 = np.percentile(oatmeal['plays'], 75,\n",
        "                   interpolation = 'midpoint')\n",
        "IQR = Q3 - Q1"
      ],
      "metadata": {
        "id": "CiVzGtrVthbO"
      },
      "execution_count": 673,
      "outputs": []
    },
    {
      "cell_type": "code",
      "source": [
        "print(\"old shape:\", oatmeal.shape)"
      ],
      "metadata": {
        "colab": {
          "base_uri": "https://localhost:8080/"
        },
        "id": "GwSex9cSu27Z",
        "outputId": "69039300-9ff6-40d0-c96d-624ff58981df"
      },
      "execution_count": 674,
      "outputs": [
        {
          "output_type": "stream",
          "name": "stdout",
          "text": [
            "old shape: (105, 16)\n"
          ]
        }
      ]
    },
    {
      "cell_type": "code",
      "source": [
        "# above upper bound - plays\n",
        "upper = np.where(oatmeal['plays'] >= (Q3+1.5*IQR))\n",
        " \n",
        "# below lower bound - plays\n",
        "lower = np.where(oatmeal['plays'] <= (Q1-1.5*IQR))"
      ],
      "metadata": {
        "id": "2aTv7a8bt3xE"
      },
      "execution_count": 675,
      "outputs": []
    },
    {
      "cell_type": "code",
      "source": [
        "# removing plays outliers\n",
        "oatmeal.drop(upper[0], inplace=True)\n",
        "oatmeal.drop(lower[0], inplace=True)"
      ],
      "metadata": {
        "id": "g-g9f35ivC6K"
      },
      "execution_count": 676,
      "outputs": []
    },
    {
      "cell_type": "code",
      "source": [
        "print(\"new shape:\", oatmeal.shape)"
      ],
      "metadata": {
        "colab": {
          "base_uri": "https://localhost:8080/"
        },
        "id": "pPab6xjwvOHf",
        "outputId": "aab9bbec-4513-4a95-eed6-3d31926c6258"
      },
      "execution_count": 677,
      "outputs": [
        {
          "output_type": "stream",
          "name": "stdout",
          "text": [
            "new shape: (85, 16)\n"
          ]
        }
      ]
    },
    {
      "cell_type": "code",
      "source": [
        "sns.boxplot(oatmeal['plays'])"
      ],
      "metadata": {
        "colab": {
          "base_uri": "https://localhost:8080/",
          "height": 357
        },
        "id": "ipx5eBySveBc",
        "outputId": "06173053-fad9-4887-c5b8-d9232f9983c4"
      },
      "execution_count": 678,
      "outputs": [
        {
          "output_type": "stream",
          "name": "stderr",
          "text": [
            "/usr/local/lib/python3.7/dist-packages/seaborn/_decorators.py:43: FutureWarning: Pass the following variable as a keyword arg: x. From version 0.12, the only valid positional argument will be `data`, and passing other arguments without an explicit keyword will result in an error or misinterpretation.\n",
            "  FutureWarning\n"
          ]
        },
        {
          "output_type": "execute_result",
          "data": {
            "text/plain": [
              "<matplotlib.axes._subplots.AxesSubplot at 0x7f4c6ac96550>"
            ]
          },
          "metadata": {},
          "execution_count": 678
        },
        {
          "output_type": "display_data",
          "data": {
            "image/png": "[encoded data removed]",
            "text/plain": [
              "<Figure size 432x288 with 1 Axes>"
            ]
          },
          "metadata": {}
        }
      ]
    },
    {
      "cell_type": "code",
      "source": [
        "# meal plays of videos without outliers of videos who go viral immediately\n",
        "oatmeal['plays'].mean()"
      ],
      "metadata": {
        "colab": {
          "base_uri": "https://localhost:8080/"
        },
        "id": "3WnGKackyS1f",
        "outputId": "228eda84-8af0-49f8-a668-c26ce5fe535a"
      },
      "execution_count": 679,
      "outputs": [
        {
          "output_type": "execute_result",
          "data": {
            "text/plain": [
              "53161.771764705874"
            ]
          },
          "metadata": {},
          "execution_count": 679
        }
      ]
    },
    {
      "cell_type": "markdown",
      "source": [
        "Tenative Conclusions:\n",
        "\n",
        "\n",
        "*   Try to optimize watch ratio and increace percent watched full\n",
        "*   Include a voiceover and captions\n",
        "*   Post on Sundays\n",
        "*   Categories with over 50% ratio: \n",
        "\n",
        "\n",
        "\n",
        "\n"
      ],
      "metadata": {
        "id": "3RXM6Ku3d1Ku"
      }
    }
  ]
}