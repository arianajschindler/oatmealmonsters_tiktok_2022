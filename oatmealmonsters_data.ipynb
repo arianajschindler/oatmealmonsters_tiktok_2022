{
  "nbformat": 4,
  "nbformat_minor": 0,
  "metadata": {
    "colab": {
      "name": "oatmealmonsters_data",
      "provenance": [],
      "authorship_tag": "ABX9TyN4YOer9XyByv2TJZNw5SME",
      "include_colab_link": true
    },
    "kernelspec": {
      "name": "python3",
      "display_name": "Python 3"
    },
    "language_info": {
      "name": "python"
    }
  },
  "cells": [
    {
      "cell_type": "markdown",
      "metadata": {
        "id": "view-in-github",
        "colab_type": "text"
      },
      "source": [
        "<a href=\"https://colab.research.google.com/github/arianajschindler/oatmealmonsters_tiktok_2022/blob/main/oatmealmonsters_data.ipynb\" target=\"_parent\"><img src=\"https://colab.research.google.com/assets/colab-badge.svg\" alt=\"Open In Colab\"/></a>"
      ]
    },
    {
      "cell_type": "markdown",
      "source": [
        "# Oatmealmonsters TikTok Video Analysis"
      ],
      "metadata": {
        "id": "JvW1Z37auBKE"
      }
    },
    {
      "cell_type": "markdown",
      "source": [
        "This is ongoing, last updated 02/27/2022"
      ],
      "metadata": {
        "id": "H5vM49PV0w3p"
      }
    },
    {
      "cell_type": "code",
      "execution_count": 85,
      "metadata": {
        "colab": {
          "base_uri": "https://localhost:8080/",
          "height": 223
        },
        "id": "byXALcZL-vgr",
        "outputId": "aa87a112-8910-41ac-83eb-58570dffda69"
      },
      "outputs": [
        {
          "output_type": "stream",
          "name": "stdout",
          "text": [
            "Drive already mounted at /gdrive; to attempt to forcibly remount, call drive.mount(\"/gdrive\", force_remount=True).\n"
          ]
        },
        {
          "output_type": "execute_result",
          "data": {
            "text/plain": [
              "         date  hour      category  duration  average_watch_time_seconds  \\\n",
              "0  05/12/2021  2100  cooking prep     55.70                        26.6   \n",
              "1  05/13/2021   800        how to     59.19                        24.7   \n",
              "2  05/13/2021  1200   dinner prep     56.38                        25.2   \n",
              "3  05/14/2021  1200        how to     35.48                        22.7   \n",
              "4  05/14/2021  1100   dinner prep     59.19                        29.6   \n",
              "\n",
              "   percent_watched_full    plays  likes  comments  shares voiceover  \\\n",
              "0                 16.14  63300.0   3278        28     237       yes   \n",
              "1                 16.52  80900.0   3582        59     235       yes   \n",
              "2                 23.93  63300.0   3466        28     311       yes   \n",
              "3                 29.95  59500.0   3622        54     227       yes   \n",
              "4                 35.36  77700.0   5009        65     403       yes   \n",
              "\n",
              "  in_video_text captions  viral  \n",
              "0            no      yes      0  \n",
              "1            no       no      0  \n",
              "2           yes      yes      0  \n",
              "3            no      yes      0  \n",
              "4            no      yes      0  "
            ],
            "text/html": [
              "\n",
              "  <div id=\"df-1ea205ab-33e9-479f-9fcf-ded40dc986b5\">\n",
              "    <div class=\"colab-df-container\">\n",
              "      <div>\n",
              "<style scoped>\n",
              "    .dataframe tbody tr th:only-of-type {\n",
              "        vertical-align: middle;\n",
              "    }\n",
              "\n",
              "    .dataframe tbody tr th {\n",
              "        vertical-align: top;\n",
              "    }\n",
              "\n",
              "    .dataframe thead th {\n",
              "        text-align: right;\n",
              "    }\n",
              "</style>\n",
              "<table border=\"1\" class=\"dataframe\">\n",
              "  <thead>\n",
              "    <tr style=\"text-align: right;\">\n",
              "      <th></th>\n",
              "      <th>date</th>\n",
              "      <th>hour</th>\n",
              "      <th>category</th>\n",
              "      <th>duration</th>\n",
              "      <th>average_watch_time_seconds</th>\n",
              "      <th>percent_watched_full</th>\n",
              "      <th>plays</th>\n",
              "      <th>likes</th>\n",
              "      <th>comments</th>\n",
              "      <th>shares</th>\n",
              "      <th>voiceover</th>\n",
              "      <th>in_video_text</th>\n",
              "      <th>captions</th>\n",
              "      <th>viral</th>\n",
              "    </tr>\n",
              "  </thead>\n",
              "  <tbody>\n",
              "    <tr>\n",
              "      <th>0</th>\n",
              "      <td>05/12/2021</td>\n",
              "      <td>2100</td>\n",
              "      <td>cooking prep</td>\n",
              "      <td>55.70</td>\n",
              "      <td>26.6</td>\n",
              "      <td>16.14</td>\n",
              "      <td>63300.0</td>\n",
              "      <td>3278</td>\n",
              "      <td>28</td>\n",
              "      <td>237</td>\n",
              "      <td>yes</td>\n",
              "      <td>no</td>\n",
              "      <td>yes</td>\n",
              "      <td>0</td>\n",
              "    </tr>\n",
              "    <tr>\n",
              "      <th>1</th>\n",
              "      <td>05/13/2021</td>\n",
              "      <td>800</td>\n",
              "      <td>how to</td>\n",
              "      <td>59.19</td>\n",
              "      <td>24.7</td>\n",
              "      <td>16.52</td>\n",
              "      <td>80900.0</td>\n",
              "      <td>3582</td>\n",
              "      <td>59</td>\n",
              "      <td>235</td>\n",
              "      <td>yes</td>\n",
              "      <td>no</td>\n",
              "      <td>no</td>\n",
              "      <td>0</td>\n",
              "    </tr>\n",
              "    <tr>\n",
              "      <th>2</th>\n",
              "      <td>05/13/2021</td>\n",
              "      <td>1200</td>\n",
              "      <td>dinner prep</td>\n",
              "      <td>56.38</td>\n",
              "      <td>25.2</td>\n",
              "      <td>23.93</td>\n",
              "      <td>63300.0</td>\n",
              "      <td>3466</td>\n",
              "      <td>28</td>\n",
              "      <td>311</td>\n",
              "      <td>yes</td>\n",
              "      <td>yes</td>\n",
              "      <td>yes</td>\n",
              "      <td>0</td>\n",
              "    </tr>\n",
              "    <tr>\n",
              "      <th>3</th>\n",
              "      <td>05/14/2021</td>\n",
              "      <td>1200</td>\n",
              "      <td>how to</td>\n",
              "      <td>35.48</td>\n",
              "      <td>22.7</td>\n",
              "      <td>29.95</td>\n",
              "      <td>59500.0</td>\n",
              "      <td>3622</td>\n",
              "      <td>54</td>\n",
              "      <td>227</td>\n",
              "      <td>yes</td>\n",
              "      <td>no</td>\n",
              "      <td>yes</td>\n",
              "      <td>0</td>\n",
              "    </tr>\n",
              "    <tr>\n",
              "      <th>4</th>\n",
              "      <td>05/14/2021</td>\n",
              "      <td>1100</td>\n",
              "      <td>dinner prep</td>\n",
              "      <td>59.19</td>\n",
              "      <td>29.6</td>\n",
              "      <td>35.36</td>\n",
              "      <td>77700.0</td>\n",
              "      <td>5009</td>\n",
              "      <td>65</td>\n",
              "      <td>403</td>\n",
              "      <td>yes</td>\n",
              "      <td>no</td>\n",
              "      <td>yes</td>\n",
              "      <td>0</td>\n",
              "    </tr>\n",
              "  </tbody>\n",
              "</table>\n",
              "</div>\n",
              "      <button class=\"colab-df-convert\" onclick=\"convertToInteractive('df-1ea205ab-33e9-479f-9fcf-ded40dc986b5')\"\n",
              "              title=\"Convert this dataframe to an interactive table.\"\n",
              "              style=\"display:none;\">\n",
              "        \n",
              "  <svg xmlns=\"http://www.w3.org/2000/svg\" height=\"24px\"viewBox=\"0 0 24 24\"\n",
              "       width=\"24px\">\n",
              "    <path d=\"M0 0h24v24H0V0z\" fill=\"none\"/>\n",
              "    <path d=\"M18.56 5.44l.94 2.06.94-2.06 2.06-.94-2.06-.94-.94-2.06-.94 2.06-2.06.94zm-11 1L8.5 8.5l.94-2.06 2.06-.94-2.06-.94L8.5 2.5l-.94 2.06-2.06.94zm10 10l.94 2.06.94-2.06 2.06-.94-2.06-.94-.94-2.06-.94 2.06-2.06.94z\"/><path d=\"M17.41 7.96l-1.37-1.37c-.4-.4-.92-.59-1.43-.59-.52 0-1.04.2-1.43.59L10.3 9.45l-7.72 7.72c-.78.78-.78 2.05 0 2.83L4 21.41c.39.39.9.59 1.41.59.51 0 1.02-.2 1.41-.59l7.78-7.78 2.81-2.81c.8-.78.8-2.07 0-2.86zM5.41 20L4 18.59l7.72-7.72 1.47 1.35L5.41 20z\"/>\n",
              "  </svg>\n",
              "      </button>\n",
              "      \n",
              "  <style>\n",
              "    .colab-df-container {\n",
              "      display:flex;\n",
              "      flex-wrap:wrap;\n",
              "      gap: 12px;\n",
              "    }\n",
              "\n",
              "    .colab-df-convert {\n",
              "      background-color: #E8F0FE;\n",
              "      border: none;\n",
              "      border-radius: 50%;\n",
              "      cursor: pointer;\n",
              "      display: none;\n",
              "      fill: #1967D2;\n",
              "      height: 32px;\n",
              "      padding: 0 0 0 0;\n",
              "      width: 32px;\n",
              "    }\n",
              "\n",
              "    .colab-df-convert:hover {\n",
              "      background-color: #E2EBFA;\n",
              "      box-shadow: 0px 1px 2px rgba(60, 64, 67, 0.3), 0px 1px 3px 1px rgba(60, 64, 67, 0.15);\n",
              "      fill: #174EA6;\n",
              "    }\n",
              "\n",
              "    [theme=dark] .colab-df-convert {\n",
              "      background-color: #3B4455;\n",
              "      fill: #D2E3FC;\n",
              "    }\n",
              "\n",
              "    [theme=dark] .colab-df-convert:hover {\n",
              "      background-color: #434B5C;\n",
              "      box-shadow: 0px 1px 3px 1px rgba(0, 0, 0, 0.15);\n",
              "      filter: drop-shadow(0px 1px 2px rgba(0, 0, 0, 0.3));\n",
              "      fill: #FFFFFF;\n",
              "    }\n",
              "  </style>\n",
              "\n",
              "      <script>\n",
              "        const buttonEl =\n",
              "          document.querySelector('#df-1ea205ab-33e9-479f-9fcf-ded40dc986b5 button.colab-df-convert');\n",
              "        buttonEl.style.display =\n",
              "          google.colab.kernel.accessAllowed ? 'block' : 'none';\n",
              "\n",
              "        async function convertToInteractive(key) {\n",
              "          const element = document.querySelector('#df-1ea205ab-33e9-479f-9fcf-ded40dc986b5');\n",
              "          const dataTable =\n",
              "            await google.colab.kernel.invokeFunction('convertToInteractive',\n",
              "                                                     [key], {});\n",
              "          if (!dataTable) return;\n",
              "\n",
              "          const docLinkHtml = 'Like what you see? Visit the ' +\n",
              "            '<a target=\"_blank\" href=https://colab.research.google.com/notebooks/data_table.ipynb>data table notebook</a>'\n",
              "            + ' to learn more about interactive tables.';\n",
              "          element.innerHTML = '';\n",
              "          dataTable['output_type'] = 'display_data';\n",
              "          await google.colab.output.renderOutput(dataTable, element);\n",
              "          const docLink = document.createElement('div');\n",
              "          docLink.innerHTML = docLinkHtml;\n",
              "          element.appendChild(docLink);\n",
              "        }\n",
              "      </script>\n",
              "    </div>\n",
              "  </div>\n",
              "  "
            ]
          },
          "metadata": {},
          "execution_count": 85
        }
      ],
      "source": [
        "# mounting the google drive\n",
        "from google.colab import drive\n",
        "drive.mount('/gdrive')\n",
        "import pandas as pd\n",
        "# importing data\n",
        "oatmeal = pd.read_csv('/gdrive/MyDrive/oatmealmonsters/video_specific_data.csv')\n",
        "oatmeal.head()"
      ]
    },
    {
      "cell_type": "markdown",
      "source": [
        "## EDA"
      ],
      "metadata": {
        "id": "IJoGZwAeLI2I"
      }
    },
    {
      "cell_type": "markdown",
      "source": [
        "### quick look at the data"
      ],
      "metadata": {
        "id": "oMaOFY76iLEG"
      }
    },
    {
      "cell_type": "code",
      "source": [
        "# checking quick statistics\n",
        "oatmeal.describe()"
      ],
      "metadata": {
        "colab": {
          "base_uri": "https://localhost:8080/",
          "height": 300
        },
        "id": "WBplO8oDrlN3",
        "outputId": "6f9370cf-9a28-44ba-9ce1-9c19d9ad396a"
      },
      "execution_count": 86,
      "outputs": [
        {
          "output_type": "execute_result",
          "data": {
            "text/plain": [
              "              hour    duration  average_watch_time_seconds  \\\n",
              "count   105.000000  105.000000                  105.000000   \n",
              "mean   1051.428571   34.680762                   17.160000   \n",
              "std     221.929600   17.101039                    7.523011   \n",
              "min     700.000000    8.000000                    3.700000   \n",
              "25%     900.000000   20.000000                   10.700000   \n",
              "50%    1000.000000   33.000000                   16.500000   \n",
              "75%    1100.000000   51.850000                   23.500000   \n",
              "max    2100.000000   60.110000                   36.700000   \n",
              "\n",
              "       percent_watched_full         plays          likes     comments  \\\n",
              "count            105.000000  1.050000e+02     105.000000   105.000000   \n",
              "mean              26.668095  2.566319e+05   20948.542857   142.200000   \n",
              "std               12.734048  7.246962e+05   83111.256888   439.833784   \n",
              "min                2.470000  1.366000e+02     155.000000     1.000000   \n",
              "25%               17.160000  2.920000e+04    1180.000000    16.000000   \n",
              "50%               25.850000  6.140000e+04    2418.000000    30.000000   \n",
              "75%               35.360000  1.035000e+05    5251.000000    68.000000   \n",
              "max               63.510000  5.700000e+06  748800.000000  3910.000000   \n",
              "\n",
              "             shares       viral  \n",
              "count    105.000000  105.000000  \n",
              "mean    1585.219048    0.257143  \n",
              "std     8267.325720    0.439155  \n",
              "min        1.000000    0.000000  \n",
              "25%       16.000000    0.000000  \n",
              "50%       70.000000    0.000000  \n",
              "75%      253.000000    1.000000  \n",
              "max    77700.000000    1.000000  "
            ],
            "text/html": [
              "\n",
              "  <div id=\"df-b41c2821-94e0-40cb-bcd3-0975989fdf40\">\n",
              "    <div class=\"colab-df-container\">\n",
              "      <div>\n",
              "<style scoped>\n",
              "    .dataframe tbody tr th:only-of-type {\n",
              "        vertical-align: middle;\n",
              "    }\n",
              "\n",
              "    .dataframe tbody tr th {\n",
              "        vertical-align: top;\n",
              "    }\n",
              "\n",
              "    .dataframe thead th {\n",
              "        text-align: right;\n",
              "    }\n",
              "</style>\n",
              "<table border=\"1\" class=\"dataframe\">\n",
              "  <thead>\n",
              "    <tr style=\"text-align: right;\">\n",
              "      <th></th>\n",
              "      <th>hour</th>\n",
              "      <th>duration</th>\n",
              "      <th>average_watch_time_seconds</th>\n",
              "      <th>percent_watched_full</th>\n",
              "      <th>plays</th>\n",
              "      <th>likes</th>\n",
              "      <th>comments</th>\n",
              "      <th>shares</th>\n",
              "      <th>viral</th>\n",
              "    </tr>\n",
              "  </thead>\n",
              "  <tbody>\n",
              "    <tr>\n",
              "      <th>count</th>\n",
              "      <td>105.000000</td>\n",
              "      <td>105.000000</td>\n",
              "      <td>105.000000</td>\n",
              "      <td>105.000000</td>\n",
              "      <td>1.050000e+02</td>\n",
              "      <td>105.000000</td>\n",
              "      <td>105.000000</td>\n",
              "      <td>105.000000</td>\n",
              "      <td>105.000000</td>\n",
              "    </tr>\n",
              "    <tr>\n",
              "      <th>mean</th>\n",
              "      <td>1051.428571</td>\n",
              "      <td>34.680762</td>\n",
              "      <td>17.160000</td>\n",
              "      <td>26.668095</td>\n",
              "      <td>2.566319e+05</td>\n",
              "      <td>20948.542857</td>\n",
              "      <td>142.200000</td>\n",
              "      <td>1585.219048</td>\n",
              "      <td>0.257143</td>\n",
              "    </tr>\n",
              "    <tr>\n",
              "      <th>std</th>\n",
              "      <td>221.929600</td>\n",
              "      <td>17.101039</td>\n",
              "      <td>7.523011</td>\n",
              "      <td>12.734048</td>\n",
              "      <td>7.246962e+05</td>\n",
              "      <td>83111.256888</td>\n",
              "      <td>439.833784</td>\n",
              "      <td>8267.325720</td>\n",
              "      <td>0.439155</td>\n",
              "    </tr>\n",
              "    <tr>\n",
              "      <th>min</th>\n",
              "      <td>700.000000</td>\n",
              "      <td>8.000000</td>\n",
              "      <td>3.700000</td>\n",
              "      <td>2.470000</td>\n",
              "      <td>1.366000e+02</td>\n",
              "      <td>155.000000</td>\n",
              "      <td>1.000000</td>\n",
              "      <td>1.000000</td>\n",
              "      <td>0.000000</td>\n",
              "    </tr>\n",
              "    <tr>\n",
              "      <th>25%</th>\n",
              "      <td>900.000000</td>\n",
              "      <td>20.000000</td>\n",
              "      <td>10.700000</td>\n",
              "      <td>17.160000</td>\n",
              "      <td>2.920000e+04</td>\n",
              "      <td>1180.000000</td>\n",
              "      <td>16.000000</td>\n",
              "      <td>16.000000</td>\n",
              "      <td>0.000000</td>\n",
              "    </tr>\n",
              "    <tr>\n",
              "      <th>50%</th>\n",
              "      <td>1000.000000</td>\n",
              "      <td>33.000000</td>\n",
              "      <td>16.500000</td>\n",
              "      <td>25.850000</td>\n",
              "      <td>6.140000e+04</td>\n",
              "      <td>2418.000000</td>\n",
              "      <td>30.000000</td>\n",
              "      <td>70.000000</td>\n",
              "      <td>0.000000</td>\n",
              "    </tr>\n",
              "    <tr>\n",
              "      <th>75%</th>\n",
              "      <td>1100.000000</td>\n",
              "      <td>51.850000</td>\n",
              "      <td>23.500000</td>\n",
              "      <td>35.360000</td>\n",
              "      <td>1.035000e+05</td>\n",
              "      <td>5251.000000</td>\n",
              "      <td>68.000000</td>\n",
              "      <td>253.000000</td>\n",
              "      <td>1.000000</td>\n",
              "    </tr>\n",
              "    <tr>\n",
              "      <th>max</th>\n",
              "      <td>2100.000000</td>\n",
              "      <td>60.110000</td>\n",
              "      <td>36.700000</td>\n",
              "      <td>63.510000</td>\n",
              "      <td>5.700000e+06</td>\n",
              "      <td>748800.000000</td>\n",
              "      <td>3910.000000</td>\n",
              "      <td>77700.000000</td>\n",
              "      <td>1.000000</td>\n",
              "    </tr>\n",
              "  </tbody>\n",
              "</table>\n",
              "</div>\n",
              "      <button class=\"colab-df-convert\" onclick=\"convertToInteractive('df-b41c2821-94e0-40cb-bcd3-0975989fdf40')\"\n",
              "              title=\"Convert this dataframe to an interactive table.\"\n",
              "              style=\"display:none;\">\n",
              "        \n",
              "  <svg xmlns=\"http://www.w3.org/2000/svg\" height=\"24px\"viewBox=\"0 0 24 24\"\n",
              "       width=\"24px\">\n",
              "    <path d=\"M0 0h24v24H0V0z\" fill=\"none\"/>\n",
              "    <path d=\"M18.56 5.44l.94 2.06.94-2.06 2.06-.94-2.06-.94-.94-2.06-.94 2.06-2.06.94zm-11 1L8.5 8.5l.94-2.06 2.06-.94-2.06-.94L8.5 2.5l-.94 2.06-2.06.94zm10 10l.94 2.06.94-2.06 2.06-.94-2.06-.94-.94-2.06-.94 2.06-2.06.94z\"/><path d=\"M17.41 7.96l-1.37-1.37c-.4-.4-.92-.59-1.43-.59-.52 0-1.04.2-1.43.59L10.3 9.45l-7.72 7.72c-.78.78-.78 2.05 0 2.83L4 21.41c.39.39.9.59 1.41.59.51 0 1.02-.2 1.41-.59l7.78-7.78 2.81-2.81c.8-.78.8-2.07 0-2.86zM5.41 20L4 18.59l7.72-7.72 1.47 1.35L5.41 20z\"/>\n",
              "  </svg>\n",
              "      </button>\n",
              "      \n",
              "  <style>\n",
              "    .colab-df-container {\n",
              "      display:flex;\n",
              "      flex-wrap:wrap;\n",
              "      gap: 12px;\n",
              "    }\n",
              "\n",
              "    .colab-df-convert {\n",
              "      background-color: #E8F0FE;\n",
              "      border: none;\n",
              "      border-radius: 50%;\n",
              "      cursor: pointer;\n",
              "      display: none;\n",
              "      fill: #1967D2;\n",
              "      height: 32px;\n",
              "      padding: 0 0 0 0;\n",
              "      width: 32px;\n",
              "    }\n",
              "\n",
              "    .colab-df-convert:hover {\n",
              "      background-color: #E2EBFA;\n",
              "      box-shadow: 0px 1px 2px rgba(60, 64, 67, 0.3), 0px 1px 3px 1px rgba(60, 64, 67, 0.15);\n",
              "      fill: #174EA6;\n",
              "    }\n",
              "\n",
              "    [theme=dark] .colab-df-convert {\n",
              "      background-color: #3B4455;\n",
              "      fill: #D2E3FC;\n",
              "    }\n",
              "\n",
              "    [theme=dark] .colab-df-convert:hover {\n",
              "      background-color: #434B5C;\n",
              "      box-shadow: 0px 1px 3px 1px rgba(0, 0, 0, 0.15);\n",
              "      filter: drop-shadow(0px 1px 2px rgba(0, 0, 0, 0.3));\n",
              "      fill: #FFFFFF;\n",
              "    }\n",
              "  </style>\n",
              "\n",
              "      <script>\n",
              "        const buttonEl =\n",
              "          document.querySelector('#df-b41c2821-94e0-40cb-bcd3-0975989fdf40 button.colab-df-convert');\n",
              "        buttonEl.style.display =\n",
              "          google.colab.kernel.accessAllowed ? 'block' : 'none';\n",
              "\n",
              "        async function convertToInteractive(key) {\n",
              "          const element = document.querySelector('#df-b41c2821-94e0-40cb-bcd3-0975989fdf40');\n",
              "          const dataTable =\n",
              "            await google.colab.kernel.invokeFunction('convertToInteractive',\n",
              "                                                     [key], {});\n",
              "          if (!dataTable) return;\n",
              "\n",
              "          const docLinkHtml = 'Like what you see? Visit the ' +\n",
              "            '<a target=\"_blank\" href=https://colab.research.google.com/notebooks/data_table.ipynb>data table notebook</a>'\n",
              "            + ' to learn more about interactive tables.';\n",
              "          element.innerHTML = '';\n",
              "          dataTable['output_type'] = 'display_data';\n",
              "          await google.colab.output.renderOutput(dataTable, element);\n",
              "          const docLink = document.createElement('div');\n",
              "          docLink.innerHTML = docLinkHtml;\n",
              "          element.appendChild(docLink);\n",
              "        }\n",
              "      </script>\n",
              "    </div>\n",
              "  </div>\n",
              "  "
            ]
          },
          "metadata": {},
          "execution_count": 86
        }
      ]
    },
    {
      "cell_type": "code",
      "source": [
        "# 105 rows, 9 columns\n",
        "oatmeal.shape"
      ],
      "metadata": {
        "colab": {
          "base_uri": "https://localhost:8080/"
        },
        "id": "PqKwdjvQK4U7",
        "outputId": "23402b0b-2597-4581-898e-70d80070b065"
      },
      "execution_count": 87,
      "outputs": [
        {
          "output_type": "execute_result",
          "data": {
            "text/plain": [
              "(105, 14)"
            ]
          },
          "metadata": {},
          "execution_count": 87
        }
      ]
    },
    {
      "cell_type": "code",
      "source": [
        "# checking the columns of the dataset\n",
        "oatmeal.columns"
      ],
      "metadata": {
        "colab": {
          "base_uri": "https://localhost:8080/"
        },
        "id": "n10j3P_4LEry",
        "outputId": "47f876db-b80c-40a0-b1d7-8f59667669cd"
      },
      "execution_count": 88,
      "outputs": [
        {
          "output_type": "execute_result",
          "data": {
            "text/plain": [
              "Index(['date', 'hour', 'category', 'duration', 'average_watch_time_seconds',\n",
              "       'percent_watched_full', 'plays', 'likes', 'comments', 'shares',\n",
              "       'voiceover', 'in_video_text', 'captions', 'viral'],\n",
              "      dtype='object')"
            ]
          },
          "metadata": {},
          "execution_count": 88
        }
      ]
    },
    {
      "cell_type": "code",
      "source": [
        "# checking the datatypes\n",
        "oatmeal.dtypes"
      ],
      "metadata": {
        "colab": {
          "base_uri": "https://localhost:8080/"
        },
        "id": "HDhCcF6MLR1k",
        "outputId": "31963f47-9e0c-4897-bbbe-32f5c0f581a8"
      },
      "execution_count": 89,
      "outputs": [
        {
          "output_type": "execute_result",
          "data": {
            "text/plain": [
              "date                           object\n",
              "hour                            int64\n",
              "category                       object\n",
              "duration                      float64\n",
              "average_watch_time_seconds    float64\n",
              "percent_watched_full          float64\n",
              "plays                         float64\n",
              "likes                           int64\n",
              "comments                        int64\n",
              "shares                          int64\n",
              "voiceover                      object\n",
              "in_video_text                  object\n",
              "captions                       object\n",
              "viral                           int64\n",
              "dtype: object"
            ]
          },
          "metadata": {},
          "execution_count": 89
        }
      ]
    },
    {
      "cell_type": "code",
      "source": [
        "# checking for unique values\n",
        "oatmeal.nunique()"
      ],
      "metadata": {
        "colab": {
          "base_uri": "https://localhost:8080/"
        },
        "id": "4sKm775KLUn1",
        "outputId": "2a19b87a-0e7c-4aae-8a94-e7a15de221a0"
      },
      "execution_count": 90,
      "outputs": [
        {
          "output_type": "execute_result",
          "data": {
            "text/plain": [
              "date                           96\n",
              "hour                           11\n",
              "category                       15\n",
              "duration                       89\n",
              "average_watch_time_seconds     83\n",
              "percent_watched_full          105\n",
              "plays                          97\n",
              "likes                         105\n",
              "comments                       68\n",
              "shares                         85\n",
              "voiceover                       2\n",
              "in_video_text                   2\n",
              "captions                        2\n",
              "viral                           2\n",
              "dtype: int64"
            ]
          },
          "metadata": {},
          "execution_count": 90
        }
      ]
    },
    {
      "cell_type": "code",
      "source": [
        "# checking out how many different categories of videos are made\n",
        "oatmeal['category'].unique()"
      ],
      "metadata": {
        "colab": {
          "base_uri": "https://localhost:8080/"
        },
        "id": "Hmqax8ECLf7y",
        "outputId": "a38726c9-0212-47f6-93de-4dc6373c5408"
      },
      "execution_count": 91,
      "outputs": [
        {
          "output_type": "execute_result",
          "data": {
            "text/plain": [
              "array(['cooking prep', 'how to', 'dinner prep', 'inquiry', 'cooking',\n",
              "       'trend', 'shopping', 'breakfast prep', 'response', 'organization',\n",
              "       'dessert prep', 'lunch prep', 'filler', 'tips', 'baby prep'],\n",
              "      dtype=object)"
            ]
          },
          "metadata": {},
          "execution_count": 91
        }
      ]
    },
    {
      "cell_type": "markdown",
      "source": [
        "### cleaning the data"
      ],
      "metadata": {
        "id": "-E4qCbieMCSo"
      }
    },
    {
      "cell_type": "code",
      "source": [
        "# checking the data for null values\n",
        "oatmeal.isnull().sum()"
      ],
      "metadata": {
        "colab": {
          "base_uri": "https://localhost:8080/"
        },
        "id": "sqXG1VsIMJ59",
        "outputId": "c86ee6c9-a53b-49e4-d4a3-29af8ad06167"
      },
      "execution_count": 92,
      "outputs": [
        {
          "output_type": "execute_result",
          "data": {
            "text/plain": [
              "date                          0\n",
              "hour                          0\n",
              "category                      0\n",
              "duration                      0\n",
              "average_watch_time_seconds    0\n",
              "percent_watched_full          0\n",
              "plays                         0\n",
              "likes                         0\n",
              "comments                      0\n",
              "shares                        0\n",
              "voiceover                     0\n",
              "in_video_text                 0\n",
              "captions                      0\n",
              "viral                         0\n",
              "dtype: int64"
            ]
          },
          "metadata": {},
          "execution_count": 92
        }
      ]
    },
    {
      "cell_type": "code",
      "source": [
        "# changing the date to datetime data type and extracting the day to add as a new column\n",
        "oatmeal['date'] = pd.to_datetime(oatmeal['date'])\n",
        "oatmeal['day_of_week'] = oatmeal['date'].dt.day_name()"
      ],
      "metadata": {
        "id": "9tovDpM68jtu"
      },
      "execution_count": 93,
      "outputs": []
    },
    {
      "cell_type": "code",
      "source": [
        "oatmeal['voiceover'] = oatmeal['voiceover'].map({'yes':1, 'no':0})\n",
        "oatmeal['in_video_text'] = oatmeal['in_video_text'].map({'yes':1, 'no':0})\n",
        "oatmeal['captions'] = oatmeal['captions'].map({'yes':1, 'no':0})"
      ],
      "metadata": {
        "id": "2Rj1eia0OMvM"
      },
      "execution_count": 94,
      "outputs": []
    },
    {
      "cell_type": "code",
      "source": [
        "oatmeal.head(15)"
      ],
      "metadata": {
        "colab": {
          "base_uri": "https://localhost:8080/",
          "height": 519
        },
        "id": "LL3qzejiMx2p",
        "outputId": "341e3944-5507-4241-9f7b-33a7f3c88e32"
      },
      "execution_count": 95,
      "outputs": [
        {
          "output_type": "execute_result",
          "data": {
            "text/plain": [
              "         date  hour      category  duration  average_watch_time_seconds  \\\n",
              "0  2021-05-12  2100  cooking prep     55.70                        26.6   \n",
              "1  2021-05-13   800        how to     59.19                        24.7   \n",
              "2  2021-05-13  1200   dinner prep     56.38                        25.2   \n",
              "3  2021-05-14  1200        how to     35.48                        22.7   \n",
              "4  2021-05-14  1100   dinner prep     59.19                        29.6   \n",
              "5  2021-05-15   900   dinner prep     58.58                        22.6   \n",
              "6  2021-05-16  1200        how to     56.75                        26.9   \n",
              "7  2021-05-17  1000   dinner prep     42.93                        24.9   \n",
              "8  2021-05-17  1300       inquiry     23.98                         6.5   \n",
              "9  2021-05-18   900       cooking     58.35                        35.5   \n",
              "10 2021-05-18  1300        how to     59.21                        20.4   \n",
              "11 2021-05-19   900  cooking prep     48.76                        24.7   \n",
              "12 2021-05-20   800         trend     15.23                         9.1   \n",
              "13 2021-05-20  1000         trend     10.91                         8.1   \n",
              "14 2021-05-21  1100        how to     39.59                        18.7   \n",
              "\n",
              "    percent_watched_full     plays  likes  comments  shares  voiceover  \\\n",
              "0                  16.14   63300.0   3278        28     237          1   \n",
              "1                  16.52   80900.0   3582        59     235          1   \n",
              "2                  23.93   63300.0   3466        28     311          1   \n",
              "3                  29.95   59500.0   3622        54     227          1   \n",
              "4                  35.36   77700.0   5009        65     403          1   \n",
              "5                  21.37   61100.0   2068        18      94          1   \n",
              "6                  27.58   61600.0   3603        49     200          1   \n",
              "7                  17.16   62800.0   2926        18     125          1   \n",
              "8                   3.46   64900.0   1031       282       3          1   \n",
              "9                  44.53   69500.0   2413        40      27          0   \n",
              "10                 17.00   91300.0   2864        29     121          1   \n",
              "11                 20.21   84500.0   4092        31     122          1   \n",
              "12                 35.97   77100.0   1717        29      41          0   \n",
              "13                 40.74   88000.0   2740        10      23          0   \n",
              "14                 20.10  128600.0   5089        77     310          1   \n",
              "\n",
              "    in_video_text  captions  viral day_of_week  \n",
              "0               0         1      0   Wednesday  \n",
              "1               0         0      0    Thursday  \n",
              "2               1         1      0    Thursday  \n",
              "3               0         1      0      Friday  \n",
              "4               0         1      0      Friday  \n",
              "5               0         1      0    Saturday  \n",
              "6               0         1      0      Sunday  \n",
              "7               0         1      0      Monday  \n",
              "8               0         1      0      Monday  \n",
              "9               0         0      0     Tuesday  \n",
              "10              1         1      0     Tuesday  \n",
              "11              0         1      0   Wednesday  \n",
              "12              1         0      0    Thursday  \n",
              "13              1         0      1    Thursday  \n",
              "14              1         1      0      Friday  "
            ],
            "text/html": [
              "\n",
              "  <div id=\"df-24074eff-f90a-4a92-a67c-8e4031be73fe\">\n",
              "    <div class=\"colab-df-container\">\n",
              "      <div>\n",
              "<style scoped>\n",
              "    .dataframe tbody tr th:only-of-type {\n",
              "        vertical-align: middle;\n",
              "    }\n",
              "\n",
              "    .dataframe tbody tr th {\n",
              "        vertical-align: top;\n",
              "    }\n",
              "\n",
              "    .dataframe thead th {\n",
              "        text-align: right;\n",
              "    }\n",
              "</style>\n",
              "<table border=\"1\" class=\"dataframe\">\n",
              "  <thead>\n",
              "    <tr style=\"text-align: right;\">\n",
              "      <th></th>\n",
              "      <th>date</th>\n",
              "      <th>hour</th>\n",
              "      <th>category</th>\n",
              "      <th>duration</th>\n",
              "      <th>average_watch_time_seconds</th>\n",
              "      <th>percent_watched_full</th>\n",
              "      <th>plays</th>\n",
              "      <th>likes</th>\n",
              "      <th>comments</th>\n",
              "      <th>shares</th>\n",
              "      <th>voiceover</th>\n",
              "      <th>in_video_text</th>\n",
              "      <th>captions</th>\n",
              "      <th>viral</th>\n",
              "      <th>day_of_week</th>\n",
              "    </tr>\n",
              "  </thead>\n",
              "  <tbody>\n",
              "    <tr>\n",
              "      <th>0</th>\n",
              "      <td>2021-05-12</td>\n",
              "      <td>2100</td>\n",
              "      <td>cooking prep</td>\n",
              "      <td>55.70</td>\n",
              "      <td>26.6</td>\n",
              "      <td>16.14</td>\n",
              "      <td>63300.0</td>\n",
              "      <td>3278</td>\n",
              "      <td>28</td>\n",
              "      <td>237</td>\n",
              "      <td>1</td>\n",
              "      <td>0</td>\n",
              "      <td>1</td>\n",
              "      <td>0</td>\n",
              "      <td>Wednesday</td>\n",
              "    </tr>\n",
              "    <tr>\n",
              "      <th>1</th>\n",
              "      <td>2021-05-13</td>\n",
              "      <td>800</td>\n",
              "      <td>how to</td>\n",
              "      <td>59.19</td>\n",
              "      <td>24.7</td>\n",
              "      <td>16.52</td>\n",
              "      <td>80900.0</td>\n",
              "      <td>3582</td>\n",
              "      <td>59</td>\n",
              "      <td>235</td>\n",
              "      <td>1</td>\n",
              "      <td>0</td>\n",
              "      <td>0</td>\n",
              "      <td>0</td>\n",
              "      <td>Thursday</td>\n",
              "    </tr>\n",
              "    <tr>\n",
              "      <th>2</th>\n",
              "      <td>2021-05-13</td>\n",
              "      <td>1200</td>\n",
              "      <td>dinner prep</td>\n",
              "      <td>56.38</td>\n",
              "      <td>25.2</td>\n",
              "      <td>23.93</td>\n",
              "      <td>63300.0</td>\n",
              "      <td>3466</td>\n",
              "      <td>28</td>\n",
              "      <td>311</td>\n",
              "      <td>1</td>\n",
              "      <td>1</td>\n",
              "      <td>1</td>\n",
              "      <td>0</td>\n",
              "      <td>Thursday</td>\n",
              "    </tr>\n",
              "    <tr>\n",
              "      <th>3</th>\n",
              "      <td>2021-05-14</td>\n",
              "      <td>1200</td>\n",
              "      <td>how to</td>\n",
              "      <td>35.48</td>\n",
              "      <td>22.7</td>\n",
              "      <td>29.95</td>\n",
              "      <td>59500.0</td>\n",
              "      <td>3622</td>\n",
              "      <td>54</td>\n",
              "      <td>227</td>\n",
              "      <td>1</td>\n",
              "      <td>0</td>\n",
              "      <td>1</td>\n",
              "      <td>0</td>\n",
              "      <td>Friday</td>\n",
              "    </tr>\n",
              "    <tr>\n",
              "      <th>4</th>\n",
              "      <td>2021-05-14</td>\n",
              "      <td>1100</td>\n",
              "      <td>dinner prep</td>\n",
              "      <td>59.19</td>\n",
              "      <td>29.6</td>\n",
              "      <td>35.36</td>\n",
              "      <td>77700.0</td>\n",
              "      <td>5009</td>\n",
              "      <td>65</td>\n",
              "      <td>403</td>\n",
              "      <td>1</td>\n",
              "      <td>0</td>\n",
              "      <td>1</td>\n",
              "      <td>0</td>\n",
              "      <td>Friday</td>\n",
              "    </tr>\n",
              "    <tr>\n",
              "      <th>5</th>\n",
              "      <td>2021-05-15</td>\n",
              "      <td>900</td>\n",
              "      <td>dinner prep</td>\n",
              "      <td>58.58</td>\n",
              "      <td>22.6</td>\n",
              "      <td>21.37</td>\n",
              "      <td>61100.0</td>\n",
              "      <td>2068</td>\n",
              "      <td>18</td>\n",
              "      <td>94</td>\n",
              "      <td>1</td>\n",
              "      <td>0</td>\n",
              "      <td>1</td>\n",
              "      <td>0</td>\n",
              "      <td>Saturday</td>\n",
              "    </tr>\n",
              "    <tr>\n",
              "      <th>6</th>\n",
              "      <td>2021-05-16</td>\n",
              "      <td>1200</td>\n",
              "      <td>how to</td>\n",
              "      <td>56.75</td>\n",
              "      <td>26.9</td>\n",
              "      <td>27.58</td>\n",
              "      <td>61600.0</td>\n",
              "      <td>3603</td>\n",
              "      <td>49</td>\n",
              "      <td>200</td>\n",
              "      <td>1</td>\n",
              "      <td>0</td>\n",
              "      <td>1</td>\n",
              "      <td>0</td>\n",
              "      <td>Sunday</td>\n",
              "    </tr>\n",
              "    <tr>\n",
              "      <th>7</th>\n",
              "      <td>2021-05-17</td>\n",
              "      <td>1000</td>\n",
              "      <td>dinner prep</td>\n",
              "      <td>42.93</td>\n",
              "      <td>24.9</td>\n",
              "      <td>17.16</td>\n",
              "      <td>62800.0</td>\n",
              "      <td>2926</td>\n",
              "      <td>18</td>\n",
              "      <td>125</td>\n",
              "      <td>1</td>\n",
              "      <td>0</td>\n",
              "      <td>1</td>\n",
              "      <td>0</td>\n",
              "      <td>Monday</td>\n",
              "    </tr>\n",
              "    <tr>\n",
              "      <th>8</th>\n",
              "      <td>2021-05-17</td>\n",
              "      <td>1300</td>\n",
              "      <td>inquiry</td>\n",
              "      <td>23.98</td>\n",
              "      <td>6.5</td>\n",
              "      <td>3.46</td>\n",
              "      <td>64900.0</td>\n",
              "      <td>1031</td>\n",
              "      <td>282</td>\n",
              "      <td>3</td>\n",
              "      <td>1</td>\n",
              "      <td>0</td>\n",
              "      <td>1</td>\n",
              "      <td>0</td>\n",
              "      <td>Monday</td>\n",
              "    </tr>\n",
              "    <tr>\n",
              "      <th>9</th>\n",
              "      <td>2021-05-18</td>\n",
              "      <td>900</td>\n",
              "      <td>cooking</td>\n",
              "      <td>58.35</td>\n",
              "      <td>35.5</td>\n",
              "      <td>44.53</td>\n",
              "      <td>69500.0</td>\n",
              "      <td>2413</td>\n",
              "      <td>40</td>\n",
              "      <td>27</td>\n",
              "      <td>0</td>\n",
              "      <td>0</td>\n",
              "      <td>0</td>\n",
              "      <td>0</td>\n",
              "      <td>Tuesday</td>\n",
              "    </tr>\n",
              "    <tr>\n",
              "      <th>10</th>\n",
              "      <td>2021-05-18</td>\n",
              "      <td>1300</td>\n",
              "      <td>how to</td>\n",
              "      <td>59.21</td>\n",
              "      <td>20.4</td>\n",
              "      <td>17.00</td>\n",
              "      <td>91300.0</td>\n",
              "      <td>2864</td>\n",
              "      <td>29</td>\n",
              "      <td>121</td>\n",
              "      <td>1</td>\n",
              "      <td>1</td>\n",
              "      <td>1</td>\n",
              "      <td>0</td>\n",
              "      <td>Tuesday</td>\n",
              "    </tr>\n",
              "    <tr>\n",
              "      <th>11</th>\n",
              "      <td>2021-05-19</td>\n",
              "      <td>900</td>\n",
              "      <td>cooking prep</td>\n",
              "      <td>48.76</td>\n",
              "      <td>24.7</td>\n",
              "      <td>20.21</td>\n",
              "      <td>84500.0</td>\n",
              "      <td>4092</td>\n",
              "      <td>31</td>\n",
              "      <td>122</td>\n",
              "      <td>1</td>\n",
              "      <td>0</td>\n",
              "      <td>1</td>\n",
              "      <td>0</td>\n",
              "      <td>Wednesday</td>\n",
              "    </tr>\n",
              "    <tr>\n",
              "      <th>12</th>\n",
              "      <td>2021-05-20</td>\n",
              "      <td>800</td>\n",
              "      <td>trend</td>\n",
              "      <td>15.23</td>\n",
              "      <td>9.1</td>\n",
              "      <td>35.97</td>\n",
              "      <td>77100.0</td>\n",
              "      <td>1717</td>\n",
              "      <td>29</td>\n",
              "      <td>41</td>\n",
              "      <td>0</td>\n",
              "      <td>1</td>\n",
              "      <td>0</td>\n",
              "      <td>0</td>\n",
              "      <td>Thursday</td>\n",
              "    </tr>\n",
              "    <tr>\n",
              "      <th>13</th>\n",
              "      <td>2021-05-20</td>\n",
              "      <td>1000</td>\n",
              "      <td>trend</td>\n",
              "      <td>10.91</td>\n",
              "      <td>8.1</td>\n",
              "      <td>40.74</td>\n",
              "      <td>88000.0</td>\n",
              "      <td>2740</td>\n",
              "      <td>10</td>\n",
              "      <td>23</td>\n",
              "      <td>0</td>\n",
              "      <td>1</td>\n",
              "      <td>0</td>\n",
              "      <td>1</td>\n",
              "      <td>Thursday</td>\n",
              "    </tr>\n",
              "    <tr>\n",
              "      <th>14</th>\n",
              "      <td>2021-05-21</td>\n",
              "      <td>1100</td>\n",
              "      <td>how to</td>\n",
              "      <td>39.59</td>\n",
              "      <td>18.7</td>\n",
              "      <td>20.10</td>\n",
              "      <td>128600.0</td>\n",
              "      <td>5089</td>\n",
              "      <td>77</td>\n",
              "      <td>310</td>\n",
              "      <td>1</td>\n",
              "      <td>1</td>\n",
              "      <td>1</td>\n",
              "      <td>0</td>\n",
              "      <td>Friday</td>\n",
              "    </tr>\n",
              "  </tbody>\n",
              "</table>\n",
              "</div>\n",
              "      <button class=\"colab-df-convert\" onclick=\"convertToInteractive('df-24074eff-f90a-4a92-a67c-8e4031be73fe')\"\n",
              "              title=\"Convert this dataframe to an interactive table.\"\n",
              "              style=\"display:none;\">\n",
              "        \n",
              "  <svg xmlns=\"http://www.w3.org/2000/svg\" height=\"24px\"viewBox=\"0 0 24 24\"\n",
              "       width=\"24px\">\n",
              "    <path d=\"M0 0h24v24H0V0z\" fill=\"none\"/>\n",
              "    <path d=\"M18.56 5.44l.94 2.06.94-2.06 2.06-.94-2.06-.94-.94-2.06-.94 2.06-2.06.94zm-11 1L8.5 8.5l.94-2.06 2.06-.94-2.06-.94L8.5 2.5l-.94 2.06-2.06.94zm10 10l.94 2.06.94-2.06 2.06-.94-2.06-.94-.94-2.06-.94 2.06-2.06.94z\"/><path d=\"M17.41 7.96l-1.37-1.37c-.4-.4-.92-.59-1.43-.59-.52 0-1.04.2-1.43.59L10.3 9.45l-7.72 7.72c-.78.78-.78 2.05 0 2.83L4 21.41c.39.39.9.59 1.41.59.51 0 1.02-.2 1.41-.59l7.78-7.78 2.81-2.81c.8-.78.8-2.07 0-2.86zM5.41 20L4 18.59l7.72-7.72 1.47 1.35L5.41 20z\"/>\n",
              "  </svg>\n",
              "      </button>\n",
              "      \n",
              "  <style>\n",
              "    .colab-df-container {\n",
              "      display:flex;\n",
              "      flex-wrap:wrap;\n",
              "      gap: 12px;\n",
              "    }\n",
              "\n",
              "    .colab-df-convert {\n",
              "      background-color: #E8F0FE;\n",
              "      border: none;\n",
              "      border-radius: 50%;\n",
              "      cursor: pointer;\n",
              "      display: none;\n",
              "      fill: #1967D2;\n",
              "      height: 32px;\n",
              "      padding: 0 0 0 0;\n",
              "      width: 32px;\n",
              "    }\n",
              "\n",
              "    .colab-df-convert:hover {\n",
              "      background-color: #E2EBFA;\n",
              "      box-shadow: 0px 1px 2px rgba(60, 64, 67, 0.3), 0px 1px 3px 1px rgba(60, 64, 67, 0.15);\n",
              "      fill: #174EA6;\n",
              "    }\n",
              "\n",
              "    [theme=dark] .colab-df-convert {\n",
              "      background-color: #3B4455;\n",
              "      fill: #D2E3FC;\n",
              "    }\n",
              "\n",
              "    [theme=dark] .colab-df-convert:hover {\n",
              "      background-color: #434B5C;\n",
              "      box-shadow: 0px 1px 3px 1px rgba(0, 0, 0, 0.15);\n",
              "      filter: drop-shadow(0px 1px 2px rgba(0, 0, 0, 0.3));\n",
              "      fill: #FFFFFF;\n",
              "    }\n",
              "  </style>\n",
              "\n",
              "      <script>\n",
              "        const buttonEl =\n",
              "          document.querySelector('#df-24074eff-f90a-4a92-a67c-8e4031be73fe button.colab-df-convert');\n",
              "        buttonEl.style.display =\n",
              "          google.colab.kernel.accessAllowed ? 'block' : 'none';\n",
              "\n",
              "        async function convertToInteractive(key) {\n",
              "          const element = document.querySelector('#df-24074eff-f90a-4a92-a67c-8e4031be73fe');\n",
              "          const dataTable =\n",
              "            await google.colab.kernel.invokeFunction('convertToInteractive',\n",
              "                                                     [key], {});\n",
              "          if (!dataTable) return;\n",
              "\n",
              "          const docLinkHtml = 'Like what you see? Visit the ' +\n",
              "            '<a target=\"_blank\" href=https://colab.research.google.com/notebooks/data_table.ipynb>data table notebook</a>'\n",
              "            + ' to learn more about interactive tables.';\n",
              "          element.innerHTML = '';\n",
              "          dataTable['output_type'] = 'display_data';\n",
              "          await google.colab.output.renderOutput(dataTable, element);\n",
              "          const docLink = document.createElement('div');\n",
              "          docLink.innerHTML = docLinkHtml;\n",
              "          element.appendChild(docLink);\n",
              "        }\n",
              "      </script>\n",
              "    </div>\n",
              "  </div>\n",
              "  "
            ]
          },
          "metadata": {},
          "execution_count": 95
        }
      ]
    },
    {
      "cell_type": "markdown",
      "source": [
        "### Relationship Analysis"
      ],
      "metadata": {
        "id": "PGQAxlE54D7Z"
      }
    },
    {
      "cell_type": "markdown",
      "source": [
        "The first thing I am interested in is how my videos perform by the different categories I post. I am most known for my dinner meal preps so I am curious to see if that is where most of my engagement comes from."
      ],
      "metadata": {
        "id": "X8d1Rr7K6CCD"
      }
    },
    {
      "cell_type": "code",
      "source": [
        "import matplotlib.pyplot as plt\n",
        "from scipy import stats\n",
        "import statsmodels.api as sm\n",
        "import numpy as np\n",
        "import seaborn as sns"
      ],
      "metadata": {
        "id": "XAKGugMIL9-a"
      },
      "execution_count": 96,
      "outputs": []
    },
    {
      "cell_type": "markdown",
      "source": [
        "TikTok analytics offers the average watch time for each video, but I wanted to know the ratio of averate watch time to the actual duration of the posted video to create a uniform way each video is assessed for engagement considering watch time. I added this as a new variable."
      ],
      "metadata": {
        "id": "KTp7-d8k8A_r"
      }
    },
    {
      "cell_type": "code",
      "source": [
        "# adding new variable for ratio_watched\n",
        "oatmeal['ratio_watched'] = oatmeal['average_watch_time_seconds']/oatmeal['duration']"
      ],
      "metadata": {
        "id": "ynqwtlwB7KCd"
      },
      "execution_count": 97,
      "outputs": []
    },
    {
      "cell_type": "code",
      "source": [
        "# grouping my dataset by category and then checking out the mean of each continuous category\n",
        "# i am mostly interested in the average watch time \n",
        "oatmeal.groupby(['category']).mean()"
      ],
      "metadata": {
        "colab": {
          "base_uri": "https://localhost:8080/",
          "height": 667
        },
        "id": "fzta_QGz4Hqg",
        "outputId": "0b414283-140a-4da4-f8c1-c949c43b97cb"
      },
      "execution_count": 98,
      "outputs": [
        {
          "output_type": "execute_result",
          "data": {
            "text/plain": [
              "                       hour   duration  average_watch_time_seconds  \\\n",
              "category                                                             \n",
              "baby prep       1000.000000  59.277500                   18.275000   \n",
              "breakfast prep  1055.555556  51.025556                   22.955556   \n",
              "cooking         1050.000000  40.820000                   22.050000   \n",
              "cooking prep    1110.000000  39.116000                   20.970000   \n",
              "dessert prep    1050.000000  45.677500                   15.500000   \n",
              "dinner prep     1087.500000  49.789375                   25.287500   \n",
              "filler          1113.333333  20.116667                   10.113333   \n",
              "how to          1041.176471  34.481765                   17.711765   \n",
              "inquiry         1125.000000  22.637500                   10.900000   \n",
              "lunch prep      1010.000000  27.163000                   13.930000   \n",
              "organization     966.666667  19.158333                   12.733333   \n",
              "response        1000.000000  11.910000                   12.300000   \n",
              "shopping         900.000000  18.110000                   12.800000   \n",
              "tips            1100.000000  33.000000                   23.800000   \n",
              "trend            850.000000  11.700000                    6.975000   \n",
              "\n",
              "                percent_watched_full          plays         likes    comments  \\\n",
              "category                                                                        \n",
              "baby prep                  16.410000   24125.000000   1238.500000   15.000000   \n",
              "breakfast prep             24.068889  840566.666667  98508.000000  535.222222   \n",
              "cooking                    29.215000   45300.000000   1362.000000   22.000000   \n",
              "cooking prep               20.795000   56240.000000   3055.300000   27.000000   \n",
              "dessert prep               14.007500   32440.250000   1448.750000   14.500000   \n",
              "dinner prep                30.418125  449175.000000  34473.062500  182.687500   \n",
              "filler                     26.147333  110515.133333   8389.400000  144.600000   \n",
              "how to                     27.662941  257964.705882  10387.058824   95.470588   \n",
              "inquiry                    21.002500  105625.000000   1136.250000  142.500000   \n",
              "lunch prep                 24.092000  158200.000000   8225.500000   52.300000   \n",
              "organization               35.698333  328350.000000  38877.000000  220.000000   \n",
              "response                   63.510000  129400.000000   4141.000000   41.000000   \n",
              "shopping                   40.480000   99468.300000   6841.000000   88.500000   \n",
              "tips                       50.430000  782700.000000  72300.000000  290.000000   \n",
              "trend                      28.072500   46606.500000   1206.000000   11.500000   \n",
              "\n",
              "                      shares  voiceover  in_video_text  captions     viral  \\\n",
              "category                                                                     \n",
              "baby prep          49.000000   1.000000       0.250000  1.000000  0.250000   \n",
              "breakfast prep  10551.777778   1.000000       0.444444  0.777778  0.222222   \n",
              "cooking            16.000000   0.000000       0.500000  0.000000  0.500000   \n",
              "cooking prep      135.300000   0.700000       0.200000  0.700000  0.200000   \n",
              "dessert prep       84.250000   0.750000       0.000000  0.750000  0.000000   \n",
              "dinner prep      2717.500000   1.000000       0.625000  0.750000  0.250000   \n",
              "filler            547.133333   0.200000       0.733333  0.200000  0.133333   \n",
              "how to            205.588235   0.764706       0.352941  0.705882  0.294118   \n",
              "inquiry           263.500000   0.500000       0.250000  1.000000  0.250000   \n",
              "lunch prep        382.400000   0.400000       0.800000  0.000000  0.300000   \n",
              "organization     1387.333333   0.166667       0.500000  0.166667  0.166667   \n",
              "response            7.000000   0.000000       0.000000  0.000000  1.000000   \n",
              "shopping          199.000000   0.000000       1.000000  0.000000  1.000000   \n",
              "tips              708.000000   1.000000       0.000000  1.000000  1.000000   \n",
              "trend              16.750000   0.000000       0.750000  0.000000  0.250000   \n",
              "\n",
              "                ratio_watched  \n",
              "category                       \n",
              "baby prep            0.308493  \n",
              "breakfast prep       0.446370  \n",
              "cooking              0.488827  \n",
              "cooking prep         0.570466  \n",
              "dessert prep         0.359366  \n",
              "dinner prep          0.513548  \n",
              "filler               0.561306  \n",
              "how to               0.564452  \n",
              "inquiry              0.521626  \n",
              "lunch prep           0.525533  \n",
              "organization         0.708661  \n",
              "response             1.032746  \n",
              "shopping             0.695684  \n",
              "tips                 0.721212  \n",
              "trend                0.622839  "
            ],
            "text/html": [
              "\n",
              "  <div id=\"df-98f8ed35-a2f4-4b09-95b7-9e228fcab73f\">\n",
              "    <div class=\"colab-df-container\">\n",
              "      <div>\n",
              "<style scoped>\n",
              "    .dataframe tbody tr th:only-of-type {\n",
              "        vertical-align: middle;\n",
              "    }\n",
              "\n",
              "    .dataframe tbody tr th {\n",
              "        vertical-align: top;\n",
              "    }\n",
              "\n",
              "    .dataframe thead th {\n",
              "        text-align: right;\n",
              "    }\n",
              "</style>\n",
              "<table border=\"1\" class=\"dataframe\">\n",
              "  <thead>\n",
              "    <tr style=\"text-align: right;\">\n",
              "      <th></th>\n",
              "      <th>hour</th>\n",
              "      <th>duration</th>\n",
              "      <th>average_watch_time_seconds</th>\n",
              "      <th>percent_watched_full</th>\n",
              "      <th>plays</th>\n",
              "      <th>likes</th>\n",
              "      <th>comments</th>\n",
              "      <th>shares</th>\n",
              "      <th>voiceover</th>\n",
              "      <th>in_video_text</th>\n",
              "      <th>captions</th>\n",
              "      <th>viral</th>\n",
              "      <th>ratio_watched</th>\n",
              "    </tr>\n",
              "    <tr>\n",
              "      <th>category</th>\n",
              "      <th></th>\n",
              "      <th></th>\n",
              "      <th></th>\n",
              "      <th></th>\n",
              "      <th></th>\n",
              "      <th></th>\n",
              "      <th></th>\n",
              "      <th></th>\n",
              "      <th></th>\n",
              "      <th></th>\n",
              "      <th></th>\n",
              "      <th></th>\n",
              "      <th></th>\n",
              "    </tr>\n",
              "  </thead>\n",
              "  <tbody>\n",
              "    <tr>\n",
              "      <th>baby prep</th>\n",
              "      <td>1000.000000</td>\n",
              "      <td>59.277500</td>\n",
              "      <td>18.275000</td>\n",
              "      <td>16.410000</td>\n",
              "      <td>24125.000000</td>\n",
              "      <td>1238.500000</td>\n",
              "      <td>15.000000</td>\n",
              "      <td>49.000000</td>\n",
              "      <td>1.000000</td>\n",
              "      <td>0.250000</td>\n",
              "      <td>1.000000</td>\n",
              "      <td>0.250000</td>\n",
              "      <td>0.308493</td>\n",
              "    </tr>\n",
              "    <tr>\n",
              "      <th>breakfast prep</th>\n",
              "      <td>1055.555556</td>\n",
              "      <td>51.025556</td>\n",
              "      <td>22.955556</td>\n",
              "      <td>24.068889</td>\n",
              "      <td>840566.666667</td>\n",
              "      <td>98508.000000</td>\n",
              "      <td>535.222222</td>\n",
              "      <td>10551.777778</td>\n",
              "      <td>1.000000</td>\n",
              "      <td>0.444444</td>\n",
              "      <td>0.777778</td>\n",
              "      <td>0.222222</td>\n",
              "      <td>0.446370</td>\n",
              "    </tr>\n",
              "    <tr>\n",
              "      <th>cooking</th>\n",
              "      <td>1050.000000</td>\n",
              "      <td>40.820000</td>\n",
              "      <td>22.050000</td>\n",
              "      <td>29.215000</td>\n",
              "      <td>45300.000000</td>\n",
              "      <td>1362.000000</td>\n",
              "      <td>22.000000</td>\n",
              "      <td>16.000000</td>\n",
              "      <td>0.000000</td>\n",
              "      <td>0.500000</td>\n",
              "      <td>0.000000</td>\n",
              "      <td>0.500000</td>\n",
              "      <td>0.488827</td>\n",
              "    </tr>\n",
              "    <tr>\n",
              "      <th>cooking prep</th>\n",
              "      <td>1110.000000</td>\n",
              "      <td>39.116000</td>\n",
              "      <td>20.970000</td>\n",
              "      <td>20.795000</td>\n",
              "      <td>56240.000000</td>\n",
              "      <td>3055.300000</td>\n",
              "      <td>27.000000</td>\n",
              "      <td>135.300000</td>\n",
              "      <td>0.700000</td>\n",
              "      <td>0.200000</td>\n",
              "      <td>0.700000</td>\n",
              "      <td>0.200000</td>\n",
              "      <td>0.570466</td>\n",
              "    </tr>\n",
              "    <tr>\n",
              "      <th>dessert prep</th>\n",
              "      <td>1050.000000</td>\n",
              "      <td>45.677500</td>\n",
              "      <td>15.500000</td>\n",
              "      <td>14.007500</td>\n",
              "      <td>32440.250000</td>\n",
              "      <td>1448.750000</td>\n",
              "      <td>14.500000</td>\n",
              "      <td>84.250000</td>\n",
              "      <td>0.750000</td>\n",
              "      <td>0.000000</td>\n",
              "      <td>0.750000</td>\n",
              "      <td>0.000000</td>\n",
              "      <td>0.359366</td>\n",
              "    </tr>\n",
              "    <tr>\n",
              "      <th>dinner prep</th>\n",
              "      <td>1087.500000</td>\n",
              "      <td>49.789375</td>\n",
              "      <td>25.287500</td>\n",
              "      <td>30.418125</td>\n",
              "      <td>449175.000000</td>\n",
              "      <td>34473.062500</td>\n",
              "      <td>182.687500</td>\n",
              "      <td>2717.500000</td>\n",
              "      <td>1.000000</td>\n",
              "      <td>0.625000</td>\n",
              "      <td>0.750000</td>\n",
              "      <td>0.250000</td>\n",
              "      <td>0.513548</td>\n",
              "    </tr>\n",
              "    <tr>\n",
              "      <th>filler</th>\n",
              "      <td>1113.333333</td>\n",
              "      <td>20.116667</td>\n",
              "      <td>10.113333</td>\n",
              "      <td>26.147333</td>\n",
              "      <td>110515.133333</td>\n",
              "      <td>8389.400000</td>\n",
              "      <td>144.600000</td>\n",
              "      <td>547.133333</td>\n",
              "      <td>0.200000</td>\n",
              "      <td>0.733333</td>\n",
              "      <td>0.200000</td>\n",
              "      <td>0.133333</td>\n",
              "      <td>0.561306</td>\n",
              "    </tr>\n",
              "    <tr>\n",
              "      <th>how to</th>\n",
              "      <td>1041.176471</td>\n",
              "      <td>34.481765</td>\n",
              "      <td>17.711765</td>\n",
              "      <td>27.662941</td>\n",
              "      <td>257964.705882</td>\n",
              "      <td>10387.058824</td>\n",
              "      <td>95.470588</td>\n",
              "      <td>205.588235</td>\n",
              "      <td>0.764706</td>\n",
              "      <td>0.352941</td>\n",
              "      <td>0.705882</td>\n",
              "      <td>0.294118</td>\n",
              "      <td>0.564452</td>\n",
              "    </tr>\n",
              "    <tr>\n",
              "      <th>inquiry</th>\n",
              "      <td>1125.000000</td>\n",
              "      <td>22.637500</td>\n",
              "      <td>10.900000</td>\n",
              "      <td>21.002500</td>\n",
              "      <td>105625.000000</td>\n",
              "      <td>1136.250000</td>\n",
              "      <td>142.500000</td>\n",
              "      <td>263.500000</td>\n",
              "      <td>0.500000</td>\n",
              "      <td>0.250000</td>\n",
              "      <td>1.000000</td>\n",
              "      <td>0.250000</td>\n",
              "      <td>0.521626</td>\n",
              "    </tr>\n",
              "    <tr>\n",
              "      <th>lunch prep</th>\n",
              "      <td>1010.000000</td>\n",
              "      <td>27.163000</td>\n",
              "      <td>13.930000</td>\n",
              "      <td>24.092000</td>\n",
              "      <td>158200.000000</td>\n",
              "      <td>8225.500000</td>\n",
              "      <td>52.300000</td>\n",
              "      <td>382.400000</td>\n",
              "      <td>0.400000</td>\n",
              "      <td>0.800000</td>\n",
              "      <td>0.000000</td>\n",
              "      <td>0.300000</td>\n",
              "      <td>0.525533</td>\n",
              "    </tr>\n",
              "    <tr>\n",
              "      <th>organization</th>\n",
              "      <td>966.666667</td>\n",
              "      <td>19.158333</td>\n",
              "      <td>12.733333</td>\n",
              "      <td>35.698333</td>\n",
              "      <td>328350.000000</td>\n",
              "      <td>38877.000000</td>\n",
              "      <td>220.000000</td>\n",
              "      <td>1387.333333</td>\n",
              "      <td>0.166667</td>\n",
              "      <td>0.500000</td>\n",
              "      <td>0.166667</td>\n",
              "      <td>0.166667</td>\n",
              "      <td>0.708661</td>\n",
              "    </tr>\n",
              "    <tr>\n",
              "      <th>response</th>\n",
              "      <td>1000.000000</td>\n",
              "      <td>11.910000</td>\n",
              "      <td>12.300000</td>\n",
              "      <td>63.510000</td>\n",
              "      <td>129400.000000</td>\n",
              "      <td>4141.000000</td>\n",
              "      <td>41.000000</td>\n",
              "      <td>7.000000</td>\n",
              "      <td>0.000000</td>\n",
              "      <td>0.000000</td>\n",
              "      <td>0.000000</td>\n",
              "      <td>1.000000</td>\n",
              "      <td>1.032746</td>\n",
              "    </tr>\n",
              "    <tr>\n",
              "      <th>shopping</th>\n",
              "      <td>900.000000</td>\n",
              "      <td>18.110000</td>\n",
              "      <td>12.800000</td>\n",
              "      <td>40.480000</td>\n",
              "      <td>99468.300000</td>\n",
              "      <td>6841.000000</td>\n",
              "      <td>88.500000</td>\n",
              "      <td>199.000000</td>\n",
              "      <td>0.000000</td>\n",
              "      <td>1.000000</td>\n",
              "      <td>0.000000</td>\n",
              "      <td>1.000000</td>\n",
              "      <td>0.695684</td>\n",
              "    </tr>\n",
              "    <tr>\n",
              "      <th>tips</th>\n",
              "      <td>1100.000000</td>\n",
              "      <td>33.000000</td>\n",
              "      <td>23.800000</td>\n",
              "      <td>50.430000</td>\n",
              "      <td>782700.000000</td>\n",
              "      <td>72300.000000</td>\n",
              "      <td>290.000000</td>\n",
              "      <td>708.000000</td>\n",
              "      <td>1.000000</td>\n",
              "      <td>0.000000</td>\n",
              "      <td>1.000000</td>\n",
              "      <td>1.000000</td>\n",
              "      <td>0.721212</td>\n",
              "    </tr>\n",
              "    <tr>\n",
              "      <th>trend</th>\n",
              "      <td>850.000000</td>\n",
              "      <td>11.700000</td>\n",
              "      <td>6.975000</td>\n",
              "      <td>28.072500</td>\n",
              "      <td>46606.500000</td>\n",
              "      <td>1206.000000</td>\n",
              "      <td>11.500000</td>\n",
              "      <td>16.750000</td>\n",
              "      <td>0.000000</td>\n",
              "      <td>0.750000</td>\n",
              "      <td>0.000000</td>\n",
              "      <td>0.250000</td>\n",
              "      <td>0.622839</td>\n",
              "    </tr>\n",
              "  </tbody>\n",
              "</table>\n",
              "</div>\n",
              "      <button class=\"colab-df-convert\" onclick=\"convertToInteractive('df-98f8ed35-a2f4-4b09-95b7-9e228fcab73f')\"\n",
              "              title=\"Convert this dataframe to an interactive table.\"\n",
              "              style=\"display:none;\">\n",
              "        \n",
              "  <svg xmlns=\"http://www.w3.org/2000/svg\" height=\"24px\"viewBox=\"0 0 24 24\"\n",
              "       width=\"24px\">\n",
              "    <path d=\"M0 0h24v24H0V0z\" fill=\"none\"/>\n",
              "    <path d=\"M18.56 5.44l.94 2.06.94-2.06 2.06-.94-2.06-.94-.94-2.06-.94 2.06-2.06.94zm-11 1L8.5 8.5l.94-2.06 2.06-.94-2.06-.94L8.5 2.5l-.94 2.06-2.06.94zm10 10l.94 2.06.94-2.06 2.06-.94-2.06-.94-.94-2.06-.94 2.06-2.06.94z\"/><path d=\"M17.41 7.96l-1.37-1.37c-.4-.4-.92-.59-1.43-.59-.52 0-1.04.2-1.43.59L10.3 9.45l-7.72 7.72c-.78.78-.78 2.05 0 2.83L4 21.41c.39.39.9.59 1.41.59.51 0 1.02-.2 1.41-.59l7.78-7.78 2.81-2.81c.8-.78.8-2.07 0-2.86zM5.41 20L4 18.59l7.72-7.72 1.47 1.35L5.41 20z\"/>\n",
              "  </svg>\n",
              "      </button>\n",
              "      \n",
              "  <style>\n",
              "    .colab-df-container {\n",
              "      display:flex;\n",
              "      flex-wrap:wrap;\n",
              "      gap: 12px;\n",
              "    }\n",
              "\n",
              "    .colab-df-convert {\n",
              "      background-color: #E8F0FE;\n",
              "      border: none;\n",
              "      border-radius: 50%;\n",
              "      cursor: pointer;\n",
              "      display: none;\n",
              "      fill: #1967D2;\n",
              "      height: 32px;\n",
              "      padding: 0 0 0 0;\n",
              "      width: 32px;\n",
              "    }\n",
              "\n",
              "    .colab-df-convert:hover {\n",
              "      background-color: #E2EBFA;\n",
              "      box-shadow: 0px 1px 2px rgba(60, 64, 67, 0.3), 0px 1px 3px 1px rgba(60, 64, 67, 0.15);\n",
              "      fill: #174EA6;\n",
              "    }\n",
              "\n",
              "    [theme=dark] .colab-df-convert {\n",
              "      background-color: #3B4455;\n",
              "      fill: #D2E3FC;\n",
              "    }\n",
              "\n",
              "    [theme=dark] .colab-df-convert:hover {\n",
              "      background-color: #434B5C;\n",
              "      box-shadow: 0px 1px 3px 1px rgba(0, 0, 0, 0.15);\n",
              "      filter: drop-shadow(0px 1px 2px rgba(0, 0, 0, 0.3));\n",
              "      fill: #FFFFFF;\n",
              "    }\n",
              "  </style>\n",
              "\n",
              "      <script>\n",
              "        const buttonEl =\n",
              "          document.querySelector('#df-98f8ed35-a2f4-4b09-95b7-9e228fcab73f button.colab-df-convert');\n",
              "        buttonEl.style.display =\n",
              "          google.colab.kernel.accessAllowed ? 'block' : 'none';\n",
              "\n",
              "        async function convertToInteractive(key) {\n",
              "          const element = document.querySelector('#df-98f8ed35-a2f4-4b09-95b7-9e228fcab73f');\n",
              "          const dataTable =\n",
              "            await google.colab.kernel.invokeFunction('convertToInteractive',\n",
              "                                                     [key], {});\n",
              "          if (!dataTable) return;\n",
              "\n",
              "          const docLinkHtml = 'Like what you see? Visit the ' +\n",
              "            '<a target=\"_blank\" href=https://colab.research.google.com/notebooks/data_table.ipynb>data table notebook</a>'\n",
              "            + ' to learn more about interactive tables.';\n",
              "          element.innerHTML = '';\n",
              "          dataTable['output_type'] = 'display_data';\n",
              "          await google.colab.output.renderOutput(dataTable, element);\n",
              "          const docLink = document.createElement('div');\n",
              "          docLink.innerHTML = docLinkHtml;\n",
              "          element.appendChild(docLink);\n",
              "        }\n",
              "      </script>\n",
              "    </div>\n",
              "  </div>\n",
              "  "
            ]
          },
          "metadata": {},
          "execution_count": 98
        }
      ]
    },
    {
      "cell_type": "code",
      "source": [
        "sns.set_palette(\"Spectral\")"
      ],
      "metadata": {
        "id": "EAPR4o4Qpe-4"
      },
      "execution_count": 99,
      "outputs": []
    },
    {
      "cell_type": "code",
      "source": [
        "import matplotlib.pyplot as plt\n",
        "# visualizing the distribution of ratio watched, percent of people who watches\n",
        "# the full video, and the average watch time in seconds \n",
        "\n",
        "fig, axs = plt.subplots(1,3, figsize=(15, 5))\n",
        "\n",
        "sns.distplot(oatmeal[\"ratio_watched\"], color=\"skyblue\", ax=axs[0], bins=20)\n",
        "sns.distplot(oatmeal[\"percent_watched_full\"], color=\"gold\", ax=axs[1], bins=20)\n",
        "sns.distplot(oatmeal[\"average_watch_time_seconds\"], color=\"teal\", ax=axs[2], bins=20)\n",
        "\n",
        "plt.show()"
      ],
      "metadata": {
        "colab": {
          "base_uri": "https://localhost:8080/",
          "height": 459
        },
        "id": "bCYWpVjXrMff",
        "outputId": "a8a17d92-2f24-4be1-e7b8-54d71f9385bd"
      },
      "execution_count": 100,
      "outputs": [
        {
          "output_type": "stream",
          "name": "stderr",
          "text": [
            "/usr/local/lib/python3.7/dist-packages/seaborn/distributions.py:2619: FutureWarning: `distplot` is a deprecated function and will be removed in a future version. Please adapt your code to use either `displot` (a figure-level function with similar flexibility) or `histplot` (an axes-level function for histograms).\n",
            "  warnings.warn(msg, FutureWarning)\n",
            "/usr/local/lib/python3.7/dist-packages/seaborn/distributions.py:2619: FutureWarning: `distplot` is a deprecated function and will be removed in a future version. Please adapt your code to use either `displot` (a figure-level function with similar flexibility) or `histplot` (an axes-level function for histograms).\n",
            "  warnings.warn(msg, FutureWarning)\n",
            "/usr/local/lib/python3.7/dist-packages/seaborn/distributions.py:2619: FutureWarning: `distplot` is a deprecated function and will be removed in a future version. Please adapt your code to use either `displot` (a figure-level function with similar flexibility) or `histplot` (an axes-level function for histograms).\n",
            "  warnings.warn(msg, FutureWarning)\n"
          ]
        },
        {
          "output_type": "display_data",
          "data": {
            "text/plain": [
              "<Figure size 1080x360 with 3 Axes>"
            ],
            "image/png": "[encoded data removed]"
          },
          "metadata": {
            "needs_background": "light"
          }
        }
      ]
    },
    {
      "cell_type": "code",
      "source": [
        "# creating a heatmap of all of the variables\n",
        "correlation = oatmeal.corr()"
      ],
      "metadata": {
        "id": "xxgDKl9hizSM"
      },
      "execution_count": 101,
      "outputs": []
    },
    {
      "cell_type": "code",
      "source": [
        "# heatmap\n",
        "sns.heatmap(correlation, xticklabels=correlation.columns, yticklabels=correlation.columns, annot=False)"
      ],
      "metadata": {
        "colab": {
          "base_uri": "https://localhost:8080/",
          "height": 426
        },
        "id": "AUE2P1wnjJ5r",
        "outputId": "7fb913cd-32bc-4d81-86f9-fcb5e438f194"
      },
      "execution_count": 102,
      "outputs": [
        {
          "output_type": "execute_result",
          "data": {
            "text/plain": [
              "<matplotlib.axes._subplots.AxesSubplot at 0x7fa0bf541f90>"
            ]
          },
          "metadata": {},
          "execution_count": 102
        },
        {
          "output_type": "display_data",
          "data": {
            "text/plain": [
              "<Figure size 432x288 with 2 Axes>"
            ],
            "image/png": "[encoded data removed]"
          },
          "metadata": {
            "needs_background": "light"
          }
        }
      ]
    },
    {
      "cell_type": "code",
      "source": [
        "# visualizing the distribution of viral videos by ratio_watched and percent_watched_full\n",
        "sns.relplot(x='ratio_watched', y='percent_watched_full', hue='viral', data=oatmeal)"
      ],
      "metadata": {
        "colab": {
          "base_uri": "https://localhost:8080/",
          "height": 387
        },
        "id": "_MkqkiddjoAq",
        "outputId": "0c07abef-5eb4-4434-f41b-a3b52c8b66ef"
      },
      "execution_count": 103,
      "outputs": [
        {
          "output_type": "execute_result",
          "data": {
            "text/plain": [
              "<seaborn.axisgrid.FacetGrid at 0x7fa0bcc2d490>"
            ]
          },
          "metadata": {},
          "execution_count": 103
        },
        {
          "output_type": "display_data",
          "data": {
            "text/plain": [
              "<Figure size 402.375x360 with 1 Axes>"
            ],
            "image/png": "[encoded data removed]"
          },
          "metadata": {
            "needs_background": "light"
          }
        }
      ]
    },
    {
      "cell_type": "markdown",
      "source": [
        "There appears to be a trend in the graph above of higher ratio watched paired with a higher percentage of people watching the full video resulting in a viral video."
      ],
      "metadata": {
        "id": "28iz_6ySXYRD"
      }
    },
    {
      "cell_type": "code",
      "source": [
        "# checking the average plays grouped by day of the week to see if any days appear more\n",
        "# promising to post on\n",
        "oatmeal.groupby(by = 'day_of_week')['plays'].mean().plot(kind = 'bar')"
      ],
      "metadata": {
        "colab": {
          "base_uri": "https://localhost:8080/",
          "height": 345
        },
        "id": "DvSg97w1VCOC",
        "outputId": "d68d14c5-14ee-4ce9-bdb2-99a7d75fec07"
      },
      "execution_count": 104,
      "outputs": [
        {
          "output_type": "execute_result",
          "data": {
            "text/plain": [
              "<matplotlib.axes._subplots.AxesSubplot at 0x7fa0bcbbef50>"
            ]
          },
          "metadata": {},
          "execution_count": 104
        },
        {
          "output_type": "display_data",
          "data": {
            "text/plain": [
              "<Figure size 432x288 with 1 Axes>"
            ],
            "image/png": "[encoded data removed]"
          },
          "metadata": {
            "needs_background": "light"
          }
        }
      ]
    },
    {
      "cell_type": "markdown",
      "source": [
        "The graph above shows that posting on Sundays might be the best day to post for views. This does not, however, take into account that the days I post videos may not be uniformly distributed over all days of the week."
      ],
      "metadata": {
        "id": "-iEmfmHmXvV9"
      }
    },
    {
      "cell_type": "markdown",
      "source": [
        "I am also curious if using captions on a video results in reaching a higher audience so I want to visualize ther plays grouped by captions."
      ],
      "metadata": {
        "id": "R18eeVNwZl4b"
      }
    },
    {
      "cell_type": "code",
      "source": [
        "# checking the average plays grouped by voiceover, in-video text, and captions\n",
        "\n",
        "#setting up subplots\n",
        "fig, axes = plt.subplots(1, 3, sharex=True, figsize=(15,5))\n",
        "\n",
        "sns.barplot(ax=axes[0], x=oatmeal['voiceover'], y=oatmeal['plays'])\n",
        "axes[0].set_title('Average Plays by Voiceover Bool')\n",
        "\n",
        "sns.barplot(ax=axes[1], x=oatmeal['in_video_text'], y=oatmeal['plays'])\n",
        "axes[1].set_title('Average Plays by Video Text Bool')\n",
        "\n",
        "sns.barplot(ax=axes[2], x=oatmeal['captions'], y=oatmeal['plays'])\n",
        "axes[2].set_title('Average Plays by Caption Bool')"
      ],
      "metadata": {
        "colab": {
          "base_uri": "https://localhost:8080/",
          "height": 368
        },
        "id": "xiu6lJkSZjd9",
        "outputId": "46ddcaf4-806e-4b29-ce38-eaac971e29a1"
      },
      "execution_count": 105,
      "outputs": [
        {
          "output_type": "execute_result",
          "data": {
            "text/plain": [
              "Text(0.5, 1.0, 'Average Plays by Caption Bool')"
            ]
          },
          "metadata": {},
          "execution_count": 105
        },
        {
          "output_type": "display_data",
          "data": {
            "text/plain": [
              "<Figure size 1080x360 with 3 Axes>"
            ],
            "image/png": "[encoded data removed]"
          },
          "metadata": {
            "needs_background": "light"
          }
        }
      ]
    },
    {
      "cell_type": "markdown",
      "source": [
        "From the visualization above, it appears that having a voiceover and captions may be beneficial in reaching a higher audience, while having text in the video has a smaller difference between the audience reached for whether text was included or not."
      ],
      "metadata": {
        "id": "PvDniivBdbdQ"
      }
    },
    {
      "cell_type": "markdown",
      "source": [
        "Detecting and removing outliers for 'plays'"
      ],
      "metadata": {
        "id": "cf0rNHhUpZ1R"
      }
    },
    {
      "cell_type": "code",
      "source": [
        "# using inter quartile range\n",
        "Q1 = np.percentile(oatmeal['plays'], 25,\n",
        "                   interpolation = 'midpoint')\n",
        " \n",
        "Q3 = np.percentile(oatmeal['plays'], 75,\n",
        "                   interpolation = 'midpoint')\n",
        "IQR = Q3 - Q1"
      ],
      "metadata": {
        "id": "CiVzGtrVthbO"
      },
      "execution_count": 106,
      "outputs": []
    },
    {
      "cell_type": "code",
      "source": [
        "print(\"old shape:\", oatmeal.shape)"
      ],
      "metadata": {
        "colab": {
          "base_uri": "https://localhost:8080/"
        },
        "id": "GwSex9cSu27Z",
        "outputId": "f0c6d83c-3718-4014-b469-0bd3565d4fa3"
      },
      "execution_count": 107,
      "outputs": [
        {
          "output_type": "stream",
          "name": "stdout",
          "text": [
            "old shape: (105, 16)\n"
          ]
        }
      ]
    },
    {
      "cell_type": "code",
      "source": [
        "# above upper bound - plays\n",
        "upper = np.where(oatmeal['plays'] >= (Q3+1.5*IQR))\n",
        " \n",
        "# below lower bound - plays\n",
        "lower = np.where(oatmeal['plays'] <= (Q1-1.5*IQR))"
      ],
      "metadata": {
        "id": "2aTv7a8bt3xE"
      },
      "execution_count": 108,
      "outputs": []
    },
    {
      "cell_type": "code",
      "source": [
        "# removing plays outliers\n",
        "oatmeal.drop(upper[0], inplace=True)\n",
        "oatmeal.drop(lower[0], inplace=True)"
      ],
      "metadata": {
        "id": "g-g9f35ivC6K"
      },
      "execution_count": 109,
      "outputs": []
    },
    {
      "cell_type": "code",
      "source": [
        "oat_no_outliers = oatmeal"
      ],
      "metadata": {
        "id": "u6qCUaXhLXWq"
      },
      "execution_count": 110,
      "outputs": []
    },
    {
      "cell_type": "code",
      "source": [
        "print(\"new shape:\", oat_no_outliers.shape)"
      ],
      "metadata": {
        "colab": {
          "base_uri": "https://localhost:8080/"
        },
        "id": "pPab6xjwvOHf",
        "outputId": "677eb20a-c838-476d-a4d5-ce1d84e57592"
      },
      "execution_count": 111,
      "outputs": [
        {
          "output_type": "stream",
          "name": "stdout",
          "text": [
            "new shape: (85, 16)\n"
          ]
        }
      ]
    },
    {
      "cell_type": "code",
      "source": [
        "sns.boxplot(oat_no_outliers['plays'])"
      ],
      "metadata": {
        "colab": {
          "base_uri": "https://localhost:8080/",
          "height": 351
        },
        "id": "ipx5eBySveBc",
        "outputId": "80fc2ab6-489e-41b5-da22-1e80944abeba"
      },
      "execution_count": 112,
      "outputs": [
        {
          "output_type": "stream",
          "name": "stderr",
          "text": [
            "/usr/local/lib/python3.7/dist-packages/seaborn/_decorators.py:43: FutureWarning: Pass the following variable as a keyword arg: x. From version 0.12, the only valid positional argument will be `data`, and passing other arguments without an explicit keyword will result in an error or misinterpretation.\n",
            "  FutureWarning\n"
          ]
        },
        {
          "output_type": "execute_result",
          "data": {
            "text/plain": [
              "<matplotlib.axes._subplots.AxesSubplot at 0x7fa0bc9f6310>"
            ]
          },
          "metadata": {},
          "execution_count": 112
        },
        {
          "output_type": "display_data",
          "data": {
            "text/plain": [
              "<Figure size 432x288 with 1 Axes>"
            ],
            "image/png": "[encoded data removed]"
          },
          "metadata": {
            "needs_background": "light"
          }
        }
      ]
    },
    {
      "cell_type": "code",
      "source": [
        "# meal plays of videos without outliers of videos who go viral immediately\n",
        "oat_no_outliers['plays'].mean()"
      ],
      "metadata": {
        "colab": {
          "base_uri": "https://localhost:8080/"
        },
        "id": "3WnGKackyS1f",
        "outputId": "7df3b21c-e7b6-41d3-f1f9-3dd1c7c94291"
      },
      "execution_count": 113,
      "outputs": [
        {
          "output_type": "execute_result",
          "data": {
            "text/plain": [
              "53161.771764705874"
            ]
          },
          "metadata": {},
          "execution_count": 113
        }
      ]
    },
    {
      "cell_type": "code",
      "source": [
        "oat_no_outliers.describe()"
      ],
      "metadata": {
        "colab": {
          "base_uri": "https://localhost:8080/",
          "height": 344
        },
        "id": "cpcc6JApKvMU",
        "outputId": "2f484501-9047-46b7-962d-16b98d304e04"
      },
      "execution_count": 115,
      "outputs": [
        {
          "output_type": "execute_result",
          "data": {
            "text/plain": [
              "              hour   duration  average_watch_time_seconds  \\\n",
              "count    85.000000  85.000000                   85.000000   \n",
              "mean   1068.235294  34.015882                   16.101176   \n",
              "std     237.151632  17.452939                    7.251346   \n",
              "min     700.000000   8.000000                    3.700000   \n",
              "25%     900.000000  19.990000                   10.000000   \n",
              "50%    1000.000000  32.600000                   15.200000   \n",
              "75%    1100.000000  53.000000                   22.300000   \n",
              "max    2100.000000  60.110000                   35.500000   \n",
              "\n",
              "       percent_watched_full          plays        likes     comments  \\\n",
              "count             85.000000      85.000000    85.000000    85.000000   \n",
              "mean              24.348588   53161.771765  2434.682353    50.258824   \n",
              "std               12.259442   35527.591244  1867.152787   147.115532   \n",
              "min                2.470000     136.600000   155.000000     1.000000   \n",
              "25%               16.150000   25300.000000  1031.000000    13.000000   \n",
              "50%               21.380000   53200.000000  2029.000000    21.000000   \n",
              "75%               30.370000   67300.000000  3582.000000    44.000000   \n",
              "max               63.510000  198800.000000  8230.000000  1342.000000   \n",
              "\n",
              "           shares  voiceover  in_video_text   captions      viral  \\\n",
              "count   85.000000  85.000000      85.000000  85.000000  85.000000   \n",
              "mean   105.035294   0.552941       0.494118   0.470588   0.164706   \n",
              "std    147.640768   0.500140       0.502933   0.502096   0.373116   \n",
              "min      1.000000   0.000000       0.000000   0.000000   0.000000   \n",
              "25%     12.000000   0.000000       0.000000   0.000000   0.000000   \n",
              "50%     41.000000   1.000000       0.000000   0.000000   0.000000   \n",
              "75%    137.000000   1.000000       1.000000   1.000000   0.000000   \n",
              "max    901.000000   1.000000       1.000000   1.000000   1.000000   \n",
              "\n",
              "       ratio_watched  \n",
              "count      85.000000  \n",
              "mean        0.522387  \n",
              "std         0.168615  \n",
              "min         0.167273  \n",
              "25%         0.405714  \n",
              "50%         0.500000  \n",
              "75%         0.600000  \n",
              "max         1.033435  "
            ],
            "text/html": [
              "\n",
              "  <div id=\"df-d9206fce-0962-47ae-af6f-c7daccb4c820\">\n",
              "    <div class=\"colab-df-container\">\n",
              "      <div>\n",
              "<style scoped>\n",
              "    .dataframe tbody tr th:only-of-type {\n",
              "        vertical-align: middle;\n",
              "    }\n",
              "\n",
              "    .dataframe tbody tr th {\n",
              "        vertical-align: top;\n",
              "    }\n",
              "\n",
              "    .dataframe thead th {\n",
              "        text-align: right;\n",
              "    }\n",
              "</style>\n",
              "<table border=\"1\" class=\"dataframe\">\n",
              "  <thead>\n",
              "    <tr style=\"text-align: right;\">\n",
              "      <th></th>\n",
              "      <th>hour</th>\n",
              "      <th>duration</th>\n",
              "      <th>average_watch_time_seconds</th>\n",
              "      <th>percent_watched_full</th>\n",
              "      <th>plays</th>\n",
              "      <th>likes</th>\n",
              "      <th>comments</th>\n",
              "      <th>shares</th>\n",
              "      <th>voiceover</th>\n",
              "      <th>in_video_text</th>\n",
              "      <th>captions</th>\n",
              "      <th>viral</th>\n",
              "      <th>ratio_watched</th>\n",
              "    </tr>\n",
              "  </thead>\n",
              "  <tbody>\n",
              "    <tr>\n",
              "      <th>count</th>\n",
              "      <td>85.000000</td>\n",
              "      <td>85.000000</td>\n",
              "      <td>85.000000</td>\n",
              "      <td>85.000000</td>\n",
              "      <td>85.000000</td>\n",
              "      <td>85.000000</td>\n",
              "      <td>85.000000</td>\n",
              "      <td>85.000000</td>\n",
              "      <td>85.000000</td>\n",
              "      <td>85.000000</td>\n",
              "      <td>85.000000</td>\n",
              "      <td>85.000000</td>\n",
              "      <td>85.000000</td>\n",
              "    </tr>\n",
              "    <tr>\n",
              "      <th>mean</th>\n",
              "      <td>1068.235294</td>\n",
              "      <td>34.015882</td>\n",
              "      <td>16.101176</td>\n",
              "      <td>24.348588</td>\n",
              "      <td>53161.771765</td>\n",
              "      <td>2434.682353</td>\n",
              "      <td>50.258824</td>\n",
              "      <td>105.035294</td>\n",
              "      <td>0.552941</td>\n",
              "      <td>0.494118</td>\n",
              "      <td>0.470588</td>\n",
              "      <td>0.164706</td>\n",
              "      <td>0.522387</td>\n",
              "    </tr>\n",
              "    <tr>\n",
              "      <th>std</th>\n",
              "      <td>237.151632</td>\n",
              "      <td>17.452939</td>\n",
              "      <td>7.251346</td>\n",
              "      <td>12.259442</td>\n",
              "      <td>35527.591244</td>\n",
              "      <td>1867.152787</td>\n",
              "      <td>147.115532</td>\n",
              "      <td>147.640768</td>\n",
              "      <td>0.500140</td>\n",
              "      <td>0.502933</td>\n",
              "      <td>0.502096</td>\n",
              "      <td>0.373116</td>\n",
              "      <td>0.168615</td>\n",
              "    </tr>\n",
              "    <tr>\n",
              "      <th>min</th>\n",
              "      <td>700.000000</td>\n",
              "      <td>8.000000</td>\n",
              "      <td>3.700000</td>\n",
              "      <td>2.470000</td>\n",
              "      <td>136.600000</td>\n",
              "      <td>155.000000</td>\n",
              "      <td>1.000000</td>\n",
              "      <td>1.000000</td>\n",
              "      <td>0.000000</td>\n",
              "      <td>0.000000</td>\n",
              "      <td>0.000000</td>\n",
              "      <td>0.000000</td>\n",
              "      <td>0.167273</td>\n",
              "    </tr>\n",
              "    <tr>\n",
              "      <th>25%</th>\n",
              "      <td>900.000000</td>\n",
              "      <td>19.990000</td>\n",
              "      <td>10.000000</td>\n",
              "      <td>16.150000</td>\n",
              "      <td>25300.000000</td>\n",
              "      <td>1031.000000</td>\n",
              "      <td>13.000000</td>\n",
              "      <td>12.000000</td>\n",
              "      <td>0.000000</td>\n",
              "      <td>0.000000</td>\n",
              "      <td>0.000000</td>\n",
              "      <td>0.000000</td>\n",
              "      <td>0.405714</td>\n",
              "    </tr>\n",
              "    <tr>\n",
              "      <th>50%</th>\n",
              "      <td>1000.000000</td>\n",
              "      <td>32.600000</td>\n",
              "      <td>15.200000</td>\n",
              "      <td>21.380000</td>\n",
              "      <td>53200.000000</td>\n",
              "      <td>2029.000000</td>\n",
              "      <td>21.000000</td>\n",
              "      <td>41.000000</td>\n",
              "      <td>1.000000</td>\n",
              "      <td>0.000000</td>\n",
              "      <td>0.000000</td>\n",
              "      <td>0.000000</td>\n",
              "      <td>0.500000</td>\n",
              "    </tr>\n",
              "    <tr>\n",
              "      <th>75%</th>\n",
              "      <td>1100.000000</td>\n",
              "      <td>53.000000</td>\n",
              "      <td>22.300000</td>\n",
              "      <td>30.370000</td>\n",
              "      <td>67300.000000</td>\n",
              "      <td>3582.000000</td>\n",
              "      <td>44.000000</td>\n",
              "      <td>137.000000</td>\n",
              "      <td>1.000000</td>\n",
              "      <td>1.000000</td>\n",
              "      <td>1.000000</td>\n",
              "      <td>0.000000</td>\n",
              "      <td>0.600000</td>\n",
              "    </tr>\n",
              "    <tr>\n",
              "      <th>max</th>\n",
              "      <td>2100.000000</td>\n",
              "      <td>60.110000</td>\n",
              "      <td>35.500000</td>\n",
              "      <td>63.510000</td>\n",
              "      <td>198800.000000</td>\n",
              "      <td>8230.000000</td>\n",
              "      <td>1342.000000</td>\n",
              "      <td>901.000000</td>\n",
              "      <td>1.000000</td>\n",
              "      <td>1.000000</td>\n",
              "      <td>1.000000</td>\n",
              "      <td>1.000000</td>\n",
              "      <td>1.033435</td>\n",
              "    </tr>\n",
              "  </tbody>\n",
              "</table>\n",
              "</div>\n",
              "      <button class=\"colab-df-convert\" onclick=\"convertToInteractive('df-d9206fce-0962-47ae-af6f-c7daccb4c820')\"\n",
              "              title=\"Convert this dataframe to an interactive table.\"\n",
              "              style=\"display:none;\">\n",
              "        \n",
              "  <svg xmlns=\"http://www.w3.org/2000/svg\" height=\"24px\"viewBox=\"0 0 24 24\"\n",
              "       width=\"24px\">\n",
              "    <path d=\"M0 0h24v24H0V0z\" fill=\"none\"/>\n",
              "    <path d=\"M18.56 5.44l.94 2.06.94-2.06 2.06-.94-2.06-.94-.94-2.06-.94 2.06-2.06.94zm-11 1L8.5 8.5l.94-2.06 2.06-.94-2.06-.94L8.5 2.5l-.94 2.06-2.06.94zm10 10l.94 2.06.94-2.06 2.06-.94-2.06-.94-.94-2.06-.94 2.06-2.06.94z\"/><path d=\"M17.41 7.96l-1.37-1.37c-.4-.4-.92-.59-1.43-.59-.52 0-1.04.2-1.43.59L10.3 9.45l-7.72 7.72c-.78.78-.78 2.05 0 2.83L4 21.41c.39.39.9.59 1.41.59.51 0 1.02-.2 1.41-.59l7.78-7.78 2.81-2.81c.8-.78.8-2.07 0-2.86zM5.41 20L4 18.59l7.72-7.72 1.47 1.35L5.41 20z\"/>\n",
              "  </svg>\n",
              "      </button>\n",
              "      \n",
              "  <style>\n",
              "    .colab-df-container {\n",
              "      display:flex;\n",
              "      flex-wrap:wrap;\n",
              "      gap: 12px;\n",
              "    }\n",
              "\n",
              "    .colab-df-convert {\n",
              "      background-color: #E8F0FE;\n",
              "      border: none;\n",
              "      border-radius: 50%;\n",
              "      cursor: pointer;\n",
              "      display: none;\n",
              "      fill: #1967D2;\n",
              "      height: 32px;\n",
              "      padding: 0 0 0 0;\n",
              "      width: 32px;\n",
              "    }\n",
              "\n",
              "    .colab-df-convert:hover {\n",
              "      background-color: #E2EBFA;\n",
              "      box-shadow: 0px 1px 2px rgba(60, 64, 67, 0.3), 0px 1px 3px 1px rgba(60, 64, 67, 0.15);\n",
              "      fill: #174EA6;\n",
              "    }\n",
              "\n",
              "    [theme=dark] .colab-df-convert {\n",
              "      background-color: #3B4455;\n",
              "      fill: #D2E3FC;\n",
              "    }\n",
              "\n",
              "    [theme=dark] .colab-df-convert:hover {\n",
              "      background-color: #434B5C;\n",
              "      box-shadow: 0px 1px 3px 1px rgba(0, 0, 0, 0.15);\n",
              "      filter: drop-shadow(0px 1px 2px rgba(0, 0, 0, 0.3));\n",
              "      fill: #FFFFFF;\n",
              "    }\n",
              "  </style>\n",
              "\n",
              "      <script>\n",
              "        const buttonEl =\n",
              "          document.querySelector('#df-d9206fce-0962-47ae-af6f-c7daccb4c820 button.colab-df-convert');\n",
              "        buttonEl.style.display =\n",
              "          google.colab.kernel.accessAllowed ? 'block' : 'none';\n",
              "\n",
              "        async function convertToInteractive(key) {\n",
              "          const element = document.querySelector('#df-d9206fce-0962-47ae-af6f-c7daccb4c820');\n",
              "          const dataTable =\n",
              "            await google.colab.kernel.invokeFunction('convertToInteractive',\n",
              "                                                     [key], {});\n",
              "          if (!dataTable) return;\n",
              "\n",
              "          const docLinkHtml = 'Like what you see? Visit the ' +\n",
              "            '<a target=\"_blank\" href=https://colab.research.google.com/notebooks/data_table.ipynb>data table notebook</a>'\n",
              "            + ' to learn more about interactive tables.';\n",
              "          element.innerHTML = '';\n",
              "          dataTable['output_type'] = 'display_data';\n",
              "          await google.colab.output.renderOutput(dataTable, element);\n",
              "          const docLink = document.createElement('div');\n",
              "          docLink.innerHTML = docLinkHtml;\n",
              "          element.appendChild(docLink);\n",
              "        }\n",
              "      </script>\n",
              "    </div>\n",
              "  </div>\n",
              "  "
            ]
          },
          "metadata": {},
          "execution_count": 115
        }
      ]
    },
    {
      "cell_type": "markdown",
      "source": [
        "Observations:\n",
        "\n",
        "\n",
        "*   Try to optimize watch ratio and increace percent watched full\n",
        "*   Include a voiceover and captions\n",
        "*   Post on Sundays\n",
        "\n",
        "\n",
        "\n",
        "\n"
      ],
      "metadata": {
        "id": "3RXM6Ku3d1Ku"
      }
    },
    {
      "cell_type": "markdown",
      "source": [
        "## This is ongoing! (last updated 02/27/2022)"
      ],
      "metadata": {
        "id": "Rqh42TUA0qRd"
      }
    }
  ]
}